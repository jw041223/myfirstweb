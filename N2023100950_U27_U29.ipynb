{
  "cells": [
    {
      "cell_type": "markdown",
      "metadata": {
        "id": "view-in-github",
        "colab_type": "text"
      },
      "source": [
        "<a href=\"https://colab.research.google.com/github/jw041223/myfirstweb/blob/main/N2023100950_U27_U29.ipynb\" target=\"_parent\"><img src=\"https://colab.research.google.com/assets/colab-badge.svg\" alt=\"Open In Colab\"/></a>"
      ]
    },
    {
      "cell_type": "markdown",
      "source": [
        "#Unit24-Main"
      ],
      "metadata": {
        "id": "TUJqO6VaWH1i"
      },
      "id": "TUJqO6VaWH1i"
    },
    {
      "cell_type": "code",
      "source": [
        "'Hello, world!'.replace('world', 'Python')"
      ],
      "metadata": {
        "colab": {
          "base_uri": "https://localhost:8080/",
          "height": 36
        },
        "id": "Bun5_qVyV4C0",
        "outputId": "e0fad2d4-5357-4de7-8334-1c8ea99a64e4"
      },
      "id": "Bun5_qVyV4C0",
      "execution_count": 1,
      "outputs": [
        {
          "output_type": "execute_result",
          "data": {
            "text/plain": [
              "'Hello, Python!'"
            ],
            "application/vnd.google.colaboratory.intrinsic+json": {
              "type": "string"
            }
          },
          "metadata": {},
          "execution_count": 1
        }
      ]
    },
    {
      "cell_type": "code",
      "source": [
        "s = 'Hello, world'\n",
        "s = s.replace('world', 'Python')\n",
        "s"
      ],
      "metadata": {
        "colab": {
          "base_uri": "https://localhost:8080/",
          "height": 36
        },
        "id": "C5FO8-D1WMlH",
        "outputId": "a8dfb126-7a99-4530-f38c-98e6298ebbc6"
      },
      "id": "C5FO8-D1WMlH",
      "execution_count": 2,
      "outputs": [
        {
          "output_type": "execute_result",
          "data": {
            "text/plain": [
              "'Hello, Python'"
            ],
            "application/vnd.google.colaboratory.intrinsic+json": {
              "type": "string"
            }
          },
          "metadata": {},
          "execution_count": 2
        }
      ]
    },
    {
      "cell_type": "code",
      "source": [
        "table = str.maketrans('aeiou', '12345')\n",
        "'apple'.translate(table)"
      ],
      "metadata": {
        "colab": {
          "base_uri": "https://localhost:8080/",
          "height": 36
        },
        "id": "ajNC_ChtWMoF",
        "outputId": "c8ca95d6-1444-41d4-ad6b-87505a532df4"
      },
      "id": "ajNC_ChtWMoF",
      "execution_count": 4,
      "outputs": [
        {
          "output_type": "execute_result",
          "data": {
            "text/plain": [
              "'1ppl2'"
            ],
            "application/vnd.google.colaboratory.intrinsic+json": {
              "type": "string"
            }
          },
          "metadata": {},
          "execution_count": 4
        }
      ]
    },
    {
      "cell_type": "code",
      "source": [
        "'apple pear grape pineapple orange'.split()"
      ],
      "metadata": {
        "colab": {
          "base_uri": "https://localhost:8080/"
        },
        "id": "TnSX2g5oWMqb",
        "outputId": "0840cc6a-1c37-4adb-c9d1-c4480a18b87a"
      },
      "id": "TnSX2g5oWMqb",
      "execution_count": 5,
      "outputs": [
        {
          "output_type": "execute_result",
          "data": {
            "text/plain": [
              "['apple', 'pear', 'grape', 'pineapple', 'orange']"
            ]
          },
          "metadata": {},
          "execution_count": 5
        }
      ]
    },
    {
      "cell_type": "code",
      "source": [
        "'apple, pear, grape, pineapple, orange'.split(', ')"
      ],
      "metadata": {
        "colab": {
          "base_uri": "https://localhost:8080/"
        },
        "id": "bGX7q1UgWMs8",
        "outputId": "2f825e37-d856-4529-8c65-67bfbd0dcbc5"
      },
      "id": "bGX7q1UgWMs8",
      "execution_count": 8,
      "outputs": [
        {
          "output_type": "execute_result",
          "data": {
            "text/plain": [
              "['apple', 'pear', 'grape', 'pineapple', 'orange']"
            ]
          },
          "metadata": {},
          "execution_count": 8
        }
      ]
    },
    {
      "cell_type": "code",
      "source": [
        "' '.join(['apple', 'pear', 'grape', 'pineapple', 'orange'])"
      ],
      "metadata": {
        "colab": {
          "base_uri": "https://localhost:8080/",
          "height": 36
        },
        "id": "VahgCm8QWMvg",
        "outputId": "337e8377-55b4-48e2-fde9-86427c6adda4"
      },
      "id": "VahgCm8QWMvg",
      "execution_count": 10,
      "outputs": [
        {
          "output_type": "execute_result",
          "data": {
            "text/plain": [
              "'apple pear grape pineapple orange'"
            ],
            "application/vnd.google.colaboratory.intrinsic+json": {
              "type": "string"
            }
          },
          "metadata": {},
          "execution_count": 10
        }
      ]
    },
    {
      "cell_type": "code",
      "source": [
        "'-'.join(['apple', 'pear', 'grape', 'pineapple', 'orange'])"
      ],
      "metadata": {
        "colab": {
          "base_uri": "https://localhost:8080/",
          "height": 36
        },
        "id": "GbUmIvZOWMyB",
        "outputId": "9282dca2-366f-4f68-ce42-772bd7696ccc"
      },
      "id": "GbUmIvZOWMyB",
      "execution_count": 11,
      "outputs": [
        {
          "output_type": "execute_result",
          "data": {
            "text/plain": [
              "'apple-pear-grape-pineapple-orange'"
            ],
            "application/vnd.google.colaboratory.intrinsic+json": {
              "type": "string"
            }
          },
          "metadata": {},
          "execution_count": 11
        }
      ]
    },
    {
      "cell_type": "code",
      "source": [
        "'python'.upper()"
      ],
      "metadata": {
        "colab": {
          "base_uri": "https://localhost:8080/",
          "height": 36
        },
        "id": "CK8M-5w9WM2Z",
        "outputId": "60aa5a3c-4ba3-4982-f780-82ce0d6afcb1"
      },
      "id": "CK8M-5w9WM2Z",
      "execution_count": 12,
      "outputs": [
        {
          "output_type": "execute_result",
          "data": {
            "text/plain": [
              "'PYTHON'"
            ],
            "application/vnd.google.colaboratory.intrinsic+json": {
              "type": "string"
            }
          },
          "metadata": {},
          "execution_count": 12
        }
      ]
    },
    {
      "cell_type": "code",
      "source": [
        "'PYTHON'.lower()"
      ],
      "metadata": {
        "colab": {
          "base_uri": "https://localhost:8080/",
          "height": 36
        },
        "id": "0mbBVwT5WM4w",
        "outputId": "84df2d07-a999-4a08-dc0d-c85c8ae85d1b"
      },
      "id": "0mbBVwT5WM4w",
      "execution_count": 13,
      "outputs": [
        {
          "output_type": "execute_result",
          "data": {
            "text/plain": [
              "'python'"
            ],
            "application/vnd.google.colaboratory.intrinsic+json": {
              "type": "string"
            }
          },
          "metadata": {},
          "execution_count": 13
        }
      ]
    },
    {
      "cell_type": "code",
      "source": [
        "'    python    '.lstrip()"
      ],
      "metadata": {
        "colab": {
          "base_uri": "https://localhost:8080/",
          "height": 36
        },
        "id": "AAIz62R5WM7P",
        "outputId": "01c0e402-45ab-414c-94ea-11b689fead92"
      },
      "id": "AAIz62R5WM7P",
      "execution_count": 19,
      "outputs": [
        {
          "output_type": "execute_result",
          "data": {
            "text/plain": [
              "'python    '"
            ],
            "application/vnd.google.colaboratory.intrinsic+json": {
              "type": "string"
            }
          },
          "metadata": {},
          "execution_count": 19
        }
      ]
    },
    {
      "cell_type": "code",
      "source": [
        "'    python    '.rstrip()"
      ],
      "metadata": {
        "colab": {
          "base_uri": "https://localhost:8080/",
          "height": 36
        },
        "id": "cVLvHRAnWM9_",
        "outputId": "844e0fa3-ee66-4916-f61d-ce5e928ed38f"
      },
      "id": "cVLvHRAnWM9_",
      "execution_count": 20,
      "outputs": [
        {
          "output_type": "execute_result",
          "data": {
            "text/plain": [
              "'    python'"
            ],
            "application/vnd.google.colaboratory.intrinsic+json": {
              "type": "string"
            }
          },
          "metadata": {},
          "execution_count": 20
        }
      ]
    },
    {
      "cell_type": "code",
      "source": [
        "'    python    '.strip()"
      ],
      "metadata": {
        "colab": {
          "base_uri": "https://localhost:8080/",
          "height": 36
        },
        "id": "jbHD2UZ8WM_9",
        "outputId": "b8a03f1b-fb37-49d0-ecfa-40c36b29e52f"
      },
      "id": "jbHD2UZ8WM_9",
      "execution_count": 21,
      "outputs": [
        {
          "output_type": "execute_result",
          "data": {
            "text/plain": [
              "'python'"
            ],
            "application/vnd.google.colaboratory.intrinsic+json": {
              "type": "string"
            }
          },
          "metadata": {},
          "execution_count": 21
        }
      ]
    },
    {
      "cell_type": "code",
      "source": [
        "', python.'.lstrip(',.')"
      ],
      "metadata": {
        "colab": {
          "base_uri": "https://localhost:8080/",
          "height": 36
        },
        "id": "6Xp8IxJJWNCp",
        "outputId": "6ebfe2a7-0686-4863-d9e3-5e8c5c5b1a39"
      },
      "id": "6Xp8IxJJWNCp",
      "execution_count": 23,
      "outputs": [
        {
          "output_type": "execute_result",
          "data": {
            "text/plain": [
              "' python.'"
            ],
            "application/vnd.google.colaboratory.intrinsic+json": {
              "type": "string"
            }
          },
          "metadata": {},
          "execution_count": 23
        }
      ]
    },
    {
      "cell_type": "code",
      "source": [
        "', python.'.rstrip(',.')"
      ],
      "metadata": {
        "colab": {
          "base_uri": "https://localhost:8080/",
          "height": 36
        },
        "id": "VS7eyDCrWNEt",
        "outputId": "00c0b54e-65ae-4ee6-e085-d17ac53e8620"
      },
      "id": "VS7eyDCrWNEt",
      "execution_count": 24,
      "outputs": [
        {
          "output_type": "execute_result",
          "data": {
            "text/plain": [
              "', python'"
            ],
            "application/vnd.google.colaboratory.intrinsic+json": {
              "type": "string"
            }
          },
          "metadata": {},
          "execution_count": 24
        }
      ]
    },
    {
      "cell_type": "code",
      "source": [
        "', python.'.strip(',.')"
      ],
      "metadata": {
        "colab": {
          "base_uri": "https://localhost:8080/",
          "height": 36
        },
        "id": "iDp74yG7WNHG",
        "outputId": "61c0b7e1-754e-4956-e98e-b50a50d45981"
      },
      "id": "iDp74yG7WNHG",
      "execution_count": 25,
      "outputs": [
        {
          "output_type": "execute_result",
          "data": {
            "text/plain": [
              "' python'"
            ],
            "application/vnd.google.colaboratory.intrinsic+json": {
              "type": "string"
            }
          },
          "metadata": {},
          "execution_count": 25
        }
      ]
    },
    {
      "cell_type": "code",
      "source": [
        "'python'.ljust(10)"
      ],
      "metadata": {
        "colab": {
          "base_uri": "https://localhost:8080/",
          "height": 36
        },
        "id": "9ZgKHPdcWNJP",
        "outputId": "ed2a8ecc-ce74-4df4-9de4-8441e5f80a68"
      },
      "id": "9ZgKHPdcWNJP",
      "execution_count": 26,
      "outputs": [
        {
          "output_type": "execute_result",
          "data": {
            "text/plain": [
              "'python    '"
            ],
            "application/vnd.google.colaboratory.intrinsic+json": {
              "type": "string"
            }
          },
          "metadata": {},
          "execution_count": 26
        }
      ]
    },
    {
      "cell_type": "code",
      "source": [
        "'python'.rjust(10)"
      ],
      "metadata": {
        "colab": {
          "base_uri": "https://localhost:8080/",
          "height": 36
        },
        "id": "fWGvRO-TWNL3",
        "outputId": "447b1a2a-38ae-44be-9f24-92825e9e949f"
      },
      "id": "fWGvRO-TWNL3",
      "execution_count": 27,
      "outputs": [
        {
          "output_type": "execute_result",
          "data": {
            "text/plain": [
              "'    python'"
            ],
            "application/vnd.google.colaboratory.intrinsic+json": {
              "type": "string"
            }
          },
          "metadata": {},
          "execution_count": 27
        }
      ]
    },
    {
      "cell_type": "code",
      "source": [
        "'python'.center(10)"
      ],
      "metadata": {
        "colab": {
          "base_uri": "https://localhost:8080/",
          "height": 36
        },
        "id": "sCgNhpydWNOZ",
        "outputId": "82b05422-2682-48f9-8bf0-eca04ca16189"
      },
      "id": "sCgNhpydWNOZ",
      "execution_count": 29,
      "outputs": [
        {
          "output_type": "execute_result",
          "data": {
            "text/plain": [
              "'  python  '"
            ],
            "application/vnd.google.colaboratory.intrinsic+json": {
              "type": "string"
            }
          },
          "metadata": {},
          "execution_count": 29
        }
      ]
    },
    {
      "cell_type": "code",
      "source": [
        "'python'.center(11)"
      ],
      "metadata": {
        "colab": {
          "base_uri": "https://localhost:8080/",
          "height": 36
        },
        "id": "GTHMDorFaRgc",
        "outputId": "7ef59052-d6b4-4f26-935e-2da00fd618d4"
      },
      "id": "GTHMDorFaRgc",
      "execution_count": 30,
      "outputs": [
        {
          "output_type": "execute_result",
          "data": {
            "text/plain": [
              "'   python  '"
            ],
            "application/vnd.google.colaboratory.intrinsic+json": {
              "type": "string"
            }
          },
          "metadata": {},
          "execution_count": 30
        }
      ]
    },
    {
      "cell_type": "code",
      "source": [
        "'python'.rjust(10).upper()"
      ],
      "metadata": {
        "colab": {
          "base_uri": "https://localhost:8080/",
          "height": 36
        },
        "id": "XBhll-cDaSCf",
        "outputId": "b435ca2b-3899-4598-dd48-922b1d79e42d"
      },
      "id": "XBhll-cDaSCf",
      "execution_count": 32,
      "outputs": [
        {
          "output_type": "execute_result",
          "data": {
            "text/plain": [
              "'    PYTHON'"
            ],
            "application/vnd.google.colaboratory.intrinsic+json": {
              "type": "string"
            }
          },
          "metadata": {},
          "execution_count": 32
        }
      ]
    },
    {
      "cell_type": "code",
      "source": [
        "'35'.zfill(4)"
      ],
      "metadata": {
        "colab": {
          "base_uri": "https://localhost:8080/",
          "height": 36
        },
        "id": "jlWbt5sZaSFQ",
        "outputId": "432a5515-78e6-4f83-eae7-2aa39099faec"
      },
      "id": "jlWbt5sZaSFQ",
      "execution_count": 33,
      "outputs": [
        {
          "output_type": "execute_result",
          "data": {
            "text/plain": [
              "'0035'"
            ],
            "application/vnd.google.colaboratory.intrinsic+json": {
              "type": "string"
            }
          },
          "metadata": {},
          "execution_count": 33
        }
      ]
    },
    {
      "cell_type": "code",
      "source": [
        "'3.5'.zfill(6)"
      ],
      "metadata": {
        "colab": {
          "base_uri": "https://localhost:8080/",
          "height": 36
        },
        "id": "f5_1WJLZaSHb",
        "outputId": "eb5ea31f-ba21-450d-f3f4-db7d3f410860"
      },
      "id": "f5_1WJLZaSHb",
      "execution_count": 34,
      "outputs": [
        {
          "output_type": "execute_result",
          "data": {
            "text/plain": [
              "'0003.5'"
            ],
            "application/vnd.google.colaboratory.intrinsic+json": {
              "type": "string"
            }
          },
          "metadata": {},
          "execution_count": 34
        }
      ]
    },
    {
      "cell_type": "code",
      "source": [
        "'apple pineapple'.find('pl')"
      ],
      "metadata": {
        "colab": {
          "base_uri": "https://localhost:8080/"
        },
        "id": "cr7C46BdaSJ6",
        "outputId": "ceb832a9-1ed2-487c-e859-8c9710e8372f"
      },
      "id": "cr7C46BdaSJ6",
      "execution_count": 35,
      "outputs": [
        {
          "output_type": "execute_result",
          "data": {
            "text/plain": [
              "2"
            ]
          },
          "metadata": {},
          "execution_count": 35
        }
      ]
    },
    {
      "cell_type": "code",
      "source": [
        "'apple pineapple'.find('xy')"
      ],
      "metadata": {
        "colab": {
          "base_uri": "https://localhost:8080/"
        },
        "id": "b9CHVtp8aSMP",
        "outputId": "eabc2047-d3ab-4963-91ef-d0cbdaec92bc"
      },
      "id": "b9CHVtp8aSMP",
      "execution_count": 36,
      "outputs": [
        {
          "output_type": "execute_result",
          "data": {
            "text/plain": [
              "-1"
            ]
          },
          "metadata": {},
          "execution_count": 36
        }
      ]
    },
    {
      "cell_type": "code",
      "source": [
        "'apple pineapple'.rfind('pl')"
      ],
      "metadata": {
        "colab": {
          "base_uri": "https://localhost:8080/"
        },
        "id": "6FUpA9_XaSOq",
        "outputId": "456d9787-db15-4e9c-8408-0aafc604f460"
      },
      "id": "6FUpA9_XaSOq",
      "execution_count": 37,
      "outputs": [
        {
          "output_type": "execute_result",
          "data": {
            "text/plain": [
              "12"
            ]
          },
          "metadata": {},
          "execution_count": 37
        }
      ]
    },
    {
      "cell_type": "code",
      "source": [
        "'apple pineapple'.rfind('xy')"
      ],
      "metadata": {
        "colab": {
          "base_uri": "https://localhost:8080/"
        },
        "id": "pf0XpZFdaSQo",
        "outputId": "9577c84e-943e-40c3-c4b3-e002e47268d6"
      },
      "id": "pf0XpZFdaSQo",
      "execution_count": 39,
      "outputs": [
        {
          "output_type": "execute_result",
          "data": {
            "text/plain": [
              "-1"
            ]
          },
          "metadata": {},
          "execution_count": 39
        }
      ]
    },
    {
      "cell_type": "code",
      "source": [
        "'apple pineapple'.index('pl')"
      ],
      "metadata": {
        "colab": {
          "base_uri": "https://localhost:8080/"
        },
        "id": "RKUjd1s2aSTJ",
        "outputId": "32377402-cc6f-44e3-abf8-0b1afb467871"
      },
      "id": "RKUjd1s2aSTJ",
      "execution_count": 40,
      "outputs": [
        {
          "output_type": "execute_result",
          "data": {
            "text/plain": [
              "2"
            ]
          },
          "metadata": {},
          "execution_count": 40
        }
      ]
    },
    {
      "cell_type": "code",
      "source": [
        "'apple pineapple'.rindex('pl')"
      ],
      "metadata": {
        "colab": {
          "base_uri": "https://localhost:8080/"
        },
        "id": "lV8gQ_pTaSW_",
        "outputId": "fa4f9aec-f603-4ce2-f179-d24ad1274d77"
      },
      "id": "lV8gQ_pTaSW_",
      "execution_count": 41,
      "outputs": [
        {
          "output_type": "execute_result",
          "data": {
            "text/plain": [
              "12"
            ]
          },
          "metadata": {},
          "execution_count": 41
        }
      ]
    },
    {
      "cell_type": "code",
      "source": [
        "'apple pineapple'.count('pl')"
      ],
      "metadata": {
        "colab": {
          "base_uri": "https://localhost:8080/"
        },
        "id": "etssQK5QaSaS",
        "outputId": "f99e39f4-e8b2-4ef4-f832-357b2d082620"
      },
      "id": "etssQK5QaSaS",
      "execution_count": 42,
      "outputs": [
        {
          "output_type": "execute_result",
          "data": {
            "text/plain": [
              "2"
            ]
          },
          "metadata": {},
          "execution_count": 42
        }
      ]
    },
    {
      "cell_type": "code",
      "source": [
        "'i am %s.' % 'james'"
      ],
      "metadata": {
        "colab": {
          "base_uri": "https://localhost:8080/",
          "height": 36
        },
        "id": "Ct1c8TlfaScJ",
        "outputId": "ea418f5b-e0d4-49d3-bc83-7c322e170841"
      },
      "id": "Ct1c8TlfaScJ",
      "execution_count": 45,
      "outputs": [
        {
          "output_type": "execute_result",
          "data": {
            "text/plain": [
              "'i am james.'"
            ],
            "application/vnd.google.colaboratory.intrinsic+json": {
              "type": "string"
            }
          },
          "metadata": {},
          "execution_count": 45
        }
      ]
    },
    {
      "cell_type": "code",
      "source": [
        "name = 'maria'\n",
        "' I am %s.' % name"
      ],
      "metadata": {
        "colab": {
          "base_uri": "https://localhost:8080/",
          "height": 36
        },
        "id": "VnypP6LqaSeo",
        "outputId": "3b8ef0a2-5c12-4909-d599-f9ebd9a32ffa"
      },
      "id": "VnypP6LqaSeo",
      "execution_count": 46,
      "outputs": [
        {
          "output_type": "execute_result",
          "data": {
            "text/plain": [
              "' I am maria.'"
            ],
            "application/vnd.google.colaboratory.intrinsic+json": {
              "type": "string"
            }
          },
          "metadata": {},
          "execution_count": 46
        }
      ]
    },
    {
      "cell_type": "code",
      "source": [
        "' I am %d years old' % 20"
      ],
      "metadata": {
        "colab": {
          "base_uri": "https://localhost:8080/",
          "height": 36
        },
        "id": "GOMnZTu_aSgi",
        "outputId": "0f4b2036-60e5-4cb3-9612-5a9c2e6b3796"
      },
      "id": "GOMnZTu_aSgi",
      "execution_count": 48,
      "outputs": [
        {
          "output_type": "execute_result",
          "data": {
            "text/plain": [
              "' I am 20 years old'"
            ],
            "application/vnd.google.colaboratory.intrinsic+json": {
              "type": "string"
            }
          },
          "metadata": {},
          "execution_count": 48
        }
      ]
    },
    {
      "cell_type": "code",
      "source": [
        "'%f' % 2.3"
      ],
      "metadata": {
        "colab": {
          "base_uri": "https://localhost:8080/",
          "height": 36
        },
        "id": "F8dIOmNJaSjF",
        "outputId": "b3075d58-f85f-407e-8794-40cdd0e88e5b"
      },
      "id": "F8dIOmNJaSjF",
      "execution_count": 49,
      "outputs": [
        {
          "output_type": "execute_result",
          "data": {
            "text/plain": [
              "'2.300000'"
            ],
            "application/vnd.google.colaboratory.intrinsic+json": {
              "type": "string"
            }
          },
          "metadata": {},
          "execution_count": 49
        }
      ]
    },
    {
      "cell_type": "code",
      "source": [
        "'%.2f' % 2.3"
      ],
      "metadata": {
        "colab": {
          "base_uri": "https://localhost:8080/",
          "height": 36
        },
        "id": "0SQV00IDaSlw",
        "outputId": "430b1145-b867-4dab-d74b-bd1d2dd77e37"
      },
      "id": "0SQV00IDaSlw",
      "execution_count": 50,
      "outputs": [
        {
          "output_type": "execute_result",
          "data": {
            "text/plain": [
              "'2.30'"
            ],
            "application/vnd.google.colaboratory.intrinsic+json": {
              "type": "string"
            }
          },
          "metadata": {},
          "execution_count": 50
        }
      ]
    },
    {
      "cell_type": "code",
      "source": [
        "'%.3f' % 2.3"
      ],
      "metadata": {
        "colab": {
          "base_uri": "https://localhost:8080/",
          "height": 36
        },
        "id": "oEg0le7naSoB",
        "outputId": "a7063e9c-853a-4969-d415-185ebd571640"
      },
      "id": "oEg0le7naSoB",
      "execution_count": 51,
      "outputs": [
        {
          "output_type": "execute_result",
          "data": {
            "text/plain": [
              "'2.300'"
            ],
            "application/vnd.google.colaboratory.intrinsic+json": {
              "type": "string"
            }
          },
          "metadata": {},
          "execution_count": 51
        }
      ]
    },
    {
      "cell_type": "code",
      "source": [
        "'%10s' % 'python'"
      ],
      "metadata": {
        "colab": {
          "base_uri": "https://localhost:8080/",
          "height": 36
        },
        "id": "-6ciuuKtaSqU",
        "outputId": "3ac67515-3478-46fc-e063-4c71cb9f8daa"
      },
      "id": "-6ciuuKtaSqU",
      "execution_count": 52,
      "outputs": [
        {
          "output_type": "execute_result",
          "data": {
            "text/plain": [
              "'    python'"
            ],
            "application/vnd.google.colaboratory.intrinsic+json": {
              "type": "string"
            }
          },
          "metadata": {},
          "execution_count": 52
        }
      ]
    },
    {
      "cell_type": "code",
      "source": [
        "'%-10s' % 'python'"
      ],
      "metadata": {
        "colab": {
          "base_uri": "https://localhost:8080/",
          "height": 36
        },
        "id": "4w2jPVw8aSsO",
        "outputId": "fe29b484-faff-4259-c50b-e82a1cf02964"
      },
      "id": "4w2jPVw8aSsO",
      "execution_count": 53,
      "outputs": [
        {
          "output_type": "execute_result",
          "data": {
            "text/plain": [
              "'python    '"
            ],
            "application/vnd.google.colaboratory.intrinsic+json": {
              "type": "string"
            }
          },
          "metadata": {},
          "execution_count": 53
        }
      ]
    },
    {
      "cell_type": "code",
      "source": [
        "'Today is %d %s' % (10, 'April')"
      ],
      "metadata": {
        "colab": {
          "base_uri": "https://localhost:8080/",
          "height": 36
        },
        "id": "b1rxUu_qaSum",
        "outputId": "7a3bc502-f338-41b5-ff19-43f9e9cb9127"
      },
      "id": "b1rxUu_qaSum",
      "execution_count": 54,
      "outputs": [
        {
          "output_type": "execute_result",
          "data": {
            "text/plain": [
              "'Today is 10 April'"
            ],
            "application/vnd.google.colaboratory.intrinsic+json": {
              "type": "string"
            }
          },
          "metadata": {},
          "execution_count": 54
        }
      ]
    },
    {
      "cell_type": "code",
      "source": [
        "'Today is %d%s' % (10, 'April')"
      ],
      "metadata": {
        "colab": {
          "base_uri": "https://localhost:8080/",
          "height": 36
        },
        "id": "wA15lgU4aSws",
        "outputId": "e145be76-790a-42a1-fd96-9e1168103ae6"
      },
      "id": "wA15lgU4aSws",
      "execution_count": 55,
      "outputs": [
        {
          "output_type": "execute_result",
          "data": {
            "text/plain": [
              "'Today is 10April'"
            ],
            "application/vnd.google.colaboratory.intrinsic+json": {
              "type": "string"
            }
          },
          "metadata": {},
          "execution_count": 55
        }
      ]
    },
    {
      "cell_type": "code",
      "source": [
        "'Hello, {0}'.format('world!')"
      ],
      "metadata": {
        "colab": {
          "base_uri": "https://localhost:8080/",
          "height": 36
        },
        "id": "MNdXcwxZaS0a",
        "outputId": "de57a418-9838-43a2-8dc3-61cc32910a81"
      },
      "id": "MNdXcwxZaS0a",
      "execution_count": 1,
      "outputs": [
        {
          "output_type": "execute_result",
          "data": {
            "text/plain": [
              "'Hello, world!'"
            ],
            "application/vnd.google.colaboratory.intrinsic+json": {
              "type": "string"
            }
          },
          "metadata": {},
          "execution_count": 1
        }
      ]
    },
    {
      "cell_type": "code",
      "source": [
        "'Hello, {0}'.format(100)"
      ],
      "metadata": {
        "colab": {
          "base_uri": "https://localhost:8080/",
          "height": 36
        },
        "id": "vVi7CkN9aS2b",
        "outputId": "ce85b3df-62aa-4c4f-96f8-efd629a8ca05"
      },
      "id": "vVi7CkN9aS2b",
      "execution_count": 2,
      "outputs": [
        {
          "output_type": "execute_result",
          "data": {
            "text/plain": [
              "'Hello, 100'"
            ],
            "application/vnd.google.colaboratory.intrinsic+json": {
              "type": "string"
            }
          },
          "metadata": {},
          "execution_count": 2
        }
      ]
    },
    {
      "cell_type": "code",
      "source": [
        "'Hello, {0} {2} {1}'.format('Python', 'Script', 3.6)"
      ],
      "metadata": {
        "colab": {
          "base_uri": "https://localhost:8080/",
          "height": 36
        },
        "id": "9on0IqfpaS4O",
        "outputId": "5412be77-9281-478d-cf2c-891fd1c4ea49"
      },
      "id": "9on0IqfpaS4O",
      "execution_count": 3,
      "outputs": [
        {
          "output_type": "execute_result",
          "data": {
            "text/plain": [
              "'Hello, Python 3.6 Script'"
            ],
            "application/vnd.google.colaboratory.intrinsic+json": {
              "type": "string"
            }
          },
          "metadata": {},
          "execution_count": 3
        }
      ]
    },
    {
      "cell_type": "code",
      "source": [
        "'Hello, {} {} {}'.format('Python', 'Script', 3.6)"
      ],
      "metadata": {
        "colab": {
          "base_uri": "https://localhost:8080/",
          "height": 36
        },
        "id": "ZkvGQbnOaS6L",
        "outputId": "f47e01ce-13ef-434d-a015-14158093d2cb"
      },
      "id": "ZkvGQbnOaS6L",
      "execution_count": 4,
      "outputs": [
        {
          "output_type": "execute_result",
          "data": {
            "text/plain": [
              "'Hello, Python Script 3.6'"
            ],
            "application/vnd.google.colaboratory.intrinsic+json": {
              "type": "string"
            }
          },
          "metadata": {},
          "execution_count": 4
        }
      ]
    },
    {
      "cell_type": "code",
      "source": [
        "'{0:<10}'.format('python')"
      ],
      "metadata": {
        "colab": {
          "base_uri": "https://localhost:8080/",
          "height": 36
        },
        "id": "Sp4P3GT2aS-C",
        "outputId": "c52d7140-6aea-4af7-b850-f50d978dfd0d"
      },
      "id": "Sp4P3GT2aS-C",
      "execution_count": 5,
      "outputs": [
        {
          "output_type": "execute_result",
          "data": {
            "text/plain": [
              "'python    '"
            ],
            "application/vnd.google.colaboratory.intrinsic+json": {
              "type": "string"
            }
          },
          "metadata": {},
          "execution_count": 5
        }
      ]
    },
    {
      "cell_type": "code",
      "source": [
        "'{0:>10}'.format('python')"
      ],
      "metadata": {
        "colab": {
          "base_uri": "https://localhost:8080/",
          "height": 36
        },
        "id": "U_I1CIt3aTAT",
        "outputId": "27376855-d5f1-4f2c-92ef-0fb3822254e8"
      },
      "id": "U_I1CIt3aTAT",
      "execution_count": 6,
      "outputs": [
        {
          "output_type": "execute_result",
          "data": {
            "text/plain": [
              "'    python'"
            ],
            "application/vnd.google.colaboratory.intrinsic+json": {
              "type": "string"
            }
          },
          "metadata": {},
          "execution_count": 6
        }
      ]
    },
    {
      "cell_type": "code",
      "source": [
        "'%08.2f' % 3.6"
      ],
      "metadata": {
        "colab": {
          "base_uri": "https://localhost:8080/",
          "height": 36
        },
        "id": "DXkxisVpaTCi",
        "outputId": "4e1ee338-997f-4337-e7e0-4561c29cab57"
      },
      "id": "DXkxisVpaTCi",
      "execution_count": 7,
      "outputs": [
        {
          "output_type": "execute_result",
          "data": {
            "text/plain": [
              "'00003.60'"
            ],
            "application/vnd.google.colaboratory.intrinsic+json": {
              "type": "string"
            }
          },
          "metadata": {},
          "execution_count": 7
        }
      ]
    },
    {
      "cell_type": "code",
      "source": [
        "'{0:08.2f}'.format(150.37)"
      ],
      "metadata": {
        "colab": {
          "base_uri": "https://localhost:8080/",
          "height": 36
        },
        "id": "XN7SZiF_aTEl",
        "outputId": "c13cb0e2-36c3-44ef-c819-a9962e84757e"
      },
      "id": "XN7SZiF_aTEl",
      "execution_count": 8,
      "outputs": [
        {
          "output_type": "execute_result",
          "data": {
            "text/plain": [
              "'00150.37'"
            ],
            "application/vnd.google.colaboratory.intrinsic+json": {
              "type": "string"
            }
          },
          "metadata": {},
          "execution_count": 8
        }
      ]
    },
    {
      "cell_type": "code",
      "source": [
        "'{0:0<10}'.format(15)"
      ],
      "metadata": {
        "colab": {
          "base_uri": "https://localhost:8080/",
          "height": 36
        },
        "id": "IzMNapVZaTGs",
        "outputId": "ab796815-2ed6-46cb-96d0-ba8c79443bc6"
      },
      "id": "IzMNapVZaTGs",
      "execution_count": 9,
      "outputs": [
        {
          "output_type": "execute_result",
          "data": {
            "text/plain": [
              "'1500000000'"
            ],
            "application/vnd.google.colaboratory.intrinsic+json": {
              "type": "string"
            }
          },
          "metadata": {},
          "execution_count": 9
        }
      ]
    },
    {
      "cell_type": "code",
      "source": [
        "'{0:0>10}'.format(15)"
      ],
      "metadata": {
        "colab": {
          "base_uri": "https://localhost:8080/",
          "height": 36
        },
        "id": "RDELSNy0aTIk",
        "outputId": "8cae9b49-03f2-401e-e451-3d87433a019c"
      },
      "id": "RDELSNy0aTIk",
      "execution_count": 10,
      "outputs": [
        {
          "output_type": "execute_result",
          "data": {
            "text/plain": [
              "'0000000015'"
            ],
            "application/vnd.google.colaboratory.intrinsic+json": {
              "type": "string"
            }
          },
          "metadata": {},
          "execution_count": 10
        }
      ]
    },
    {
      "cell_type": "code",
      "source": [
        "'{0:0>10.2f}'.format(15)"
      ],
      "metadata": {
        "colab": {
          "base_uri": "https://localhost:8080/",
          "height": 36
        },
        "id": "S7-ekT2daTKc",
        "outputId": "367b6c90-c1c6-43de-ef3e-7b60eee73cf5"
      },
      "id": "S7-ekT2daTKc",
      "execution_count": 11,
      "outputs": [
        {
          "output_type": "execute_result",
          "data": {
            "text/plain": [
              "'0000015.00'"
            ],
            "application/vnd.google.colaboratory.intrinsic+json": {
              "type": "string"
            }
          },
          "metadata": {},
          "execution_count": 11
        }
      ]
    },
    {
      "cell_type": "code",
      "source": [
        "'{0: >10}'.format(15)"
      ],
      "metadata": {
        "colab": {
          "base_uri": "https://localhost:8080/",
          "height": 36
        },
        "id": "mGr6kx_EaTMf",
        "outputId": "5ae626ab-f6ac-4bed-8fb9-740573477ad8"
      },
      "id": "mGr6kx_EaTMf",
      "execution_count": 12,
      "outputs": [
        {
          "output_type": "execute_result",
          "data": {
            "text/plain": [
              "'        15'"
            ],
            "application/vnd.google.colaboratory.intrinsic+json": {
              "type": "string"
            }
          },
          "metadata": {},
          "execution_count": 12
        }
      ]
    },
    {
      "cell_type": "markdown",
      "source": [
        "# Unit24-연습문제"
      ],
      "metadata": {
        "id": "gl7Cd-v1WPTR"
      },
      "id": "gl7Cd-v1WPTR"
    },
    {
      "cell_type": "code",
      "source": [
        "path = 'C:sdfsfsdfsdfsdfsfsfdsfds||python.exe'\n",
        "x = path.split('||')\n",
        "filename = x[-1]\n",
        "print(filename)"
      ],
      "metadata": {
        "colab": {
          "base_uri": "https://localhost:8080/"
        },
        "id": "BzoRiVUQWNQa",
        "outputId": "73e5b449-fb29-4614-de69-9a2ced3b5692"
      },
      "id": "BzoRiVUQWNQa",
      "execution_count": 14,
      "outputs": [
        {
          "output_type": "stream",
          "name": "stdout",
          "text": [
            "python.exe\n"
          ]
        }
      ]
    },
    {
      "cell_type": "markdown",
      "source": [
        "# Unit24-심사문제"
      ],
      "metadata": {
        "id": "ZuHKdGSdWPAI"
      },
      "id": "ZuHKdGSdWPAI"
    },
    {
      "cell_type": "code",
      "source": [
        "x = input()\n",
        "x = x.replace('-','')\n",
        "x = x.replace(\"'\",'')\n",
        "x = x.replace('.','')\n",
        "x = x.replace(',','')\n",
        "x = x.replace('\\n','')\n",
        "x = x.split()\n",
        "\n",
        "c = 0\n",
        "for i in x:\n",
        "    if i == 'the':\n",
        "        c = c + 1\n",
        "\n",
        "print(c)"
      ],
      "metadata": {
        "colab": {
          "base_uri": "https://localhost:8080/"
        },
        "id": "08psxykPWNS6",
        "outputId": "d7358722-6202-4115-c96c-4b733e1ca824"
      },
      "id": "08psxykPWNS6",
      "execution_count": 139,
      "outputs": [
        {
          "output_type": "stream",
          "name": "stdout",
          "text": [
            "the grown-ups' response, this time, was to advise me to lay aside my drawings of boa constrictors, whether from the inside or the outside, and devote myself instead to geography, history, arithmetic, and grammar. That is why, at the, age of six, I gave up what might have been a magnificent career as a painter. I had been disheartened by the failure of my Drawing Number One and my Drawing Number Two. Grown-ups never understand anything by themselves, and it is tiresome for children to be always and forever explaining things to the.\n",
            "6\n"
          ]
        }
      ]
    },
    {
      "cell_type": "markdown",
      "source": [
        "#Unit24-심사문제"
      ],
      "metadata": {
        "id": "-t6GBM0MyYXM"
      },
      "id": "-t6GBM0MyYXM"
    },
    {
      "cell_type": "code",
      "source": [
        "x = input()\n",
        "x = x.replace(';',' ')\n",
        "x = x.split()\n",
        "x = list(map(int,x))\n",
        "x.sort(reverse=True)\n",
        "for i in x:\n",
        "    print('%9s' %(format(i,',')))"
      ],
      "metadata": {
        "colab": {
          "base_uri": "https://localhost:8080/"
        },
        "id": "4DLVIT_3yYE7",
        "outputId": "606fb718-6f7c-4b04-b644-ea9318615659"
      },
      "id": "4DLVIT_3yYE7",
      "execution_count": 140,
      "outputs": [
        {
          "output_type": "stream",
          "name": "stdout",
          "text": [
            "51900;83000;158000;367500;250000;59200;128500;1304000 \n",
            "1,304,000\n",
            "  367,500\n",
            "  250,000\n",
            "  158,000\n",
            "  128,500\n",
            "   83,000\n",
            "   59,200\n",
            "   51,900\n"
          ]
        }
      ]
    },
    {
      "cell_type": "markdown",
      "source": [
        "# Unit25-Main"
      ],
      "metadata": {
        "id": "3R9qmET0V58X"
      },
      "id": "3R9qmET0V58X"
    },
    {
      "cell_type": "code",
      "source": [
        "x = {'a': 10, 'b': 20, 'c': 30, 'd': 40}\n",
        "x.setdefault('e')\n",
        "x"
      ],
      "metadata": {
        "colab": {
          "base_uri": "https://localhost:8080/"
        },
        "id": "3viqMoPNV4sS",
        "outputId": "73ecd1cc-8ce9-4ce4-b551-df1c251e0a6a"
      },
      "id": "3viqMoPNV4sS",
      "execution_count": 15,
      "outputs": [
        {
          "output_type": "execute_result",
          "data": {
            "text/plain": [
              "{'a': 10, 'b': 20, 'c': 30, 'd': 40, 'e': None}"
            ]
          },
          "metadata": {},
          "execution_count": 15
        }
      ]
    },
    {
      "cell_type": "code",
      "source": [
        "x.setdefault('f', 100)"
      ],
      "metadata": {
        "colab": {
          "base_uri": "https://localhost:8080/"
        },
        "id": "nPf6cZvVV4wS",
        "outputId": "575d6ca7-1cd3-4184-bab5-319e64d8fe2c"
      },
      "id": "nPf6cZvVV4wS",
      "execution_count": 16,
      "outputs": [
        {
          "output_type": "execute_result",
          "data": {
            "text/plain": [
              "100"
            ]
          },
          "metadata": {},
          "execution_count": 16
        }
      ]
    },
    {
      "cell_type": "code",
      "source": [
        "x"
      ],
      "metadata": {
        "colab": {
          "base_uri": "https://localhost:8080/"
        },
        "id": "AYhX6pWbV4y_",
        "outputId": "fd37899e-b33c-44c2-e6ad-f0396ece1317"
      },
      "id": "AYhX6pWbV4y_",
      "execution_count": 17,
      "outputs": [
        {
          "output_type": "execute_result",
          "data": {
            "text/plain": [
              "{'a': 10, 'b': 20, 'c': 30, 'd': 40, 'e': None, 'f': 100}"
            ]
          },
          "metadata": {},
          "execution_count": 17
        }
      ]
    },
    {
      "cell_type": "code",
      "source": [
        "x = {'a': 10, 'b': 20, 'c': 30, 'd': 40}\n",
        "x.update(a=90)\n",
        "x"
      ],
      "metadata": {
        "colab": {
          "base_uri": "https://localhost:8080/"
        },
        "id": "ml5CX7WbV44C",
        "outputId": "723e385d-0e09-4294-f9a0-dae9f9169179"
      },
      "id": "ml5CX7WbV44C",
      "execution_count": 18,
      "outputs": [
        {
          "output_type": "execute_result",
          "data": {
            "text/plain": [
              "{'a': 90, 'b': 20, 'c': 30, 'd': 40}"
            ]
          },
          "metadata": {},
          "execution_count": 18
        }
      ]
    },
    {
      "cell_type": "code",
      "source": [
        "x.update(e=50)\n",
        "x"
      ],
      "metadata": {
        "colab": {
          "base_uri": "https://localhost:8080/"
        },
        "id": "g5k0OVb3V46O",
        "outputId": "52b1fb00-ad1b-4ab7-ab37-91b4e24ba375"
      },
      "id": "g5k0OVb3V46O",
      "execution_count": 19,
      "outputs": [
        {
          "output_type": "execute_result",
          "data": {
            "text/plain": [
              "{'a': 90, 'b': 20, 'c': 30, 'd': 40, 'e': 50}"
            ]
          },
          "metadata": {},
          "execution_count": 19
        }
      ]
    },
    {
      "cell_type": "code",
      "source": [
        "x.update(a=900, f=60)\n",
        "x"
      ],
      "metadata": {
        "colab": {
          "base_uri": "https://localhost:8080/"
        },
        "id": "lfwt-7j8V48q",
        "outputId": "3aed8dea-70ed-4c84-ed8b-e800e2c2371b"
      },
      "id": "lfwt-7j8V48q",
      "execution_count": 20,
      "outputs": [
        {
          "output_type": "execute_result",
          "data": {
            "text/plain": [
              "{'a': 900, 'b': 20, 'c': 30, 'd': 40, 'e': 50, 'f': 60}"
            ]
          },
          "metadata": {},
          "execution_count": 20
        }
      ]
    },
    {
      "cell_type": "code",
      "source": [
        "y = {1: 'one', 2: 'two'}\n",
        "y.update({1: 'ONE', 3: 'THREE'})\n",
        "y"
      ],
      "metadata": {
        "colab": {
          "base_uri": "https://localhost:8080/"
        },
        "id": "gcP_wk8uV5D1",
        "outputId": "0d7fdab3-800a-4a94-fa28-e6e7e687ce00"
      },
      "id": "gcP_wk8uV5D1",
      "execution_count": 21,
      "outputs": [
        {
          "output_type": "execute_result",
          "data": {
            "text/plain": [
              "{1: 'ONE', 2: 'two', 3: 'THREE'}"
            ]
          },
          "metadata": {},
          "execution_count": 21
        }
      ]
    },
    {
      "cell_type": "code",
      "source": [
        "y.update([[2, 'TWO'], [4, 'FOUR']])\n",
        "y"
      ],
      "metadata": {
        "colab": {
          "base_uri": "https://localhost:8080/"
        },
        "id": "UcSDRixPV5Gf",
        "outputId": "22ffd011-fbc7-4e25-d498-a4b57518154e"
      },
      "id": "UcSDRixPV5Gf",
      "execution_count": 22,
      "outputs": [
        {
          "output_type": "execute_result",
          "data": {
            "text/plain": [
              "{1: 'ONE', 2: 'TWO', 3: 'THREE', 4: 'FOUR'}"
            ]
          },
          "metadata": {},
          "execution_count": 22
        }
      ]
    },
    {
      "cell_type": "code",
      "source": [
        "x = {'a': 10, 'b': 20, 'c': 30, 'd': 40}\n",
        "x.pop('a')"
      ],
      "metadata": {
        "colab": {
          "base_uri": "https://localhost:8080/"
        },
        "id": "lpERQfmbV5I8",
        "outputId": "fd36bfac-981d-4bc1-b32c-b976d4777c42"
      },
      "id": "lpERQfmbV5I8",
      "execution_count": 23,
      "outputs": [
        {
          "output_type": "execute_result",
          "data": {
            "text/plain": [
              "10"
            ]
          },
          "metadata": {},
          "execution_count": 23
        }
      ]
    },
    {
      "cell_type": "code",
      "source": [
        "x"
      ],
      "metadata": {
        "colab": {
          "base_uri": "https://localhost:8080/"
        },
        "id": "eM9seYKRV5LX",
        "outputId": "c4c01bb6-5fba-4a14-92fe-a98d4d3c1bb2"
      },
      "id": "eM9seYKRV5LX",
      "execution_count": 24,
      "outputs": [
        {
          "output_type": "execute_result",
          "data": {
            "text/plain": [
              "{'b': 20, 'c': 30, 'd': 40}"
            ]
          },
          "metadata": {},
          "execution_count": 24
        }
      ]
    },
    {
      "cell_type": "code",
      "source": [
        "x = {'a': 10, 'b': 20, 'c': 30, 'd': 40}\n",
        "del x['a']\n",
        "x"
      ],
      "metadata": {
        "colab": {
          "base_uri": "https://localhost:8080/"
        },
        "id": "5JGEtFtvV5N7",
        "outputId": "cc25b5e5-2d17-4736-8287-f107c5bdf7b3"
      },
      "id": "5JGEtFtvV5N7",
      "execution_count": 25,
      "outputs": [
        {
          "output_type": "execute_result",
          "data": {
            "text/plain": [
              "{'b': 20, 'c': 30, 'd': 40}"
            ]
          },
          "metadata": {},
          "execution_count": 25
        }
      ]
    },
    {
      "cell_type": "code",
      "source": [
        "x = {'a': 10, 'b': 20, 'c': 30, 'd': 40}\n",
        "x.popitem()"
      ],
      "metadata": {
        "colab": {
          "base_uri": "https://localhost:8080/"
        },
        "id": "qwk-OkF4zX6W",
        "outputId": "ca395f0d-2783-418b-da9c-8cf8141c5ff8"
      },
      "id": "qwk-OkF4zX6W",
      "execution_count": 28,
      "outputs": [
        {
          "output_type": "execute_result",
          "data": {
            "text/plain": [
              "('d', 40)"
            ]
          },
          "metadata": {},
          "execution_count": 28
        }
      ]
    },
    {
      "cell_type": "code",
      "source": [
        "x"
      ],
      "metadata": {
        "colab": {
          "base_uri": "https://localhost:8080/"
        },
        "id": "V9CxhKJlzX4Q",
        "outputId": "2de316cb-3e38-474f-db30-3ff6ddfe1c12"
      },
      "id": "V9CxhKJlzX4Q",
      "execution_count": 29,
      "outputs": [
        {
          "output_type": "execute_result",
          "data": {
            "text/plain": [
              "{'a': 10, 'b': 20, 'c': 30}"
            ]
          },
          "metadata": {},
          "execution_count": 29
        }
      ]
    },
    {
      "cell_type": "code",
      "source": [
        "x = {'a': 10, 'b': 20, 'c': 30, 'd': 40}\n"
      ],
      "metadata": {
        "id": "-r6bn_OkzX1g"
      },
      "id": "-r6bn_OkzX1g",
      "execution_count": 31,
      "outputs": []
    },
    {
      "cell_type": "code",
      "source": [
        "x.popitem()"
      ],
      "metadata": {
        "colab": {
          "base_uri": "https://localhost:8080/"
        },
        "id": "F5k3qdlEzXy_",
        "outputId": "a95eb1e2-878d-487f-8ad1-8471f14e2e08"
      },
      "id": "F5k3qdlEzXy_",
      "execution_count": 32,
      "outputs": [
        {
          "output_type": "execute_result",
          "data": {
            "text/plain": [
              "('d', 40)"
            ]
          },
          "metadata": {},
          "execution_count": 32
        }
      ]
    },
    {
      "cell_type": "code",
      "source": [
        "x"
      ],
      "metadata": {
        "colab": {
          "base_uri": "https://localhost:8080/"
        },
        "id": "uVe2a3cRzXwR",
        "outputId": "6ac9bcbe-7cdb-4df6-fa1e-90e8d7d8a7e0"
      },
      "id": "uVe2a3cRzXwR",
      "execution_count": 33,
      "outputs": [
        {
          "output_type": "execute_result",
          "data": {
            "text/plain": [
              "{'a': 10, 'b': 20, 'c': 30}"
            ]
          },
          "metadata": {},
          "execution_count": 33
        }
      ]
    },
    {
      "cell_type": "code",
      "source": [
        "x = {'a': 10, 'b': 20, 'c': 30, 'd': 40}\n",
        "x.clear()\n",
        "x"
      ],
      "metadata": {
        "colab": {
          "base_uri": "https://localhost:8080/"
        },
        "id": "gLEFmKmozXts",
        "outputId": "efaa82df-8b42-474b-de28-74e0f3e1d05d"
      },
      "id": "gLEFmKmozXts",
      "execution_count": 34,
      "outputs": [
        {
          "output_type": "execute_result",
          "data": {
            "text/plain": [
              "{}"
            ]
          },
          "metadata": {},
          "execution_count": 34
        }
      ]
    },
    {
      "cell_type": "code",
      "source": [
        "x = {'a': 10, 'b': 20, 'c': 30, 'd': 40}\n",
        "x.get('a')"
      ],
      "metadata": {
        "colab": {
          "base_uri": "https://localhost:8080/"
        },
        "id": "Xf_nuo3GzXqw",
        "outputId": "d953f267-9e29-41bc-9c81-10bb5072c06e"
      },
      "id": "Xf_nuo3GzXqw",
      "execution_count": 35,
      "outputs": [
        {
          "output_type": "execute_result",
          "data": {
            "text/plain": [
              "10"
            ]
          },
          "metadata": {},
          "execution_count": 35
        }
      ]
    },
    {
      "cell_type": "code",
      "source": [
        "keys = ['a', 'b', 'c', 'd']\n",
        "x = dict.fromkeys(keys)\n",
        "x"
      ],
      "metadata": {
        "colab": {
          "base_uri": "https://localhost:8080/"
        },
        "id": "NiKJhfuizXoZ",
        "outputId": "702b61dc-df5b-48a3-fddc-c05781a3ef81"
      },
      "id": "NiKJhfuizXoZ",
      "execution_count": 36,
      "outputs": [
        {
          "output_type": "execute_result",
          "data": {
            "text/plain": [
              "{'a': None, 'b': None, 'c': None, 'd': None}"
            ]
          },
          "metadata": {},
          "execution_count": 36
        }
      ]
    },
    {
      "cell_type": "code",
      "source": [
        "y = dict.fromkeys(keys, 100)\n",
        "y"
      ],
      "metadata": {
        "colab": {
          "base_uri": "https://localhost:8080/"
        },
        "id": "5jZ9jtx-zXl5",
        "outputId": "4f34f691-5283-4e00-a927-80500af762e1"
      },
      "id": "5jZ9jtx-zXl5",
      "execution_count": 37,
      "outputs": [
        {
          "output_type": "execute_result",
          "data": {
            "text/plain": [
              "{'a': 100, 'b': 100, 'c': 100, 'd': 100}"
            ]
          },
          "metadata": {},
          "execution_count": 37
        }
      ]
    },
    {
      "cell_type": "code",
      "source": [
        "x = {'a': 10, 'b': 20, 'c': 30, 'd': 40}\n",
        "for key in x.keys():\n",
        "  print(key, end=' ')"
      ],
      "metadata": {
        "colab": {
          "base_uri": "https://localhost:8080/"
        },
        "id": "zsb1AnaGz_Vm",
        "outputId": "2a88c465-3c68-4dc9-ee5b-eee95efeb05f"
      },
      "id": "zsb1AnaGz_Vm",
      "execution_count": 40,
      "outputs": [
        {
          "output_type": "stream",
          "name": "stdout",
          "text": [
            "a b c d "
          ]
        }
      ]
    },
    {
      "cell_type": "code",
      "source": [
        "x = {'a': 10, 'b': 20, 'c': 30, 'd': 40}\n",
        "for value in x.values():\n",
        "  print(value, end=' ')"
      ],
      "metadata": {
        "colab": {
          "base_uri": "https://localhost:8080/"
        },
        "id": "E4tJt1-kzXjh",
        "outputId": "a692091b-e122-481d-f5bf-6fe1ee49e4ad"
      },
      "id": "E4tJt1-kzXjh",
      "execution_count": 41,
      "outputs": [
        {
          "output_type": "stream",
          "name": "stdout",
          "text": [
            "10 20 30 40 "
          ]
        }
      ]
    },
    {
      "cell_type": "code",
      "source": [
        "{key: 0 for key in dict.fromkeys(['a', 'b', 'c', 'd']).keys()}"
      ],
      "metadata": {
        "colab": {
          "base_uri": "https://localhost:8080/"
        },
        "id": "tBdYznKQzXhp",
        "outputId": "5d4b401c-c36e-433c-f5cf-b124e4d3c97b"
      },
      "id": "tBdYznKQzXhp",
      "execution_count": 42,
      "outputs": [
        {
          "output_type": "execute_result",
          "data": {
            "text/plain": [
              "{'a': 0, 'b': 0, 'c': 0, 'd': 0}"
            ]
          },
          "metadata": {},
          "execution_count": 42
        }
      ]
    },
    {
      "cell_type": "code",
      "source": [
        "{value: 0 for value in {'a': 10, 'b': 20, 'c': 30, 'd': 40}.values()}"
      ],
      "metadata": {
        "colab": {
          "base_uri": "https://localhost:8080/"
        },
        "id": "hHCYpMPhzXfw",
        "outputId": "5e2de5e8-ef55-447c-931a-931886f7993e"
      },
      "id": "hHCYpMPhzXfw",
      "execution_count": 43,
      "outputs": [
        {
          "output_type": "execute_result",
          "data": {
            "text/plain": [
              "{10: 0, 20: 0, 30: 0, 40: 0}"
            ]
          },
          "metadata": {},
          "execution_count": 43
        }
      ]
    },
    {
      "cell_type": "code",
      "source": [
        "{value: key for key, value in {'a': 10, 'b': 20, 'c': 30, 'd': 40}.items()}"
      ],
      "metadata": {
        "colab": {
          "base_uri": "https://localhost:8080/"
        },
        "id": "IvemM50jzXdN",
        "outputId": "2ada2cbe-3be4-44d8-d759-94a26841950f"
      },
      "id": "IvemM50jzXdN",
      "execution_count": 44,
      "outputs": [
        {
          "output_type": "execute_result",
          "data": {
            "text/plain": [
              "{10: 'a', 20: 'b', 30: 'c', 40: 'd'}"
            ]
          },
          "metadata": {},
          "execution_count": 44
        }
      ]
    },
    {
      "cell_type": "code",
      "source": [
        "terrestrial_planet = {\n",
        "    'Mercury': {\n",
        "        'mean_radius': 2439.7,\n",
        "        'mass': 3.3022E+23,\n",
        "        'orbital_period': 87.969\n",
        "    },\n",
        "    'Venus': {\n",
        "        'mean_radius': 6051.8,\n",
        "        'mass': 4.8676E+24,\n",
        "        'orbital_period': 224.70069,\n",
        "    },\n",
        "    'Earth': {\n",
        "        'mean_radius': 6371.0,\n",
        "        'mass': 5.97219E+24,\n",
        "        'orbital_period': 365.25641,\n",
        "    },\n",
        "    'Mars': {\n",
        "        'mean_radius': 3389.5,\n",
        "        'mass': 6.4185E+23,\n",
        "        'orbital_period': 686.9600,\n",
        "    }\n",
        "}\n",
        "\n",
        "print(terrestrial_planet['Venus']['mean_radius'])"
      ],
      "metadata": {
        "colab": {
          "base_uri": "https://localhost:8080/"
        },
        "id": "3CNFQ9NxzXaV",
        "outputId": "4c2483dd-2c27-4849-c930-32b2d7a26d7b"
      },
      "id": "3CNFQ9NxzXaV",
      "execution_count": 46,
      "outputs": [
        {
          "output_type": "stream",
          "name": "stdout",
          "text": [
            "6051.8\n"
          ]
        }
      ]
    },
    {
      "cell_type": "code",
      "source": [
        "x = {'a': 0, 'b': 0, 'c': 0, 'd': 0}\n",
        "y = x"
      ],
      "metadata": {
        "id": "sUHx_b4EzXXv"
      },
      "id": "sUHx_b4EzXXv",
      "execution_count": 47,
      "outputs": []
    },
    {
      "cell_type": "code",
      "source": [
        "x is y"
      ],
      "metadata": {
        "colab": {
          "base_uri": "https://localhost:8080/"
        },
        "id": "_O2pn0KXzXUx",
        "outputId": "d5bc2918-5668-494e-fd1f-185e427fccc3"
      },
      "id": "_O2pn0KXzXUx",
      "execution_count": 48,
      "outputs": [
        {
          "output_type": "execute_result",
          "data": {
            "text/plain": [
              "True"
            ]
          },
          "metadata": {},
          "execution_count": 48
        }
      ]
    },
    {
      "cell_type": "code",
      "source": [
        "y['a'] = 99\n",
        "x"
      ],
      "metadata": {
        "colab": {
          "base_uri": "https://localhost:8080/"
        },
        "id": "uKRY8edBzXSS",
        "outputId": "1ebab4fb-9ccc-43cd-adf3-fde0b3be41bc"
      },
      "id": "uKRY8edBzXSS",
      "execution_count": 49,
      "outputs": [
        {
          "output_type": "execute_result",
          "data": {
            "text/plain": [
              "{'a': 99, 'b': 0, 'c': 0, 'd': 0}"
            ]
          },
          "metadata": {},
          "execution_count": 49
        }
      ]
    },
    {
      "cell_type": "code",
      "source": [
        "y"
      ],
      "metadata": {
        "colab": {
          "base_uri": "https://localhost:8080/"
        },
        "id": "H4Jx33SYzXPE",
        "outputId": "427be1e5-1266-490d-e5ff-e71ef930ce9f"
      },
      "id": "H4Jx33SYzXPE",
      "execution_count": 50,
      "outputs": [
        {
          "output_type": "execute_result",
          "data": {
            "text/plain": [
              "{'a': 99, 'b': 0, 'c': 0, 'd': 0}"
            ]
          },
          "metadata": {},
          "execution_count": 50
        }
      ]
    },
    {
      "cell_type": "code",
      "source": [
        "x = {'a': 0, 'b': 0, 'c': 0, 'd': 0}\n",
        "y = x.copy()"
      ],
      "metadata": {
        "id": "G0CBBME8zXMo"
      },
      "id": "G0CBBME8zXMo",
      "execution_count": 51,
      "outputs": []
    },
    {
      "cell_type": "code",
      "source": [
        "x is y"
      ],
      "metadata": {
        "colab": {
          "base_uri": "https://localhost:8080/"
        },
        "id": "plG7_4OH1COG",
        "outputId": "799f4a01-a796-4d1c-f4b9-5006f773a9b1"
      },
      "id": "plG7_4OH1COG",
      "execution_count": 52,
      "outputs": [
        {
          "output_type": "execute_result",
          "data": {
            "text/plain": [
              "False"
            ]
          },
          "metadata": {},
          "execution_count": 52
        }
      ]
    },
    {
      "cell_type": "code",
      "source": [
        "x == y"
      ],
      "metadata": {
        "colab": {
          "base_uri": "https://localhost:8080/"
        },
        "id": "K9wGJ23xzXJ1",
        "outputId": "4f9a7354-1e82-4e6a-d158-ff0ac5086ce7"
      },
      "id": "K9wGJ23xzXJ1",
      "execution_count": 53,
      "outputs": [
        {
          "output_type": "execute_result",
          "data": {
            "text/plain": [
              "True"
            ]
          },
          "metadata": {},
          "execution_count": 53
        }
      ]
    },
    {
      "cell_type": "code",
      "source": [
        "y['a'] = 99"
      ],
      "metadata": {
        "id": "Pe2pkAaMzXHN"
      },
      "id": "Pe2pkAaMzXHN",
      "execution_count": 54,
      "outputs": []
    },
    {
      "cell_type": "code",
      "source": [
        "x"
      ],
      "metadata": {
        "colab": {
          "base_uri": "https://localhost:8080/"
        },
        "id": "oKu3u-jkzXEQ",
        "outputId": "98980197-9063-49c0-e9c3-8011b1bdf787"
      },
      "id": "oKu3u-jkzXEQ",
      "execution_count": 55,
      "outputs": [
        {
          "output_type": "execute_result",
          "data": {
            "text/plain": [
              "{'a': 0, 'b': 0, 'c': 0, 'd': 0}"
            ]
          },
          "metadata": {},
          "execution_count": 55
        }
      ]
    },
    {
      "cell_type": "code",
      "source": [
        "y"
      ],
      "metadata": {
        "colab": {
          "base_uri": "https://localhost:8080/"
        },
        "id": "K-WRsBwpzXBZ",
        "outputId": "db2b6a87-957c-4599-9904-fad6f0877472"
      },
      "id": "K-WRsBwpzXBZ",
      "execution_count": 56,
      "outputs": [
        {
          "output_type": "execute_result",
          "data": {
            "text/plain": [
              "{'a': 99, 'b': 0, 'c': 0, 'd': 0}"
            ]
          },
          "metadata": {},
          "execution_count": 56
        }
      ]
    },
    {
      "cell_type": "code",
      "source": [],
      "metadata": {
        "id": "kyOiFaIozW8d"
      },
      "id": "kyOiFaIozW8d",
      "execution_count": null,
      "outputs": []
    },
    {
      "cell_type": "code",
      "source": [],
      "metadata": {
        "id": "NvyiuOLVzW5-"
      },
      "id": "NvyiuOLVzW5-",
      "execution_count": null,
      "outputs": []
    },
    {
      "cell_type": "code",
      "source": [],
      "metadata": {
        "id": "wQ_4nKGKzW2x"
      },
      "id": "wQ_4nKGKzW2x",
      "execution_count": null,
      "outputs": []
    },
    {
      "cell_type": "markdown",
      "source": [
        "# Unit25-연습문제"
      ],
      "metadata": {
        "id": "X4B1s5b6WCXH"
      },
      "id": "X4B1s5b6WCXH"
    },
    {
      "cell_type": "code",
      "source": [
        "maria = {'korean': 94, 'english': 91, 'mathematics': 89, 'science': 83}\n",
        "average = sum(maria.values()) / len(maria)\n",
        "print(average)"
      ],
      "metadata": {
        "colab": {
          "base_uri": "https://localhost:8080/"
        },
        "id": "9yESfNNHV5QT",
        "outputId": "d67e02b7-7771-44ca-db82-1db7ab5d4c3f"
      },
      "id": "9yESfNNHV5QT",
      "execution_count": 57,
      "outputs": [
        {
          "output_type": "stream",
          "name": "stdout",
          "text": [
            "89.25\n"
          ]
        }
      ]
    },
    {
      "cell_type": "markdown",
      "source": [
        "# Unit25-심사문제"
      ],
      "metadata": {
        "id": "Z38Wvtg9WCKE"
      },
      "id": "Z38Wvtg9WCKE"
    },
    {
      "cell_type": "code",
      "source": [
        "keys = input().split()\n",
        "values = map(int, input().split())\n",
        "\n",
        "x = dict(zip(keys, values))\n",
        "\n",
        "x = {key:val for key,val in x.items() if key != 'delta' and val != 30}\n",
        "\n",
        "print(x)"
      ],
      "metadata": {
        "colab": {
          "base_uri": "https://localhost:8080/"
        },
        "id": "UeaaBZOsV5Sj",
        "outputId": "c200fe06-c8b3-48c1-c5c6-cd636fa66104"
      },
      "id": "UeaaBZOsV5Sj",
      "execution_count": 142,
      "outputs": [
        {
          "output_type": "stream",
          "name": "stdout",
          "text": [
            " alpha bravo charlie delta echo foxtrot golf \n",
            "30 40 50 60 70 80 90\n",
            "{'bravo': 40, 'charlie': 50, 'echo': 70, 'foxtrot': 80, 'golf': 90}\n"
          ]
        }
      ]
    },
    {
      "cell_type": "markdown",
      "source": [
        "#Unit26-Main\n"
      ],
      "metadata": {
        "id": "f9MIVaqOVq3w"
      },
      "id": "f9MIVaqOVq3w"
    },
    {
      "cell_type": "code",
      "source": [
        "fruits = {'strawberry', 'grape', 'orange', 'pineapple', 'cherry'}\n",
        "fruits"
      ],
      "metadata": {
        "colab": {
          "base_uri": "https://localhost:8080/"
        },
        "id": "cmo8Zy9fVo02",
        "outputId": "9c71535c-0dba-4b79-ef28-58504ce8c531"
      },
      "id": "cmo8Zy9fVo02",
      "execution_count": 58,
      "outputs": [
        {
          "output_type": "execute_result",
          "data": {
            "text/plain": [
              "{'cherry', 'grape', 'orange', 'pineapple', 'strawberry'}"
            ]
          },
          "metadata": {},
          "execution_count": 58
        }
      ]
    },
    {
      "cell_type": "code",
      "source": [
        "fruits = {'orange', 'orange', 'cherry'}\n",
        "fruits"
      ],
      "metadata": {
        "colab": {
          "base_uri": "https://localhost:8080/"
        },
        "id": "VXZ_2q9gVpdU",
        "outputId": "9940c39d-b1c0-4b1d-f52d-0fb3eb8a5221"
      },
      "id": "VXZ_2q9gVpdU",
      "execution_count": 59,
      "outputs": [
        {
          "output_type": "execute_result",
          "data": {
            "text/plain": [
              "{'cherry', 'orange'}"
            ]
          },
          "metadata": {},
          "execution_count": 59
        }
      ]
    },
    {
      "cell_type": "code",
      "source": [
        "fruits = {'strawberry', 'grape', 'orange', 'pineapple', 'cherry'}\n",
        "'orange' in fruits"
      ],
      "metadata": {
        "colab": {
          "base_uri": "https://localhost:8080/"
        },
        "id": "nhe_GLWFVphe",
        "outputId": "ba52e403-793a-4d90-82f5-e8156a640d10"
      },
      "id": "nhe_GLWFVphe",
      "execution_count": 60,
      "outputs": [
        {
          "output_type": "execute_result",
          "data": {
            "text/plain": [
              "True"
            ]
          },
          "metadata": {},
          "execution_count": 60
        }
      ]
    },
    {
      "cell_type": "code",
      "source": [
        "'peach' in fruits"
      ],
      "metadata": {
        "colab": {
          "base_uri": "https://localhost:8080/"
        },
        "id": "4Z_R1oRBVpkN",
        "outputId": "9885f407-d9c7-4926-ea16-365ae88ef904"
      },
      "id": "4Z_R1oRBVpkN",
      "execution_count": 61,
      "outputs": [
        {
          "output_type": "execute_result",
          "data": {
            "text/plain": [
              "False"
            ]
          },
          "metadata": {},
          "execution_count": 61
        }
      ]
    },
    {
      "cell_type": "code",
      "source": [
        "'peach' not in fruits"
      ],
      "metadata": {
        "colab": {
          "base_uri": "https://localhost:8080/"
        },
        "id": "MKTrWuL9Vpmj",
        "outputId": "b34b2e2f-f2a8-43d2-93d9-78ac74ea49c9"
      },
      "id": "MKTrWuL9Vpmj",
      "execution_count": 62,
      "outputs": [
        {
          "output_type": "execute_result",
          "data": {
            "text/plain": [
              "True"
            ]
          },
          "metadata": {},
          "execution_count": 62
        }
      ]
    },
    {
      "cell_type": "code",
      "source": [
        "'orange' not in fruits"
      ],
      "metadata": {
        "colab": {
          "base_uri": "https://localhost:8080/"
        },
        "id": "xyKluFV-Vpo5",
        "outputId": "d15a0e23-6e44-4aca-876d-58fa94425357"
      },
      "id": "xyKluFV-Vpo5",
      "execution_count": 63,
      "outputs": [
        {
          "output_type": "execute_result",
          "data": {
            "text/plain": [
              "False"
            ]
          },
          "metadata": {},
          "execution_count": 63
        }
      ]
    },
    {
      "cell_type": "code",
      "source": [
        "a = set('apple')\n",
        "a"
      ],
      "metadata": {
        "colab": {
          "base_uri": "https://localhost:8080/"
        },
        "id": "g_5EqP4FVprS",
        "outputId": "11188925-54da-455c-8a10-a0401693af48"
      },
      "id": "g_5EqP4FVprS",
      "execution_count": 64,
      "outputs": [
        {
          "output_type": "execute_result",
          "data": {
            "text/plain": [
              "{'a', 'e', 'l', 'p'}"
            ]
          },
          "metadata": {},
          "execution_count": 64
        }
      ]
    },
    {
      "cell_type": "code",
      "source": [
        "b = set(range(5))\n",
        "b"
      ],
      "metadata": {
        "colab": {
          "base_uri": "https://localhost:8080/"
        },
        "id": "hgeLT0TlVpwA",
        "outputId": "99961955-9023-4e87-95ef-f8e1ff2875ff"
      },
      "id": "hgeLT0TlVpwA",
      "execution_count": 65,
      "outputs": [
        {
          "output_type": "execute_result",
          "data": {
            "text/plain": [
              "{0, 1, 2, 3, 4}"
            ]
          },
          "metadata": {},
          "execution_count": 65
        }
      ]
    },
    {
      "cell_type": "code",
      "source": [
        "c = set()\n",
        "c"
      ],
      "metadata": {
        "colab": {
          "base_uri": "https://localhost:8080/"
        },
        "id": "5bGywFcZVpyg",
        "outputId": "86c28d61-60d6-404f-a495-b7f4a171a0d1"
      },
      "id": "5bGywFcZVpyg",
      "execution_count": 66,
      "outputs": [
        {
          "output_type": "execute_result",
          "data": {
            "text/plain": [
              "set()"
            ]
          },
          "metadata": {},
          "execution_count": 66
        }
      ]
    },
    {
      "cell_type": "code",
      "source": [
        "c = {}\n",
        "type(c)"
      ],
      "metadata": {
        "colab": {
          "base_uri": "https://localhost:8080/"
        },
        "id": "iWRR3ZE4Vp0-",
        "outputId": "1802c28f-f7d6-48e7-ec96-38efad8e85bd"
      },
      "id": "iWRR3ZE4Vp0-",
      "execution_count": 67,
      "outputs": [
        {
          "output_type": "execute_result",
          "data": {
            "text/plain": [
              "dict"
            ]
          },
          "metadata": {},
          "execution_count": 67
        }
      ]
    },
    {
      "cell_type": "code",
      "source": [
        "c = set()\n",
        "type(c)"
      ],
      "metadata": {
        "colab": {
          "base_uri": "https://localhost:8080/"
        },
        "id": "eN-asYNGVp3z",
        "outputId": "28c0bfcd-bf91-4a00-f055-4182c4773c41"
      },
      "id": "eN-asYNGVp3z",
      "execution_count": 68,
      "outputs": [
        {
          "output_type": "execute_result",
          "data": {
            "text/plain": [
              "set"
            ]
          },
          "metadata": {},
          "execution_count": 68
        }
      ]
    },
    {
      "cell_type": "code",
      "source": [
        "a = {1, 2, 3, 4}\n",
        "b = {3, 4, 5, 6}\n",
        "a | b"
      ],
      "metadata": {
        "colab": {
          "base_uri": "https://localhost:8080/"
        },
        "id": "jKVIOTJ3Vp6B",
        "outputId": "c8b9fa50-0cee-484b-a7d4-22d76e977654"
      },
      "id": "jKVIOTJ3Vp6B",
      "execution_count": 69,
      "outputs": [
        {
          "output_type": "execute_result",
          "data": {
            "text/plain": [
              "{1, 2, 3, 4, 5, 6}"
            ]
          },
          "metadata": {},
          "execution_count": 69
        }
      ]
    },
    {
      "cell_type": "code",
      "source": [
        "set.union(a, b)"
      ],
      "metadata": {
        "colab": {
          "base_uri": "https://localhost:8080/"
        },
        "id": "xE2gGWCDVp86",
        "outputId": "5d471dbe-763d-459a-83f8-72c1779f108a"
      },
      "id": "xE2gGWCDVp86",
      "execution_count": 70,
      "outputs": [
        {
          "output_type": "execute_result",
          "data": {
            "text/plain": [
              "{1, 2, 3, 4, 5, 6}"
            ]
          },
          "metadata": {},
          "execution_count": 70
        }
      ]
    },
    {
      "cell_type": "code",
      "source": [
        "a & b"
      ],
      "metadata": {
        "colab": {
          "base_uri": "https://localhost:8080/"
        },
        "id": "dez8wFbTVp_T",
        "outputId": "077f5293-803c-4a04-dbee-df67ed78b480"
      },
      "id": "dez8wFbTVp_T",
      "execution_count": 71,
      "outputs": [
        {
          "output_type": "execute_result",
          "data": {
            "text/plain": [
              "{3, 4}"
            ]
          },
          "metadata": {},
          "execution_count": 71
        }
      ]
    },
    {
      "cell_type": "code",
      "source": [
        "set.intersection(a, b)"
      ],
      "metadata": {
        "colab": {
          "base_uri": "https://localhost:8080/"
        },
        "id": "7kd_6fcfVqBy",
        "outputId": "3ecb595e-f5ba-45ad-fb74-54915a949fa0"
      },
      "id": "7kd_6fcfVqBy",
      "execution_count": 72,
      "outputs": [
        {
          "output_type": "execute_result",
          "data": {
            "text/plain": [
              "{3, 4}"
            ]
          },
          "metadata": {},
          "execution_count": 72
        }
      ]
    },
    {
      "cell_type": "code",
      "source": [
        "a - b"
      ],
      "metadata": {
        "colab": {
          "base_uri": "https://localhost:8080/"
        },
        "id": "qTLh1j_s8gdC",
        "outputId": "c4fba0db-6c1d-45f8-c7f0-cbb6666633e9"
      },
      "id": "qTLh1j_s8gdC",
      "execution_count": 73,
      "outputs": [
        {
          "output_type": "execute_result",
          "data": {
            "text/plain": [
              "{1, 2}"
            ]
          },
          "metadata": {},
          "execution_count": 73
        }
      ]
    },
    {
      "cell_type": "code",
      "source": [
        "set.difference(a, b)"
      ],
      "metadata": {
        "colab": {
          "base_uri": "https://localhost:8080/"
        },
        "id": "HHqKP4DM8gaB",
        "outputId": "c61e81dd-159c-4c62-a7be-611fe2a8a6f9"
      },
      "id": "HHqKP4DM8gaB",
      "execution_count": 74,
      "outputs": [
        {
          "output_type": "execute_result",
          "data": {
            "text/plain": [
              "{1, 2}"
            ]
          },
          "metadata": {},
          "execution_count": 74
        }
      ]
    },
    {
      "cell_type": "code",
      "source": [
        "a ^ b"
      ],
      "metadata": {
        "colab": {
          "base_uri": "https://localhost:8080/"
        },
        "id": "Mhy5pqV_8gW0",
        "outputId": "df8eaa49-1317-452e-90b9-c9e8cf2ad70d"
      },
      "id": "Mhy5pqV_8gW0",
      "execution_count": 75,
      "outputs": [
        {
          "output_type": "execute_result",
          "data": {
            "text/plain": [
              "{1, 2, 5, 6}"
            ]
          },
          "metadata": {},
          "execution_count": 75
        }
      ]
    },
    {
      "cell_type": "code",
      "source": [
        "set.symmetric_difference(a, b)"
      ],
      "metadata": {
        "colab": {
          "base_uri": "https://localhost:8080/"
        },
        "id": "MQMvKplk8gUK",
        "outputId": "5eaca161-49c1-4b00-abf7-553a98517d97"
      },
      "id": "MQMvKplk8gUK",
      "execution_count": 76,
      "outputs": [
        {
          "output_type": "execute_result",
          "data": {
            "text/plain": [
              "{1, 2, 5, 6}"
            ]
          },
          "metadata": {},
          "execution_count": 76
        }
      ]
    },
    {
      "cell_type": "code",
      "source": [
        "a = {1, 2, 3, 4}"
      ],
      "metadata": {
        "id": "YkQe1sTa8gRF"
      },
      "id": "YkQe1sTa8gRF",
      "execution_count": 77,
      "outputs": []
    },
    {
      "cell_type": "code",
      "source": [
        "a |= {5}\n",
        "a"
      ],
      "metadata": {
        "colab": {
          "base_uri": "https://localhost:8080/"
        },
        "id": "6lk3PHVl8gOi",
        "outputId": "ae01c143-eff2-4b77-d5cf-bc7e40c9f298"
      },
      "id": "6lk3PHVl8gOi",
      "execution_count": 79,
      "outputs": [
        {
          "output_type": "execute_result",
          "data": {
            "text/plain": [
              "{1, 2, 3, 4, 5}"
            ]
          },
          "metadata": {},
          "execution_count": 79
        }
      ]
    },
    {
      "cell_type": "code",
      "source": [
        "a = {1, 2, 3, 4}\n",
        "a.update({5})\n",
        "a"
      ],
      "metadata": {
        "colab": {
          "base_uri": "https://localhost:8080/"
        },
        "id": "A8syglA-8gLk",
        "outputId": "8d23635c-67a8-4e59-d34a-995aca45d164"
      },
      "id": "A8syglA-8gLk",
      "execution_count": 81,
      "outputs": [
        {
          "output_type": "execute_result",
          "data": {
            "text/plain": [
              "{1, 2, 3, 4, 5}"
            ]
          },
          "metadata": {},
          "execution_count": 81
        }
      ]
    },
    {
      "cell_type": "code",
      "source": [
        "a = {1, 2, 3, 4}\n",
        "a &= {0, 1, 2, 3, 4}\n",
        "a"
      ],
      "metadata": {
        "colab": {
          "base_uri": "https://localhost:8080/"
        },
        "id": "qb_FrzkL8gI7",
        "outputId": "203f8b27-f980-446e-c924-6d3edcc645ec"
      },
      "id": "qb_FrzkL8gI7",
      "execution_count": 82,
      "outputs": [
        {
          "output_type": "execute_result",
          "data": {
            "text/plain": [
              "{1, 2, 3, 4}"
            ]
          },
          "metadata": {},
          "execution_count": 82
        }
      ]
    },
    {
      "cell_type": "code",
      "source": [
        "a = {1, 2, 3, 4}\n",
        "a.intersection_update({0, 1, 2, 3, 4})\n",
        "a"
      ],
      "metadata": {
        "colab": {
          "base_uri": "https://localhost:8080/"
        },
        "id": "kgPec8t98gFv",
        "outputId": "114d6156-2b5d-4c01-ad63-6e70d8791d14"
      },
      "id": "kgPec8t98gFv",
      "execution_count": 83,
      "outputs": [
        {
          "output_type": "execute_result",
          "data": {
            "text/plain": [
              "{1, 2, 3, 4}"
            ]
          },
          "metadata": {},
          "execution_count": 83
        }
      ]
    },
    {
      "cell_type": "code",
      "source": [
        "a = {1, 2, 3, 4}\n",
        "a -= {3}\n",
        "a"
      ],
      "metadata": {
        "colab": {
          "base_uri": "https://localhost:8080/"
        },
        "id": "R2cWSUMD8gDN",
        "outputId": "6240d661-9445-4344-be25-b40a0286d06d"
      },
      "id": "R2cWSUMD8gDN",
      "execution_count": 84,
      "outputs": [
        {
          "output_type": "execute_result",
          "data": {
            "text/plain": [
              "{1, 2, 4}"
            ]
          },
          "metadata": {},
          "execution_count": 84
        }
      ]
    },
    {
      "cell_type": "code",
      "source": [
        "a = {1, 2, 3, 4}\n",
        "a.difference_update({3})\n",
        "a"
      ],
      "metadata": {
        "colab": {
          "base_uri": "https://localhost:8080/"
        },
        "id": "n4gIlAAN8gAS",
        "outputId": "b53f3f42-2314-4847-dad7-798364166cd4"
      },
      "id": "n4gIlAAN8gAS",
      "execution_count": 85,
      "outputs": [
        {
          "output_type": "execute_result",
          "data": {
            "text/plain": [
              "{1, 2, 4}"
            ]
          },
          "metadata": {},
          "execution_count": 85
        }
      ]
    },
    {
      "cell_type": "code",
      "source": [
        "a = {1, 2, 3, 4}\n",
        "a < {1, 2, 3, 4, 5}"
      ],
      "metadata": {
        "colab": {
          "base_uri": "https://localhost:8080/"
        },
        "id": "BLS6-uBF8f9U",
        "outputId": "dce22943-e434-488f-c2b6-93e295a44b5c"
      },
      "id": "BLS6-uBF8f9U",
      "execution_count": 86,
      "outputs": [
        {
          "output_type": "execute_result",
          "data": {
            "text/plain": [
              "True"
            ]
          },
          "metadata": {},
          "execution_count": 86
        }
      ]
    },
    {
      "cell_type": "code",
      "source": [
        "a = {1, 2, 3, 4}\n",
        "a.isdisjoint({5, 6, 7, 8})"
      ],
      "metadata": {
        "colab": {
          "base_uri": "https://localhost:8080/"
        },
        "id": "TtXSlpT29Flp",
        "outputId": "76655560-fc03-4b13-ac00-9669eb6a52c6"
      },
      "id": "TtXSlpT29Flp",
      "execution_count": 87,
      "outputs": [
        {
          "output_type": "execute_result",
          "data": {
            "text/plain": [
              "True"
            ]
          },
          "metadata": {},
          "execution_count": 87
        }
      ]
    },
    {
      "cell_type": "code",
      "source": [
        "a.isdisjoint({3, 4, 5, 6})"
      ],
      "metadata": {
        "colab": {
          "base_uri": "https://localhost:8080/"
        },
        "id": "lsEj9mM29Fif",
        "outputId": "79c9500b-88e0-4304-bdd9-5c67bbf3f471"
      },
      "id": "lsEj9mM29Fif",
      "execution_count": 88,
      "outputs": [
        {
          "output_type": "execute_result",
          "data": {
            "text/plain": [
              "False"
            ]
          },
          "metadata": {},
          "execution_count": 88
        }
      ]
    },
    {
      "cell_type": "code",
      "source": [
        "a = {1, 2, 3, 4}\n",
        "a.add(5)\n",
        "a"
      ],
      "metadata": {
        "colab": {
          "base_uri": "https://localhost:8080/"
        },
        "id": "sEQDgzOm9Ffx",
        "outputId": "10f754ab-eeee-4232-bbff-97f2bb53d90b"
      },
      "id": "sEQDgzOm9Ffx",
      "execution_count": 89,
      "outputs": [
        {
          "output_type": "execute_result",
          "data": {
            "text/plain": [
              "{1, 2, 3, 4, 5}"
            ]
          },
          "metadata": {},
          "execution_count": 89
        }
      ]
    },
    {
      "cell_type": "code",
      "source": [
        "a.remove(3)\n",
        "a"
      ],
      "metadata": {
        "colab": {
          "base_uri": "https://localhost:8080/"
        },
        "id": "BdoRDurB9Fcs",
        "outputId": "3ff722e5-62f0-452a-8e17-131660905a93"
      },
      "id": "BdoRDurB9Fcs",
      "execution_count": 90,
      "outputs": [
        {
          "output_type": "execute_result",
          "data": {
            "text/plain": [
              "{1, 2, 4, 5}"
            ]
          },
          "metadata": {},
          "execution_count": 90
        }
      ]
    },
    {
      "cell_type": "code",
      "source": [
        "a.discard(2)\n",
        "a"
      ],
      "metadata": {
        "colab": {
          "base_uri": "https://localhost:8080/"
        },
        "id": "M69VxrBZ9FZC",
        "outputId": "64f9bf4c-af05-46a0-e83b-2bd7cc9b0469"
      },
      "id": "M69VxrBZ9FZC",
      "execution_count": 91,
      "outputs": [
        {
          "output_type": "execute_result",
          "data": {
            "text/plain": [
              "{1, 4, 5}"
            ]
          },
          "metadata": {},
          "execution_count": 91
        }
      ]
    },
    {
      "cell_type": "code",
      "source": [
        "a.discard(3)\n",
        "a"
      ],
      "metadata": {
        "colab": {
          "base_uri": "https://localhost:8080/"
        },
        "id": "l9YHJlzd9FWG",
        "outputId": "3d2c8fc2-0593-430b-8200-d9742835e6ce"
      },
      "id": "l9YHJlzd9FWG",
      "execution_count": 92,
      "outputs": [
        {
          "output_type": "execute_result",
          "data": {
            "text/plain": [
              "{1, 4, 5}"
            ]
          },
          "metadata": {},
          "execution_count": 92
        }
      ]
    },
    {
      "cell_type": "code",
      "source": [
        "a = {1, 2, 3, 4}\n",
        "a.pop()"
      ],
      "metadata": {
        "colab": {
          "base_uri": "https://localhost:8080/"
        },
        "id": "UgosFRxx9FS5",
        "outputId": "f05881d1-cfea-420a-d2fc-ea35497ce8e8"
      },
      "id": "UgosFRxx9FS5",
      "execution_count": 93,
      "outputs": [
        {
          "output_type": "execute_result",
          "data": {
            "text/plain": [
              "1"
            ]
          },
          "metadata": {},
          "execution_count": 93
        }
      ]
    },
    {
      "cell_type": "code",
      "source": [
        "a"
      ],
      "metadata": {
        "colab": {
          "base_uri": "https://localhost:8080/"
        },
        "id": "s49RFoes9FP_",
        "outputId": "510e050e-4a97-4a4f-81c1-bd1429ee67e4"
      },
      "id": "s49RFoes9FP_",
      "execution_count": 94,
      "outputs": [
        {
          "output_type": "execute_result",
          "data": {
            "text/plain": [
              "{2, 3, 4}"
            ]
          },
          "metadata": {},
          "execution_count": 94
        }
      ]
    },
    {
      "cell_type": "code",
      "source": [
        "a.clear()\n",
        "a"
      ],
      "metadata": {
        "colab": {
          "base_uri": "https://localhost:8080/"
        },
        "id": "uFl6YtUm9FM8",
        "outputId": "18a57a7d-2237-4f87-c066-dfa6b52a64a6"
      },
      "id": "uFl6YtUm9FM8",
      "execution_count": 95,
      "outputs": [
        {
          "output_type": "execute_result",
          "data": {
            "text/plain": [
              "set()"
            ]
          },
          "metadata": {},
          "execution_count": 95
        }
      ]
    },
    {
      "cell_type": "code",
      "source": [
        "a = {1, 2, 3, 4}\n",
        "len(a)"
      ],
      "metadata": {
        "colab": {
          "base_uri": "https://localhost:8080/"
        },
        "id": "bfSbtphZ9FKS",
        "outputId": "074e59db-47c2-456e-9d21-84745691cb7b"
      },
      "id": "bfSbtphZ9FKS",
      "execution_count": 96,
      "outputs": [
        {
          "output_type": "execute_result",
          "data": {
            "text/plain": [
              "4"
            ]
          },
          "metadata": {},
          "execution_count": 96
        }
      ]
    },
    {
      "cell_type": "code",
      "source": [
        "a = {1, 2, 3, 4}\n",
        "b = a"
      ],
      "metadata": {
        "id": "Xx42QtZ29FHO"
      },
      "id": "Xx42QtZ29FHO",
      "execution_count": 97,
      "outputs": []
    },
    {
      "cell_type": "code",
      "source": [
        "a is b"
      ],
      "metadata": {
        "colab": {
          "base_uri": "https://localhost:8080/"
        },
        "id": "Ilo6jJRQ9FEf",
        "outputId": "31c3de83-c1d8-4bbf-baeb-7966cae6a45a"
      },
      "id": "Ilo6jJRQ9FEf",
      "execution_count": 98,
      "outputs": [
        {
          "output_type": "execute_result",
          "data": {
            "text/plain": [
              "True"
            ]
          },
          "metadata": {},
          "execution_count": 98
        }
      ]
    },
    {
      "cell_type": "code",
      "source": [
        "b.add(5)\n",
        "a"
      ],
      "metadata": {
        "colab": {
          "base_uri": "https://localhost:8080/"
        },
        "id": "PKWy9Vj39FBi",
        "outputId": "6646b2d2-6a18-4b8e-c7bd-4d2a640c8de1"
      },
      "id": "PKWy9Vj39FBi",
      "execution_count": 99,
      "outputs": [
        {
          "output_type": "execute_result",
          "data": {
            "text/plain": [
              "{1, 2, 3, 4, 5}"
            ]
          },
          "metadata": {},
          "execution_count": 99
        }
      ]
    },
    {
      "cell_type": "code",
      "source": [
        "b"
      ],
      "metadata": {
        "colab": {
          "base_uri": "https://localhost:8080/"
        },
        "id": "BEJj6j859E_G",
        "outputId": "60c4051c-63b3-4a8a-b26f-c0f9252ef279"
      },
      "id": "BEJj6j859E_G",
      "execution_count": 100,
      "outputs": [
        {
          "output_type": "execute_result",
          "data": {
            "text/plain": [
              "{1, 2, 3, 4, 5}"
            ]
          },
          "metadata": {},
          "execution_count": 100
        }
      ]
    },
    {
      "cell_type": "code",
      "source": [
        "a = {1, 2, 3, 4}\n",
        "b = a.copy()\n",
        "b.add(5)\n",
        "a"
      ],
      "metadata": {
        "colab": {
          "base_uri": "https://localhost:8080/"
        },
        "id": "SwWTNpB59E72",
        "outputId": "e3d2e74a-a37f-4097-c56c-9339459b8273"
      },
      "id": "SwWTNpB59E72",
      "execution_count": 101,
      "outputs": [
        {
          "output_type": "execute_result",
          "data": {
            "text/plain": [
              "{1, 2, 3, 4}"
            ]
          },
          "metadata": {},
          "execution_count": 101
        }
      ]
    },
    {
      "cell_type": "code",
      "source": [
        "a = {1, 2, 3, 4}\n",
        "for i in a:\n",
        "  print(i)"
      ],
      "metadata": {
        "colab": {
          "base_uri": "https://localhost:8080/"
        },
        "id": "fAQ7By1P92P6",
        "outputId": "7efd336c-2853-45fb-8153-d88db3606ebc"
      },
      "id": "fAQ7By1P92P6",
      "execution_count": 102,
      "outputs": [
        {
          "output_type": "stream",
          "name": "stdout",
          "text": [
            "1\n",
            "2\n",
            "3\n",
            "4\n"
          ]
        }
      ]
    },
    {
      "cell_type": "code",
      "source": [
        "a = {i for i in 'apple'}\n",
        "a"
      ],
      "metadata": {
        "colab": {
          "base_uri": "https://localhost:8080/"
        },
        "id": "CIxVlAKj92Ni",
        "outputId": "dec2a23b-63fa-4385-cdb1-24ade2941cce"
      },
      "id": "CIxVlAKj92Ni",
      "execution_count": 103,
      "outputs": [
        {
          "output_type": "execute_result",
          "data": {
            "text/plain": [
              "{'a', 'e', 'l', 'p'}"
            ]
          },
          "metadata": {},
          "execution_count": 103
        }
      ]
    },
    {
      "cell_type": "code",
      "source": [
        "a = {i for i in 'pineapple' if i not in 'apl'}\n",
        "a"
      ],
      "metadata": {
        "colab": {
          "base_uri": "https://localhost:8080/"
        },
        "id": "SWyLHkfN92LG",
        "outputId": "067ce1c9-8753-4f0a-c902-4a773dfd5160"
      },
      "id": "SWyLHkfN92LG",
      "execution_count": 104,
      "outputs": [
        {
          "output_type": "execute_result",
          "data": {
            "text/plain": [
              "{'e', 'i', 'n'}"
            ]
          },
          "metadata": {},
          "execution_count": 104
        }
      ]
    },
    {
      "cell_type": "code",
      "source": [],
      "metadata": {
        "id": "NZJ8zW2g92IE"
      },
      "id": "NZJ8zW2g92IE",
      "execution_count": 106,
      "outputs": []
    },
    {
      "cell_type": "code",
      "source": [],
      "metadata": {
        "id": "Cb4cCCGA92FP"
      },
      "id": "Cb4cCCGA92FP",
      "execution_count": null,
      "outputs": []
    },
    {
      "cell_type": "code",
      "source": [],
      "metadata": {
        "id": "UkrTorqc92CU"
      },
      "id": "UkrTorqc92CU",
      "execution_count": null,
      "outputs": []
    },
    {
      "cell_type": "code",
      "source": [],
      "metadata": {
        "id": "nVrYWeC791-u"
      },
      "id": "nVrYWeC791-u",
      "execution_count": null,
      "outputs": []
    },
    {
      "cell_type": "code",
      "source": [],
      "metadata": {
        "id": "CQGVV8uC9172"
      },
      "id": "CQGVV8uC9172",
      "execution_count": null,
      "outputs": []
    },
    {
      "cell_type": "code",
      "source": [],
      "metadata": {
        "id": "DgBX7BU0914l"
      },
      "id": "DgBX7BU0914l",
      "execution_count": null,
      "outputs": []
    },
    {
      "cell_type": "code",
      "source": [],
      "metadata": {
        "id": "XpNrFzcl9115"
      },
      "id": "XpNrFzcl9115",
      "execution_count": null,
      "outputs": []
    },
    {
      "cell_type": "code",
      "source": [],
      "metadata": {
        "id": "p2IvXF0c91yp"
      },
      "id": "p2IvXF0c91yp",
      "execution_count": null,
      "outputs": []
    },
    {
      "cell_type": "markdown",
      "source": [
        "# Unit26-연습문제"
      ],
      "metadata": {
        "id": "9XUCYuJzVvTV"
      },
      "id": "9XUCYuJzVvTV"
    },
    {
      "cell_type": "code",
      "source": [
        "a = {i for i in range(1, 101) if i % 3 == 0}\n",
        "b = {i for i in range(1, 101) if i % 5 == 0}\n",
        "print(a & b)"
      ],
      "metadata": {
        "colab": {
          "base_uri": "https://localhost:8080/"
        },
        "id": "87i-ozzuVqEu",
        "outputId": "6ece2262-6c34-4e7e-badf-4544eb9d7174"
      },
      "id": "87i-ozzuVqEu",
      "execution_count": 107,
      "outputs": [
        {
          "output_type": "stream",
          "name": "stdout",
          "text": [
            "{75, 45, 15, 90, 60, 30}\n"
          ]
        }
      ]
    },
    {
      "cell_type": "markdown",
      "source": [
        "# Unit26-심사문제"
      ],
      "metadata": {
        "id": "oTxOZKf4Vyte"
      },
      "id": "oTxOZKf4Vyte"
    },
    {
      "cell_type": "code",
      "source": [
        "x, y = map(int,input().split())\n",
        "a = {i for i in range(1,x+1) if x % i == 0}\n",
        "b = {i for i in range(1,y+1) if y % i == 0}\n",
        "\n",
        "divisor = a & b\n",
        "\n",
        "result = 0\n",
        "if type(divisor) == set:\n",
        "    result = sum(divisor)\n",
        "\n",
        "print(result)"
      ],
      "metadata": {
        "colab": {
          "base_uri": "https://localhost:8080/"
        },
        "id": "U1e2RrORVqHE",
        "outputId": "036548d7-df88-4af5-d6e7-ee6b2144694a"
      },
      "id": "U1e2RrORVqHE",
      "execution_count": 143,
      "outputs": [
        {
          "output_type": "stream",
          "name": "stdout",
          "text": [
            "10 20\n",
            "18\n"
          ]
        }
      ]
    },
    {
      "cell_type": "markdown",
      "source": [
        "# Unit27 -Main\n"
      ],
      "metadata": {
        "id": "fj11_MrnViLn"
      },
      "id": "fj11_MrnViLn"
    },
    {
      "cell_type": "code",
      "execution_count": null,
      "id": "8a868d59",
      "metadata": {
        "id": "8a868d59"
      },
      "outputs": [],
      "source": [
        "file = open('hello.txt','w')\n",
        "file.write('Hello.,world!!')\n",
        "file.write('May I help you?')\n",
        "\n",
        "file.close()"
      ]
    },
    {
      "cell_type": "code",
      "execution_count": null,
      "id": "cb7d276a",
      "metadata": {
        "id": "cb7d276a"
      },
      "outputs": [],
      "source": [
        "file2 = open('hello.txt', 'r')\n",
        "data = file2.read()\n",
        "\n",
        "file2.close()"
      ]
    },
    {
      "cell_type": "code",
      "execution_count": null,
      "id": "7a294f2a",
      "metadata": {
        "id": "7a294f2a",
        "outputId": "df78ba30-c66d-4aa5-9fae-75a36e759913"
      },
      "outputs": [
        {
          "name": "stdout",
          "output_type": "stream",
          "text": [
            "Hello.,world!!May I help you?\n"
          ]
        }
      ],
      "source": [
        "with open('hello.txt','r') as file:\n",
        "    data = file.read()\n",
        "    print(data)"
      ]
    },
    {
      "cell_type": "code",
      "execution_count": null,
      "id": "ed2ab03d",
      "metadata": {
        "id": "ed2ab03d"
      },
      "outputs": [],
      "source": [
        "with open('Hello.txt', 'w') as file:\n",
        "    for i in range(10):\n",
        "        file.write('Hello world!!! : [{0}]\\n'.format(i))"
      ]
    },
    {
      "cell_type": "code",
      "execution_count": null,
      "id": "21602273",
      "metadata": {
        "id": "21602273",
        "outputId": "027c9106-8c01-483f-ecc2-0af90df65882"
      },
      "outputs": [
        {
          "name": "stdout",
          "output_type": "stream",
          "text": [
            "<class 'list'>\n",
            "['Hello world!!! : [0]\\n', 'Hello world!!! : [1]\\n', 'Hello world!!! : [2]\\n', 'Hello world!!! : [3]\\n', 'Hello world!!! : [4]\\n', 'Hello world!!! : [5]\\n', 'Hello world!!! : [6]\\n', 'Hello world!!! : [7]\\n', 'Hello world!!! : [8]\\n', 'Hello world!!! : [9]\\n']\n"
          ]
        }
      ],
      "source": [
        "with open('hello.txt', 'r') as file:\n",
        "    data = file.readlines()\n",
        "\n",
        "print(type(data))\n",
        "print(data)\n"
      ]
    },
    {
      "cell_type": "code",
      "execution_count": null,
      "id": "a65f8038",
      "metadata": {
        "id": "a65f8038"
      },
      "outputs": [],
      "source": [
        "lines = ['안녕하세요. \\n', '파이썬 실습입니다.\\n', 'Good Luck']\n",
        "\n",
        "with open('hello.txt', 'w') as file:\n",
        "    file.writelines(lines)"
      ]
    },
    {
      "cell_type": "code",
      "execution_count": null,
      "id": "c5c46f63",
      "metadata": {
        "id": "c5c46f63",
        "outputId": "4da3050c-79c5-48c2-a895-8c25f043fdcf"
      },
      "outputs": [
        {
          "name": "stdout",
          "output_type": "stream",
          "text": [
            "안녕하세요. \n",
            "파이썬 실습입니다.\n",
            "Good Luck\n",
            "\n"
          ]
        }
      ],
      "source": [
        "with open('hello.txt', 'r') as file:\n",
        "    line = None\n",
        "    while line != '':\n",
        "        line = file.readline()\n",
        "        print(line.strip('\\n'))"
      ]
    },
    {
      "cell_type": "code",
      "execution_count": null,
      "id": "add1a5d9",
      "metadata": {
        "id": "add1a5d9"
      },
      "outputs": [],
      "source": [
        "import pickle\n",
        "\n",
        "name = 'kim'\n",
        "age = 20\n",
        "address = '경기도 의정부시 신곡동'\n",
        "scores ={'Korean':90, 'math':95, 'Eng':85, 'Sci':95 }\n",
        "\n",
        "with open('Kim.p', 'wb') as file:\n",
        "    pickle.dump(name, file)\n",
        "    pickle.dump(age, file)\n",
        "    pickle.dump(address, file)\n",
        "    pickle.dump(scores, file)"
      ]
    },
    {
      "cell_type": "code",
      "execution_count": null,
      "id": "01667fed",
      "metadata": {
        "id": "01667fed",
        "outputId": "27b8a1b4-b53a-4454-9cd4-36f6dbbd369f"
      },
      "outputs": [
        {
          "name": "stdout",
          "output_type": "stream",
          "text": [
            "kim\n",
            "20\n",
            "경기도 의정부시 신곡동\n",
            "{'Korean': 90, 'math': 95, 'Eng': 85, 'Sci': 95}\n"
          ]
        }
      ],
      "source": [
        "import pickle\n",
        "\n",
        "with open('Kim.p', 'rb') as file:\n",
        "    name = pickle.load(file)\n",
        "    age = pickle.load(file)\n",
        "    address = pickle.load(file)\n",
        "    scores = pickle.load(file)\n",
        "    print(name)\n",
        "    print(age)\n",
        "    print(address)\n",
        "    print(scores)"
      ]
    },
    {
      "cell_type": "markdown",
      "id": "1b80f061",
      "metadata": {
        "id": "1b80f061"
      },
      "source": [
        "# U27 _ 연습문제"
      ]
    },
    {
      "cell_type": "code",
      "execution_count": null,
      "id": "77c8a83b",
      "metadata": {
        "id": "77c8a83b",
        "outputId": "47de846d-5796-4986-f126-c095c55069ad"
      },
      "outputs": [
        {
          "ename": "FileNotFoundError",
          "evalue": "[Errno 2] No such file or directory: 'words.txt'",
          "output_type": "error",
          "traceback": [
            "\u001b[1;31m---------------------------------------------------------------------------\u001b[0m",
            "\u001b[1;31mFileNotFoundError\u001b[0m                         Traceback (most recent call last)",
            "Cell \u001b[1;32mIn[24], line 1\u001b[0m\n\u001b[1;32m----> 1\u001b[0m \u001b[38;5;28;01mwith\u001b[39;00m \u001b[38;5;28;43mopen\u001b[39;49m\u001b[43m(\u001b[49m\u001b[38;5;124;43m'\u001b[39;49m\u001b[38;5;124;43mwords.txt\u001b[39;49m\u001b[38;5;124;43m'\u001b[39;49m\u001b[43m,\u001b[49m\u001b[43m \u001b[49m\u001b[38;5;124;43m'\u001b[39;49m\u001b[38;5;124;43mr\u001b[39;49m\u001b[38;5;124;43m'\u001b[39;49m\u001b[43m)\u001b[49m \u001b[38;5;28;01mas\u001b[39;00m file:\n\u001b[0;32m      2\u001b[0m     count \u001b[38;5;241m=\u001b[39m \u001b[38;5;241m0\u001b[39m\n\u001b[0;32m      3\u001b[0m     words \u001b[38;5;241m=\u001b[39m file\u001b[38;5;241m.\u001b[39mreadlines()\n",
            "File \u001b[1;32m~\\miniconda3\\lib\\site-packages\\IPython\\core\\interactiveshell.py:286\u001b[0m, in \u001b[0;36m_modified_open\u001b[1;34m(file, *args, **kwargs)\u001b[0m\n\u001b[0;32m    279\u001b[0m \u001b[38;5;28;01mif\u001b[39;00m file \u001b[38;5;129;01min\u001b[39;00m {\u001b[38;5;241m0\u001b[39m, \u001b[38;5;241m1\u001b[39m, \u001b[38;5;241m2\u001b[39m}:\n\u001b[0;32m    280\u001b[0m     \u001b[38;5;28;01mraise\u001b[39;00m \u001b[38;5;167;01mValueError\u001b[39;00m(\n\u001b[0;32m    281\u001b[0m         \u001b[38;5;124mf\u001b[39m\u001b[38;5;124m\"\u001b[39m\u001b[38;5;124mIPython won\u001b[39m\u001b[38;5;124m'\u001b[39m\u001b[38;5;124mt let you open fd=\u001b[39m\u001b[38;5;132;01m{\u001b[39;00mfile\u001b[38;5;132;01m}\u001b[39;00m\u001b[38;5;124m by default \u001b[39m\u001b[38;5;124m\"\u001b[39m\n\u001b[0;32m    282\u001b[0m         \u001b[38;5;124m\"\u001b[39m\u001b[38;5;124mas it is likely to crash IPython. If you know what you are doing, \u001b[39m\u001b[38;5;124m\"\u001b[39m\n\u001b[0;32m    283\u001b[0m         \u001b[38;5;124m\"\u001b[39m\u001b[38;5;124myou can use builtins\u001b[39m\u001b[38;5;124m'\u001b[39m\u001b[38;5;124m open.\u001b[39m\u001b[38;5;124m\"\u001b[39m\n\u001b[0;32m    284\u001b[0m     )\n\u001b[1;32m--> 286\u001b[0m \u001b[38;5;28;01mreturn\u001b[39;00m io_open(file, \u001b[38;5;241m*\u001b[39margs, \u001b[38;5;241m*\u001b[39m\u001b[38;5;241m*\u001b[39mkwargs)\n",
            "\u001b[1;31mFileNotFoundError\u001b[0m: [Errno 2] No such file or directory: 'words.txt'"
          ]
        }
      ],
      "source": [
        "with open('words.txt', 'r') as file:\n",
        "    count = 0\n",
        "    words = file.readlines()\n",
        "    for word in words:\n",
        "        if len(word.strip('\\n')) < 10:\n",
        "            count += 1\n",
        "    print(count)"
      ]
    },
    {
      "cell_type": "markdown",
      "id": "b073baa9",
      "metadata": {
        "id": "b073baa9"
      },
      "source": [
        "# U27 _ 심사문제"
      ]
    },
    {
      "cell_type": "code",
      "execution_count": 144,
      "id": "4106bf81",
      "metadata": {
        "colab": {
          "base_uri": "https://localhost:8080/",
          "height": 259
        },
        "id": "4106bf81",
        "outputId": "82bc4a85-de70-4543-b6f5-1567f18bfb4e"
      },
      "outputs": [
        {
          "output_type": "error",
          "ename": "FileNotFoundError",
          "evalue": "ignored",
          "traceback": [
            "\u001b[0;31m---------------------------------------------------------------------------\u001b[0m",
            "\u001b[0;31mFileNotFoundError\u001b[0m                         Traceback (most recent call last)",
            "\u001b[0;32m<ipython-input-144-6e63e3e6694e>\u001b[0m in \u001b[0;36m<cell line: 1>\u001b[0;34m()\u001b[0m\n\u001b[0;32m----> 1\u001b[0;31m \u001b[0;32mwith\u001b[0m \u001b[0mopen\u001b[0m\u001b[0;34m(\u001b[0m\u001b[0;34m'words.txt'\u001b[0m\u001b[0;34m,\u001b[0m\u001b[0;34m'r'\u001b[0m\u001b[0;34m)\u001b[0m \u001b[0;32mas\u001b[0m \u001b[0mfile\u001b[0m\u001b[0;34m:\u001b[0m\u001b[0;34m\u001b[0m\u001b[0;34m\u001b[0m\u001b[0m\n\u001b[0m\u001b[1;32m      2\u001b[0m     \u001b[0mfile\u001b[0m \u001b[0;34m=\u001b[0m \u001b[0mfile\u001b[0m\u001b[0;34m.\u001b[0m\u001b[0mread\u001b[0m\u001b[0;34m(\u001b[0m\u001b[0;34m)\u001b[0m\u001b[0;34m\u001b[0m\u001b[0;34m\u001b[0m\u001b[0m\n\u001b[1;32m      3\u001b[0m     \u001b[0mfile\u001b[0m \u001b[0;34m=\u001b[0m \u001b[0mfile\u001b[0m\u001b[0;34m.\u001b[0m\u001b[0mreplace\u001b[0m\u001b[0;34m(\u001b[0m\u001b[0;34m','\u001b[0m\u001b[0;34m,\u001b[0m\u001b[0;34m''\u001b[0m\u001b[0;34m)\u001b[0m\u001b[0;34m\u001b[0m\u001b[0;34m\u001b[0m\u001b[0m\n\u001b[1;32m      4\u001b[0m     \u001b[0mfile\u001b[0m \u001b[0;34m=\u001b[0m \u001b[0mfile\u001b[0m\u001b[0;34m.\u001b[0m\u001b[0mreplace\u001b[0m\u001b[0;34m(\u001b[0m\u001b[0;34m'.'\u001b[0m\u001b[0;34m,\u001b[0m\u001b[0;34m''\u001b[0m\u001b[0;34m)\u001b[0m\u001b[0;34m\u001b[0m\u001b[0;34m\u001b[0m\u001b[0m\n\u001b[1;32m      5\u001b[0m     \u001b[0mfile\u001b[0m \u001b[0;34m=\u001b[0m \u001b[0mfile\u001b[0m\u001b[0;34m.\u001b[0m\u001b[0mreplace\u001b[0m\u001b[0;34m(\u001b[0m\u001b[0;34m'-'\u001b[0m\u001b[0;34m,\u001b[0m\u001b[0;34m''\u001b[0m\u001b[0;34m)\u001b[0m\u001b[0;34m\u001b[0m\u001b[0;34m\u001b[0m\u001b[0m\n",
            "\u001b[0;31mFileNotFoundError\u001b[0m: [Errno 2] No such file or directory: 'words.txt'"
          ]
        }
      ],
      "source": [
        "with open('words.txt','r') as file:\n",
        "    file = file.read()\n",
        "    file = file.replace(',','')\n",
        "    file = file.replace('.','')\n",
        "    file = file.replace('-','')\n",
        "    words = list(file.split())\n",
        "    #print(words)\n",
        "    for word in words:\n",
        "        while 'c' in word:\n",
        "            print(word)\n",
        "            break"
      ]
    },
    {
      "cell_type": "markdown",
      "id": "967624b9",
      "metadata": {
        "id": "967624b9"
      },
      "source": [
        "# U28 _ Main"
      ]
    },
    {
      "cell_type": "code",
      "execution_count": null,
      "id": "5a5cb6d5",
      "metadata": {
        "id": "5a5cb6d5",
        "outputId": "889f1165-ae12-4dac-e422-461f39708c25"
      },
      "outputs": [
        {
          "name": "stdout",
          "output_type": "stream",
          "text": [
            "단어를 입력하세요: level\n",
            "True\n"
          ]
        }
      ],
      "source": [
        "word = input('단어를 입력하세요: ')\n",
        "\n",
        "is_palindrome = True\n",
        "for i in range(len(word) // 2):\n",
        "    if word[i] != word[-1 - i]:\n",
        "        is_palindrome = False\n",
        "        break\n",
        "print(is_palindrome)"
      ]
    },
    {
      "cell_type": "code",
      "execution_count": null,
      "id": "259aa9aa",
      "metadata": {
        "id": "259aa9aa",
        "outputId": "d0feabc2-8e37-46ba-9064-5a05ae11ea20"
      },
      "outputs": [
        {
          "name": "stdout",
          "output_type": "stream",
          "text": [
            "단어를 입력하세요: hello\n",
            "False\n"
          ]
        }
      ],
      "source": [
        "word = input('단어를 입력하세요: ')\n",
        "\n",
        "is_palindrome = True\n",
        "for i in range(len(word) // 2):\n",
        "    if word[i] != word[-1 - i]:\n",
        "        is_palindrome = False\n",
        "        break\n",
        "print(is_palindrome)"
      ]
    },
    {
      "cell_type": "code",
      "execution_count": null,
      "id": "c96ee1d9",
      "metadata": {
        "id": "c96ee1d9",
        "outputId": "d3c51a90-e4b5-4e96-8680-fd97e73f0d85"
      },
      "outputs": [
        {
          "name": "stdout",
          "output_type": "stream",
          "text": [
            "단어를 입력하세요: level\n",
            "True\n"
          ]
        }
      ],
      "source": [
        "word = input('단어를 입력하세요: ')\n",
        "\n",
        "print(word == word[::-1])"
      ]
    },
    {
      "cell_type": "code",
      "execution_count": null,
      "id": "d8ada4a8",
      "metadata": {
        "id": "d8ada4a8",
        "outputId": "d3271437-4631-4902-d504-6be31e224525"
      },
      "outputs": [
        {
          "name": "stdout",
          "output_type": "stream",
          "text": [
            "단어를 입력하세요: hello\n",
            "False\n"
          ]
        }
      ],
      "source": [
        "word = input('단어를 입력하세요: ')\n",
        "\n",
        "print(word == word[::-1])"
      ]
    },
    {
      "cell_type": "code",
      "execution_count": null,
      "id": "694fc489",
      "metadata": {
        "id": "694fc489",
        "outputId": "de42ff09-ab07-43c9-f1a4-cb400f0b6461"
      },
      "outputs": [
        {
          "data": {
            "text/plain": [
              "True"
            ]
          },
          "execution_count": 30,
          "metadata": {},
          "output_type": "execute_result"
        }
      ],
      "source": [
        "word = 'level'\n",
        "list(word) == list(reversed(word))"
      ]
    },
    {
      "cell_type": "code",
      "execution_count": null,
      "id": "4977a12c",
      "metadata": {
        "id": "4977a12c",
        "outputId": "e5ae7999-6ad7-4207-ff70-96a18b4c4cb2"
      },
      "outputs": [
        {
          "data": {
            "text/plain": [
              "['l', 'e', 'v', 'e', 'l']"
            ]
          },
          "execution_count": 31,
          "metadata": {},
          "output_type": "execute_result"
        }
      ],
      "source": [
        "list(word)"
      ]
    },
    {
      "cell_type": "code",
      "execution_count": null,
      "id": "e830344c",
      "metadata": {
        "id": "e830344c",
        "outputId": "41ccf756-cdbb-49a6-f30f-42508fa9320c"
      },
      "outputs": [
        {
          "data": {
            "text/plain": [
              "['l', 'e', 'v', 'e', 'l']"
            ]
          },
          "execution_count": 32,
          "metadata": {},
          "output_type": "execute_result"
        }
      ],
      "source": [
        "list(reversed(word))"
      ]
    },
    {
      "cell_type": "code",
      "execution_count": null,
      "id": "ef1b4ba5",
      "metadata": {
        "id": "ef1b4ba5",
        "outputId": "4448c015-4e33-4147-86ae-32ef839ce3ab"
      },
      "outputs": [
        {
          "data": {
            "text/plain": [
              "True"
            ]
          },
          "execution_count": 34,
          "metadata": {},
          "output_type": "execute_result"
        }
      ],
      "source": [
        "word = 'level'\n",
        "word == ''.join(reversed(word))"
      ]
    },
    {
      "cell_type": "code",
      "execution_count": null,
      "id": "df716bd4",
      "metadata": {
        "id": "df716bd4",
        "outputId": "1bd7c92d-5489-4f7e-b752-69b8b147ec47"
      },
      "outputs": [
        {
          "data": {
            "text/plain": [
              "'level'"
            ]
          },
          "execution_count": 35,
          "metadata": {},
          "output_type": "execute_result"
        }
      ],
      "source": [
        "word"
      ]
    },
    {
      "cell_type": "code",
      "execution_count": null,
      "id": "5eb4ad41",
      "metadata": {
        "id": "5eb4ad41",
        "outputId": "03a244af-36b2-414c-f956-5dfb4a8c8c51"
      },
      "outputs": [
        {
          "data": {
            "text/plain": [
              "'level'"
            ]
          },
          "execution_count": 36,
          "metadata": {},
          "output_type": "execute_result"
        }
      ],
      "source": [
        "''.join(reversed(word))"
      ]
    },
    {
      "cell_type": "code",
      "execution_count": null,
      "id": "0c408413",
      "metadata": {
        "id": "0c408413",
        "outputId": "ae3d2d6d-41fd-4c7e-f762-5d6908b7133d"
      },
      "outputs": [
        {
          "name": "stdout",
          "output_type": "stream",
          "text": [
            "He\n",
            "el\n",
            "ll\n",
            "lo\n"
          ]
        }
      ],
      "source": [
        "text = 'Hello'\n",
        "\n",
        "for i in range(len(text)-1):\n",
        "    print(text[i], text[i+1], sep = '')"
      ]
    },
    {
      "cell_type": "code",
      "execution_count": null,
      "id": "44b90a52",
      "metadata": {
        "id": "44b90a52",
        "outputId": "45d8f404-3969-49b4-c10e-fef4ed39e008"
      },
      "outputs": [
        {
          "name": "stdout",
          "output_type": "stream",
          "text": [
            "this is\n",
            "is python\n",
            "python script\n"
          ]
        }
      ],
      "source": [
        "text = 'this is python script'\n",
        "words = text.split()\n",
        "\n",
        "for i in range(len(words)-1):\n",
        "    print(words[i], words[i + 1])"
      ]
    },
    {
      "cell_type": "code",
      "execution_count": null,
      "id": "db403c01",
      "metadata": {
        "id": "db403c01",
        "outputId": "3de3fb0d-a387-4ac7-cf8d-c95a7fff8961"
      },
      "outputs": [
        {
          "name": "stdout",
          "output_type": "stream",
          "text": [
            "he\n",
            "el\n",
            "ll\n",
            "lo\n"
          ]
        }
      ],
      "source": [
        "text = 'hello'\n",
        "\n",
        "two_gram = zip(text, text[1:])\n",
        "for i in two_gram:\n",
        "    print(i[0], i[1], sep='')"
      ]
    },
    {
      "cell_type": "code",
      "execution_count": null,
      "id": "3828dd9c",
      "metadata": {
        "id": "3828dd9c",
        "outputId": "e0933059-3ac8-45a6-bb94-01c8df8b3f96"
      },
      "outputs": [
        {
          "data": {
            "text/plain": [
              "[('h', 'e'), ('e', 'l'), ('l', 'l'), ('l', 'o')]"
            ]
          },
          "execution_count": 40,
          "metadata": {},
          "output_type": "execute_result"
        }
      ],
      "source": [
        "text = 'hello'\n",
        "list(zip(text, text[1:]))"
      ]
    },
    {
      "cell_type": "code",
      "execution_count": null,
      "id": "2184fb9e",
      "metadata": {
        "id": "2184fb9e",
        "outputId": "e581636a-7c16-4888-fc27-51170bd3e3a9"
      },
      "outputs": [
        {
          "data": {
            "text/plain": [
              "[('this', 'is'), ('is', 'python'), ('python', 'script')]"
            ]
          },
          "execution_count": 41,
          "metadata": {},
          "output_type": "execute_result"
        }
      ],
      "source": [
        "text = 'this is python script'\n",
        "words = text.split()\n",
        "list(zip(words,words[1:]))"
      ]
    },
    {
      "cell_type": "code",
      "execution_count": null,
      "id": "b4ab1784",
      "metadata": {
        "id": "b4ab1784",
        "outputId": "334985e2-31fa-40b2-f4f1-38255d75c6c0"
      },
      "outputs": [
        {
          "data": {
            "text/plain": [
              "['hello', 'ello', 'llo']"
            ]
          },
          "execution_count": 42,
          "metadata": {},
          "output_type": "execute_result"
        }
      ],
      "source": [
        "text = 'hello'\n",
        "[text[i:] for i in range(3)]"
      ]
    },
    {
      "cell_type": "code",
      "execution_count": null,
      "id": "0396154f",
      "metadata": {
        "id": "0396154f",
        "outputId": "e62d4948-a100-471e-c0b9-11beee704dbe"
      },
      "outputs": [
        {
          "data": {
            "text/plain": [
              "[('hello',), ('ello',), ('llo',)]"
            ]
          },
          "execution_count": 43,
          "metadata": {},
          "output_type": "execute_result"
        }
      ],
      "source": [
        "list(zip(['hello', 'ello', 'llo']))"
      ]
    },
    {
      "cell_type": "code",
      "execution_count": null,
      "id": "b1ec47d7",
      "metadata": {
        "id": "b1ec47d7",
        "outputId": "afc4a649-f56a-4965-f8d0-0b1501d20546"
      },
      "outputs": [
        {
          "data": {
            "text/plain": [
              "[('h', 'e', 'l'), ('e', 'l', 'l'), ('l', 'l', 'o')]"
            ]
          },
          "execution_count": 44,
          "metadata": {},
          "output_type": "execute_result"
        }
      ],
      "source": [
        "list(zip(*[text[i:]for i in range(3)]))"
      ]
    },
    {
      "cell_type": "markdown",
      "source": [
        "#Unit28-연습문제"
      ],
      "metadata": {
        "id": "-qpnbFU2-mHO"
      },
      "id": "-qpnbFU2-mHO"
    },
    {
      "cell_type": "code",
      "execution_count": 111,
      "id": "b3442291",
      "metadata": {
        "colab": {
          "base_uri": "https://localhost:8080/"
        },
        "id": "b3442291",
        "outputId": "1312788c-4dc8-4e03-9c91-c32fad4fea8d"
      },
      "outputs": [
        {
          "output_type": "stream",
          "name": "stdout",
          "text": [
            "7\n",
            "Python is a programming language that lets you work quickly\n",
            "('Python', 'is', 'a', 'programming', 'language', 'that', 'lets')\n",
            "('is', 'a', 'programming', 'language', 'that', 'lets', 'you')\n",
            "('a', 'programming', 'language', 'that', 'lets', 'you', 'work')\n",
            "('programming', 'language', 'that', 'lets', 'you', 'work', 'quickly')\n"
          ]
        }
      ],
      "source": [
        "n = int(input())\n",
        "text = input()\n",
        "words = text.split()\n",
        "\n",
        "if len(words) < n:\n",
        "  print('wrong')\n",
        "else:\n",
        "  n_gram = zip(*[words[i:] for i in range(n)])\n",
        "  for i in n_gram:\n",
        "    print(i)"
      ]
    },
    {
      "cell_type": "markdown",
      "source": [
        "#Unit28-심사문제"
      ],
      "metadata": {
        "id": "nb9aQRGP-riB"
      },
      "id": "nb9aQRGP-riB"
    },
    {
      "cell_type": "code",
      "execution_count": 146,
      "id": "1bede0e0",
      "metadata": {
        "colab": {
          "base_uri": "https://localhost:8080/",
          "height": 259
        },
        "id": "1bede0e0",
        "outputId": "cd610310-7e1e-4ce2-b513-3c465857ff44"
      },
      "outputs": [
        {
          "output_type": "error",
          "ename": "FileNotFoundError",
          "evalue": "ignored",
          "traceback": [
            "\u001b[0;31m---------------------------------------------------------------------------\u001b[0m",
            "\u001b[0;31mFileNotFoundError\u001b[0m                         Traceback (most recent call last)",
            "\u001b[0;32m<ipython-input-146-0c3f27173654>\u001b[0m in \u001b[0;36m<cell line: 1>\u001b[0;34m()\u001b[0m\n\u001b[0;32m----> 1\u001b[0;31m \u001b[0;32mwith\u001b[0m \u001b[0mopen\u001b[0m\u001b[0;34m(\u001b[0m\u001b[0;34m'words.txt'\u001b[0m\u001b[0;34m,\u001b[0m\u001b[0;34m'r'\u001b[0m\u001b[0;34m)\u001b[0m \u001b[0;32mas\u001b[0m \u001b[0mfile\u001b[0m\u001b[0;34m:\u001b[0m\u001b[0;34m\u001b[0m\u001b[0;34m\u001b[0m\u001b[0m\n\u001b[0m\u001b[1;32m      2\u001b[0m     \u001b[0mfile\u001b[0m \u001b[0;34m=\u001b[0m \u001b[0mfile\u001b[0m\u001b[0;34m.\u001b[0m\u001b[0mread\u001b[0m\u001b[0;34m(\u001b[0m\u001b[0;34m)\u001b[0m\u001b[0;34m\u001b[0m\u001b[0;34m\u001b[0m\u001b[0m\n\u001b[1;32m      3\u001b[0m     \u001b[0mwords\u001b[0m \u001b[0;34m=\u001b[0m \u001b[0mfile\u001b[0m\u001b[0;34m.\u001b[0m\u001b[0msplit\u001b[0m\u001b[0;34m(\u001b[0m\u001b[0;34m'\\n'\u001b[0m\u001b[0;34m)\u001b[0m\u001b[0;34m\u001b[0m\u001b[0;34m\u001b[0m\u001b[0m\n\u001b[1;32m      4\u001b[0m     \u001b[0;32mfor\u001b[0m \u001b[0mi\u001b[0m \u001b[0;32min\u001b[0m \u001b[0mwords\u001b[0m\u001b[0;34m:\u001b[0m\u001b[0;34m\u001b[0m\u001b[0;34m\u001b[0m\u001b[0m\n\u001b[1;32m      5\u001b[0m         \u001b[0;32mif\u001b[0m \u001b[0mi\u001b[0m \u001b[0;34m==\u001b[0m \u001b[0mi\u001b[0m\u001b[0;34m[\u001b[0m\u001b[0;34m:\u001b[0m\u001b[0;34m:\u001b[0m\u001b[0;34m-\u001b[0m\u001b[0;36m1\u001b[0m\u001b[0;34m]\u001b[0m\u001b[0;34m:\u001b[0m\u001b[0;34m\u001b[0m\u001b[0;34m\u001b[0m\u001b[0m\n",
            "\u001b[0;31mFileNotFoundError\u001b[0m: [Errno 2] No such file or directory: 'words.txt'"
          ]
        }
      ],
      "source": [
        "with open('words.txt','r') as file:\n",
        "    file = file.read()\n",
        "    words = file.split('\\n')\n",
        "    for i in words:\n",
        "        if i == i[::-1]:\n",
        "            print(i)\n",
        "        else:\n",
        "            continue"
      ]
    },
    {
      "cell_type": "markdown",
      "source": [
        "#Unit29-Main"
      ],
      "metadata": {
        "id": "gJCuoChrA7B6"
      },
      "id": "gJCuoChrA7B6"
    },
    {
      "cell_type": "code",
      "source": [
        "def hello():\n",
        "  print('Hello, world!')"
      ],
      "metadata": {
        "id": "evlrYCtxBGdy"
      },
      "id": "evlrYCtxBGdy",
      "execution_count": 113,
      "outputs": []
    },
    {
      "cell_type": "code",
      "source": [
        "hello()"
      ],
      "metadata": {
        "colab": {
          "base_uri": "https://localhost:8080/"
        },
        "id": "kOq0qyvOBGbN",
        "outputId": "bb911ac2-833f-43dc-ac4c-cb6cdeee6a63"
      },
      "id": "kOq0qyvOBGbN",
      "execution_count": 114,
      "outputs": [
        {
          "output_type": "stream",
          "name": "stdout",
          "text": [
            "Hello, world!\n"
          ]
        }
      ]
    },
    {
      "cell_type": "code",
      "source": [
        "hello()\n",
        "\n",
        "def hello():\n",
        "    print('Hello, world!')"
      ],
      "metadata": {
        "colab": {
          "base_uri": "https://localhost:8080/"
        },
        "id": "R2hLCDalBGYg",
        "outputId": "9047183c-ac05-4a49-d7c8-2110d7d7837c"
      },
      "id": "R2hLCDalBGYg",
      "execution_count": 115,
      "outputs": [
        {
          "output_type": "stream",
          "name": "stdout",
          "text": [
            "Hello, world!\n"
          ]
        }
      ]
    },
    {
      "cell_type": "code",
      "source": [
        "def add(a, b):\n",
        "  print(a + b)"
      ],
      "metadata": {
        "id": "s0hM4699BGWK"
      },
      "id": "s0hM4699BGWK",
      "execution_count": 116,
      "outputs": []
    },
    {
      "cell_type": "code",
      "source": [
        "add(10, 20)"
      ],
      "metadata": {
        "colab": {
          "base_uri": "https://localhost:8080/"
        },
        "id": "WXbqMK5DBGTr",
        "outputId": "a43ab66c-d3e4-4742-e67e-30598ff6cb38"
      },
      "id": "WXbqMK5DBGTr",
      "execution_count": 117,
      "outputs": [
        {
          "output_type": "stream",
          "name": "stdout",
          "text": [
            "30\n"
          ]
        }
      ]
    },
    {
      "cell_type": "code",
      "source": [
        "def add(a, b):\n",
        "  return a + b"
      ],
      "metadata": {
        "id": "YIp1PnCvBGRR"
      },
      "id": "YIp1PnCvBGRR",
      "execution_count": 118,
      "outputs": []
    },
    {
      "cell_type": "code",
      "source": [
        "x = add(10, 20)\n",
        "x"
      ],
      "metadata": {
        "colab": {
          "base_uri": "https://localhost:8080/"
        },
        "id": "TmvsxKwjBGOd",
        "outputId": "c3b4f2d3-a250-4fb3-87b4-8f5849dd8681"
      },
      "id": "TmvsxKwjBGOd",
      "execution_count": 119,
      "outputs": [
        {
          "output_type": "execute_result",
          "data": {
            "text/plain": [
              "30"
            ]
          },
          "metadata": {},
          "execution_count": 119
        }
      ]
    },
    {
      "cell_type": "code",
      "source": [
        "print(add(10, 20))"
      ],
      "metadata": {
        "colab": {
          "base_uri": "https://localhost:8080/"
        },
        "id": "iDsBVmT2BGMH",
        "outputId": "a4e82de5-ef3e-47cf-b3ea-d24d6c1d6c57"
      },
      "id": "iDsBVmT2BGMH",
      "execution_count": 120,
      "outputs": [
        {
          "output_type": "stream",
          "name": "stdout",
          "text": [
            "30\n"
          ]
        }
      ]
    },
    {
      "cell_type": "code",
      "source": [
        "def one():\n",
        "  return 1"
      ],
      "metadata": {
        "id": "AxPzrlwABGJo"
      },
      "id": "AxPzrlwABGJo",
      "execution_count": 121,
      "outputs": []
    },
    {
      "cell_type": "code",
      "source": [
        "x = one()\n",
        "x"
      ],
      "metadata": {
        "colab": {
          "base_uri": "https://localhost:8080/"
        },
        "id": "bFxw5pkFBGHj",
        "outputId": "6b8f6776-0aa5-4cfa-b954-21e8e99fa1c1"
      },
      "id": "bFxw5pkFBGHj",
      "execution_count": 122,
      "outputs": [
        {
          "output_type": "execute_result",
          "data": {
            "text/plain": [
              "1"
            ]
          },
          "metadata": {},
          "execution_count": 122
        }
      ]
    },
    {
      "cell_type": "code",
      "source": [
        "def add_sub(a, b):\n",
        "  return a + b, a - b"
      ],
      "metadata": {
        "id": "jBIFhwfABGFQ"
      },
      "id": "jBIFhwfABGFQ",
      "execution_count": 123,
      "outputs": []
    },
    {
      "cell_type": "code",
      "source": [
        "x, y = add_sub(10, 20)\n",
        "x"
      ],
      "metadata": {
        "colab": {
          "base_uri": "https://localhost:8080/"
        },
        "id": "fYn6AqDlBGCy",
        "outputId": "6615028f-836c-4c76-93f8-d39b351954b7"
      },
      "id": "fYn6AqDlBGCy",
      "execution_count": 124,
      "outputs": [
        {
          "output_type": "execute_result",
          "data": {
            "text/plain": [
              "30"
            ]
          },
          "metadata": {},
          "execution_count": 124
        }
      ]
    },
    {
      "cell_type": "code",
      "source": [
        "y"
      ],
      "metadata": {
        "colab": {
          "base_uri": "https://localhost:8080/"
        },
        "id": "5tBznHy4BF_H",
        "outputId": "331fe35a-23f5-4400-ae5e-a08eeb5be787"
      },
      "id": "5tBznHy4BF_H",
      "execution_count": 125,
      "outputs": [
        {
          "output_type": "execute_result",
          "data": {
            "text/plain": [
              "-10"
            ]
          },
          "metadata": {},
          "execution_count": 125
        }
      ]
    },
    {
      "cell_type": "code",
      "source": [
        "x = add_sub(10, 20)\n",
        "x"
      ],
      "metadata": {
        "colab": {
          "base_uri": "https://localhost:8080/"
        },
        "id": "axpdlj-wBF8I",
        "outputId": "0323e18e-9e44-4833-934f-c4732aff3885"
      },
      "id": "axpdlj-wBF8I",
      "execution_count": 127,
      "outputs": [
        {
          "output_type": "execute_result",
          "data": {
            "text/plain": [
              "(30, -10)"
            ]
          },
          "metadata": {},
          "execution_count": 127
        }
      ]
    },
    {
      "cell_type": "code",
      "source": [
        "x, y = (30, -10)\n",
        "x"
      ],
      "metadata": {
        "colab": {
          "base_uri": "https://localhost:8080/"
        },
        "id": "YKgvwWetBF4y",
        "outputId": "eb15616e-5c3b-49ab-cfed-8c378bbeb7c6"
      },
      "id": "YKgvwWetBF4y",
      "execution_count": 128,
      "outputs": [
        {
          "output_type": "execute_result",
          "data": {
            "text/plain": [
              "30"
            ]
          },
          "metadata": {},
          "execution_count": 128
        }
      ]
    },
    {
      "cell_type": "code",
      "source": [
        "y"
      ],
      "metadata": {
        "colab": {
          "base_uri": "https://localhost:8080/"
        },
        "id": "2QbujYw5BF1s",
        "outputId": "3fe20dd3-de3d-4f2e-9775-5aa8f6eb8a1c"
      },
      "id": "2QbujYw5BF1s",
      "execution_count": 129,
      "outputs": [
        {
          "output_type": "execute_result",
          "data": {
            "text/plain": [
              "-10"
            ]
          },
          "metadata": {},
          "execution_count": 129
        }
      ]
    },
    {
      "cell_type": "code",
      "source": [
        "def mul(a, b):\n",
        "    c = a * b\n",
        "    return c\n",
        "\n",
        "def add(a, b):\n",
        "    c = a + b\n",
        "    print(c)\n",
        "    d = mul(a, b)\n",
        "    print(d)\n",
        "\n",
        "x = 10\n",
        "y = 20\n",
        "add(x, y)"
      ],
      "metadata": {
        "colab": {
          "base_uri": "https://localhost:8080/"
        },
        "id": "fDIsE7u7BFyN",
        "outputId": "85d8cdc4-ffc4-43f0-b10c-27e954e107ce"
      },
      "id": "fDIsE7u7BFyN",
      "execution_count": 130,
      "outputs": [
        {
          "output_type": "stream",
          "name": "stdout",
          "text": [
            "30\n",
            "200\n"
          ]
        }
      ]
    },
    {
      "cell_type": "markdown",
      "id": "504430f4",
      "metadata": {
        "id": "504430f4"
      },
      "source": [
        "#Unit29-연습문제"
      ]
    },
    {
      "cell_type": "code",
      "source": [
        "x = 10\n",
        "y = 3\n",
        "def get_quotient_remainder(a, b):\n",
        "  return a // b, a % b\n",
        "quotient, remainder = get_quotient_remainder(x, y)\n",
        "print('몫: {0}, 나머지: {1}'.format(quotient, remainder))"
      ],
      "metadata": {
        "colab": {
          "base_uri": "https://localhost:8080/"
        },
        "id": "ZTQXmq3uBEnX",
        "outputId": "1bfda4d0-1b32-4400-8083-ce862ae31087"
      },
      "id": "ZTQXmq3uBEnX",
      "execution_count": 136,
      "outputs": [
        {
          "output_type": "stream",
          "name": "stdout",
          "text": [
            "몫: 3, 나머지: 1\n"
          ]
        }
      ]
    },
    {
      "cell_type": "markdown",
      "source": [
        "#Unit29-심사문제"
      ],
      "metadata": {
        "id": "Z5XReyGEA46h"
      },
      "id": "Z5XReyGEA46h"
    },
    {
      "cell_type": "code",
      "source": [
        "x, y = map(int, input().split())\n",
        "\n",
        "def calc(x,y):\n",
        "  a = x+y\n",
        "  b = x-y\n",
        "  c = x*y\n",
        "  d = float(x/y)\n",
        "  return a,b,c,d\n",
        "\n",
        "a, s, m, d = calc(x, y)\n",
        "print('덧셈: {0}, 뺄셈: {1}, 곱셈: {2}, 나눗셈: {3}'.format(a, s, m, d))"
      ],
      "metadata": {
        "colab": {
          "base_uri": "https://localhost:8080/"
        },
        "id": "EeHTgT54BFGt",
        "outputId": "13cad0e2-83ea-4150-9fef-8a3d7850e04e"
      },
      "id": "EeHTgT54BFGt",
      "execution_count": 147,
      "outputs": [
        {
          "output_type": "stream",
          "name": "stdout",
          "text": [
            "40 8\n",
            "덧셈: 48, 뺄셈: 32, 곱셈: 320, 나눗셈: 5.0\n"
          ]
        }
      ]
    }
  ],
  "metadata": {
    "kernelspec": {
      "display_name": "Python 3 (ipykernel)",
      "language": "python",
      "name": "python3"
    },
    "language_info": {
      "codemirror_mode": {
        "name": "ipython",
        "version": 3
      },
      "file_extension": ".py",
      "mimetype": "text/x-python",
      "name": "python",
      "nbconvert_exporter": "python",
      "pygments_lexer": "ipython3",
      "version": "3.10.13"
    },
    "colab": {
      "provenance": [],
      "include_colab_link": true
    }
  },
  "nbformat": 4,
  "nbformat_minor": 5
}
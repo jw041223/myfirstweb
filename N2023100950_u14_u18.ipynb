{
  "cells": [
    {
      "cell_type": "markdown",
      "metadata": {
        "id": "view-in-github",
        "colab_type": "text"
      },
      "source": [
        "<a href=\"https://colab.research.google.com/github/jw041223/myfirstweb/blob/main/N2023100950_u14_u18.ipynb\" target=\"_parent\"><img src=\"https://colab.research.google.com/assets/colab-badge.svg\" alt=\"Open In Colab\"/></a>"
      ]
    },
    {
      "cell_type": "markdown",
      "id": "8af45cf9-ef55-486c-b669-627e26f19091",
      "metadata": {
        "id": "8af45cf9-ef55-486c-b669-627e26f19091"
      },
      "source": [
        "# Unit14-Main"
      ]
    },
    {
      "cell_type": "code",
      "source": [
        "x =5\n",
        "if x == 10:\n",
        "    print('10입니다.')\n",
        "else:\n",
        "    print('10이 아닙니다.')"
      ],
      "metadata": {
        "colab": {
          "base_uri": "https://localhost:8080/"
        },
        "id": "DeRcIrvX4Zkl",
        "outputId": "c281e0d8-7ce8-4aab-c563-64d03ae7f2d9"
      },
      "id": "DeRcIrvX4Zkl",
      "execution_count": null,
      "outputs": [
        {
          "output_type": "stream",
          "name": "stdout",
          "text": [
            "10이 아닙니다.\n"
          ]
        }
      ]
    },
    {
      "cell_type": "code",
      "source": [
        "if x ==10:\n",
        "    y = x\n",
        "else:\n",
        "    y = 0"
      ],
      "metadata": {
        "id": "i5CdXj3I4V2s"
      },
      "id": "i5CdXj3I4V2s",
      "execution_count": null,
      "outputs": []
    },
    {
      "cell_type": "code",
      "source": [
        "print(y)"
      ],
      "metadata": {
        "id": "8v5gGKIa4WCL"
      },
      "id": "8v5gGKIa4WCL",
      "execution_count": null,
      "outputs": []
    },
    {
      "cell_type": "code",
      "source": [
        "x = 11\n",
        "if x ==10:\n",
        "    print('10이 맞습니다.')\n",
        "else:\n",
        "    print('x에들어있는숫자는')\n",
        "    print('10이 아닙니다')"
      ],
      "metadata": {
        "id": "9jw8RzOk4WFs"
      },
      "id": "9jw8RzOk4WFs",
      "execution_count": null,
      "outputs": []
    },
    {
      "cell_type": "code",
      "source": [
        "if True:\n",
        "    print('참')\n",
        "else:\n",
        "    print('거짓')\n",
        "\n",
        "if False:\n",
        "    print('참')\n",
        "else:\n",
        "    print('거짓')\n",
        "\n",
        "if None:\n",
        "    print('참')\n",
        "else:\n",
        "    print('거짓')"
      ],
      "metadata": {
        "id": "ZGiYHh014Wlv"
      },
      "id": "ZGiYHh014Wlv",
      "execution_count": null,
      "outputs": []
    },
    {
      "cell_type": "code",
      "source": [],
      "metadata": {
        "id": "mRfnaZwj4XW4"
      },
      "id": "mRfnaZwj4XW4",
      "execution_count": null,
      "outputs": []
    },
    {
      "cell_type": "markdown",
      "source": [
        "# Unit14-연습문제\n"
      ],
      "metadata": {
        "id": "QIf5Zuh75KzG"
      },
      "id": "QIf5Zuh75KzG"
    },
    {
      "cell_type": "code",
      "source": [
        "written_test = 75\n",
        "coding_test = True\n",
        "if written_test >= 80 and coding_test == True:\n",
        "    print('합격')\n",
        "else:\n",
        "    print('불합격')"
      ],
      "metadata": {
        "id": "Fz89R2qp4XaW"
      },
      "id": "Fz89R2qp4XaW",
      "execution_count": null,
      "outputs": []
    },
    {
      "cell_type": "markdown",
      "source": [
        "# Unit14-심사문제"
      ],
      "metadata": {
        "id": "798i_5np5TgY"
      },
      "id": "798i_5np5TgY"
    },
    {
      "cell_type": "code",
      "source": [
        "# , english , math , science = map(int,input().split())\n",
        "#if 0<=korean<=100 and 0<=english<=100 and 0<=math<=100 and 0<=scinece<=100:\n",
        "#    if (korean+english+math+science)/4 >=80:\n",
        "#        print('합격')\n",
        "#    else:\n",
        "#        print('불합격')\n",
        "#else:\n",
        "#    print('잘못된 점수')"
      ],
      "metadata": {
        "id": "zc57bQAJ4Xg1"
      },
      "id": "zc57bQAJ4Xg1",
      "execution_count": null,
      "outputs": []
    },
    {
      "cell_type": "code",
      "source": [
        "korean, english,math,science = map(int,input().split())\n",
        "if 0<=korean<=100 and 0<=english<=100 and 0<=math<=100 and 0<=science<=100:\n",
        "    if (korean+english+math+science)/4 >=80:\n",
        "        print('합격')\n",
        "    else:\n",
        "        print('불합격')\n",
        "else:\n",
        "    print('잘못된 점수')"
      ],
      "metadata": {
        "colab": {
          "base_uri": "https://localhost:8080/"
        },
        "id": "go1WysFw4XmY",
        "outputId": "56c57cb0-a669-4023-d598-d77f48c20131"
      },
      "id": "go1WysFw4XmY",
      "execution_count": null,
      "outputs": [
        {
          "output_type": "stream",
          "name": "stdout",
          "text": [
            "90 90 90 90\n",
            "합격\n"
          ]
        }
      ]
    },
    {
      "cell_type": "code",
      "source": [],
      "metadata": {
        "id": "_XqXR39Z4Xpc"
      },
      "id": "_XqXR39Z4Xpc",
      "execution_count": null,
      "outputs": []
    },
    {
      "cell_type": "markdown",
      "source": [
        "# Unit15-Main"
      ],
      "metadata": {
        "id": "_d3DKHXH5zx6"
      },
      "id": "_d3DKHXH5zx6"
    },
    {
      "cell_type": "code",
      "source": [
        "x = 20\n",
        "if x == 10:\n",
        "  print('입니다.')\n",
        "elif x== 20:\n",
        "  print('20입니다.')"
      ],
      "metadata": {
        "colab": {
          "base_uri": "https://localhost:8080/"
        },
        "id": "aob2kSlV4Xr1",
        "outputId": "6989ba6d-86f4-4c38-f9e2-bc284a22d6b5"
      },
      "id": "aob2kSlV4Xr1",
      "execution_count": null,
      "outputs": [
        {
          "output_type": "stream",
          "name": "stdout",
          "text": [
            "20입니다.\n"
          ]
        }
      ]
    },
    {
      "cell_type": "code",
      "source": [
        "x = 30\n",
        "\n",
        "if x == 10:\n",
        "  print('10입니다.')\n",
        "elif x == 20:\n",
        "  print('거짓입니다.')\n",
        "else:\n",
        "  print('10도 20도 아닙니다.')"
      ],
      "metadata": {
        "colab": {
          "base_uri": "https://localhost:8080/"
        },
        "id": "y4qZK5Bf4Xu4",
        "outputId": "1487e9f6-35c4-4b91-a2ca-95a41d0b4a10"
      },
      "id": "y4qZK5Bf4Xu4",
      "execution_count": null,
      "outputs": [
        {
          "output_type": "stream",
          "name": "stdout",
          "text": [
            "10도 20도 아닙니다.\n"
          ]
        }
      ]
    },
    {
      "cell_type": "code",
      "source": [
        "button = int(input())\n",
        "\n",
        "if button == 1:\n",
        "  print('콜라.')\n",
        "elif button == 2:\n",
        "  print('사이다.')\n",
        "elif button == 3:\n",
        "  print('환타.')\n",
        "else:\n",
        "  print('제공하지 않는 메뉴.')\n"
      ],
      "metadata": {
        "colab": {
          "base_uri": "https://localhost:8080/"
        },
        "id": "wqljHbTj4XxV",
        "outputId": "7c00bdfb-7899-401c-f96c-8c6293235527"
      },
      "id": "wqljHbTj4XxV",
      "execution_count": null,
      "outputs": [
        {
          "output_type": "stream",
          "name": "stdout",
          "text": [
            "1\n",
            "콜라.\n"
          ]
        }
      ]
    },
    {
      "cell_type": "code",
      "source": [],
      "metadata": {
        "id": "Ue26XzAE4X0Y"
      },
      "id": "Ue26XzAE4X0Y",
      "execution_count": null,
      "outputs": []
    },
    {
      "cell_type": "markdown",
      "source": [
        "# Unit 15 - 연습문제"
      ],
      "metadata": {
        "id": "B6BLq5x67SNg"
      },
      "id": "B6BLq5x67SNg"
    },
    {
      "cell_type": "code",
      "source": [
        "x = int(input())\n",
        "if 11<= x <= 20:\n",
        "  print('11~20')\n",
        "elif 21 <= x <= 30:\n",
        "  print('21~30')\n",
        "else:\n",
        "  print('아무것도 해당하지 않음.')"
      ],
      "metadata": {
        "colab": {
          "base_uri": "https://localhost:8080/"
        },
        "id": "XH3tXYLb4X2z",
        "outputId": "47985ad3-76de-4512-dc5b-e49f571cb6bc"
      },
      "id": "XH3tXYLb4X2z",
      "execution_count": null,
      "outputs": [
        {
          "output_type": "stream",
          "name": "stdout",
          "text": [
            "5\n",
            "아무것도 해당하지 않음.\n"
          ]
        }
      ]
    },
    {
      "cell_type": "markdown",
      "source": [
        "#Unit15-심사문제"
      ],
      "metadata": {
        "id": "ODrzQjRs71KU"
      },
      "id": "ODrzQjRs71KU"
    },
    {
      "cell_type": "code",
      "source": [
        "age = int(input())\n",
        "balance = 9000\n",
        "if age >= 7 and age <= 12:\n",
        "  balance = balance - 650\n",
        "elif age >= 13 and age <= 18:\n",
        "  balance = balance - 1050\n",
        "else:\n",
        "  balance = balance - 1250\n",
        "print(balance)"
      ],
      "metadata": {
        "colab": {
          "base_uri": "https://localhost:8080/"
        },
        "id": "eCYnpCCY4X5c",
        "outputId": "0906c187-deb9-490d-99b3-bb374166b6f0"
      },
      "id": "eCYnpCCY4X5c",
      "execution_count": null,
      "outputs": [
        {
          "output_type": "stream",
          "name": "stdout",
          "text": [
            "17\n",
            "7950\n"
          ]
        }
      ]
    },
    {
      "cell_type": "markdown",
      "source": [
        "# Unit16 - Main"
      ],
      "metadata": {
        "id": "p8DcgX534056"
      },
      "id": "p8DcgX534056"
    },
    {
      "cell_type": "code",
      "execution_count": null,
      "id": "f5469950-52cc-4b97-a298-d63ac36659e4",
      "metadata": {
        "id": "f5469950-52cc-4b97-a298-d63ac36659e4",
        "outputId": "5cf1c9e5-1a18-44c7-ca07-f739ad3c35d8"
      },
      "outputs": [
        {
          "name": "stdout",
          "output_type": "stream",
          "text": [
            "Hello, world!\n",
            "Hello, world!\n",
            "Hello, world!\n",
            "Hello, world!\n",
            "Hello, world!\n",
            "Hello, world!\n",
            "Hello, world!\n",
            "Hello, world!\n"
          ]
        }
      ],
      "source": [
        "print('Hello, world!')\n",
        "print('Hello, world!')\n",
        "print('Hello, world!')\n",
        "print('Hello, world!')\n",
        "print('Hello, world!')\n",
        "print('Hello, world!')\n",
        "print('Hello, world!')\n",
        "print('Hello, world!')\n"
      ]
    },
    {
      "cell_type": "markdown",
      "id": "2e82411e-f708-4618-9fd2-d2a8d6f006b3",
      "metadata": {
        "id": "2e82411e-f708-4618-9fd2-d2a8d6f006b3"
      },
      "source": [
        "## U16_Main\n",
        "### for loop\n",
        "- 지정된 범위가 있을때\n",
        "- range()\n",
        "### while loop\n",
        "- 지정된 조건이 있을때"
      ]
    },
    {
      "cell_type": "code",
      "execution_count": null,
      "id": "1711b390-0729-43ea-b3b1-4fa9df1844e2",
      "metadata": {
        "id": "1711b390-0729-43ea-b3b1-4fa9df1844e2",
        "outputId": "80b9fa02-e15f-45c0-de62-20841de0c1d9"
      },
      "outputs": [
        {
          "name": "stdout",
          "output_type": "stream",
          "text": [
            "0: Hello, World!\n",
            "1: Hello, World!\n",
            "2: Hello, World!\n",
            "3: Hello, World!\n",
            "4: Hello, World!\n",
            "5: Hello, World!\n",
            "6: Hello, World!\n",
            "7: Hello, World!\n",
            "8: Hello, World!\n",
            "9: Hello, World!\n",
            "-------------------\n"
          ]
        }
      ],
      "source": [
        "for i in range(10):\n",
        "    print(i, end = ': ')\n",
        "    print('Hello, World!')\n",
        "print('-------------------')\n",
        "for"
      ]
    },
    {
      "cell_type": "code",
      "execution_count": null,
      "id": "8e51956d-f71d-41d9-a85f-b0b3c1d19186",
      "metadata": {
        "colab": {
          "base_uri": "https://localhost:8080/"
        },
        "id": "8e51956d-f71d-41d9-a85f-b0b3c1d19186",
        "outputId": "5caf4d18-151b-4f85-9b1d-0bd80c44f1d2"
      },
      "outputs": [
        {
          "output_type": "stream",
          "name": "stdout",
          "text": [
            "0123456789"
          ]
        }
      ],
      "source": [
        "for xyz in range(10):\n",
        "    print(xyz, end ='')"
      ]
    },
    {
      "cell_type": "code",
      "execution_count": null,
      "id": "3d59ea43-fefa-40eb-8723-4e299b682cf0",
      "metadata": {
        "id": "3d59ea43-fefa-40eb-8723-4e299b682cf0",
        "outputId": "3dff7834-fb0e-40be-9ea5-d2391125dcde"
      },
      "outputs": [
        {
          "name": "stdout",
          "output_type": "stream",
          "text": [
            "10\n",
            "20\n",
            "30\n",
            "40\n",
            "50\n",
            "str\n"
          ]
        }
      ],
      "source": [
        "for data in [10, 20, 30, 40, 50, 'str']:\n",
        "    print(data)"
      ]
    },
    {
      "cell_type": "code",
      "execution_count": null,
      "id": "b448ca4d-e16c-47a1-8939-1eb4d5fa8c33",
      "metadata": {
        "id": "b448ca4d-e16c-47a1-8939-1eb4d5fa8c33",
        "outputId": "d24ecea2-64b8-49ab-c8b9-bcd1b764ae6c"
      },
      "outputs": [
        {
          "name": "stdout",
          "output_type": "stream",
          "text": [
            "10\n",
            "20\n",
            "30\n",
            "40\n",
            "50\n",
            "str\n"
          ]
        }
      ],
      "source": [
        "for data in (10, 20, 30, 40, 50, 'str'):\n",
        "    print(data)"
      ]
    },
    {
      "cell_type": "code",
      "execution_count": null,
      "id": "e42181c7-029e-4c8c-b188-3a04bf1d946b",
      "metadata": {
        "id": "e42181c7-029e-4c8c-b188-3a04bf1d946b",
        "outputId": "481a2e6b-ea78-4e9b-d572-ed0cc0d475a7"
      },
      "outputs": [
        {
          "name": "stdout",
          "output_type": "stream",
          "text": [
            "H\n",
            "e\n",
            "l\n",
            "l\n",
            "o\n",
            ",\n",
            " \n",
            "W\n",
            "o\n",
            "r\n",
            "l\n",
            "d\n",
            "!\n",
            "!\n"
          ]
        }
      ],
      "source": [
        "for char in 'Hello, World!!':\n",
        "    print(char)"
      ]
    },
    {
      "cell_type": "code",
      "execution_count": null,
      "id": "165d3646-6796-44d8-b358-eea7d9760345",
      "metadata": {
        "id": "165d3646-6796-44d8-b358-eea7d9760345",
        "outputId": "27e1e60e-f4c6-4c3d-8106-0bf6ba493dec"
      },
      "outputs": [
        {
          "name": "stdin",
          "output_type": "stream",
          "text": [
            "반복할 횟수를 입력하세요:  3\n"
          ]
        },
        {
          "name": "stdout",
          "output_type": "stream",
          "text": [
            "0 Hello, world!!\n",
            "1 Hello, world!!\n",
            "2 Hello, world!!\n"
          ]
        }
      ],
      "source": [
        "count = int(input('반복할 횟수를 입력하세요: '))\n",
        "for i in range(count):\n",
        "    print(i, 'Hello, world!!')"
      ]
    },
    {
      "cell_type": "code",
      "execution_count": null,
      "id": "873c805c-a650-4fe7-8165-5ae9debaf536",
      "metadata": {
        "id": "873c805c-a650-4fe7-8165-5ae9debaf536",
        "outputId": "6ddebf64-8e70-48ce-d3b9-739ab70d1e7a"
      },
      "outputs": [
        {
          "name": "stdout",
          "output_type": "stream",
          "text": [
            "!\n",
            "!\n",
            "d\n",
            "l\n",
            "r\n",
            "o\n",
            "W\n",
            " \n",
            ",\n",
            "o\n",
            "l\n",
            "l\n",
            "e\n",
            "H\n"
          ]
        }
      ],
      "source": [
        "for char in reversed('Hello, World!!'):\n",
        "    print(char)"
      ]
    },
    {
      "cell_type": "code",
      "execution_count": null,
      "id": "e31b54b0-549f-490c-9c06-44a32097a7c9",
      "metadata": {
        "id": "e31b54b0-549f-490c-9c06-44a32097a7c9",
        "outputId": "5351881a-572a-4bb7-ef14-9c683605d0c2"
      },
      "outputs": [
        {
          "data": {
            "text/plain": [
              "'dlrow ,olleH'"
            ]
          },
          "execution_count": 19,
          "metadata": {},
          "output_type": "execute_result"
        }
      ],
      "source": [
        "''.join(reversed('Hello, world'))"
      ]
    },
    {
      "cell_type": "markdown",
      "source": [
        "# Unit16-연습문제"
      ],
      "metadata": {
        "id": "HP2mdzMF9tGm"
      },
      "id": "HP2mdzMF9tGm"
    },
    {
      "cell_type": "code",
      "source": [
        "x = [49, -17, 25, 102, 8, 62, 21]\n",
        "\n",
        "for i in x:\n",
        "  print(i*10, end=' ')"
      ],
      "metadata": {
        "colab": {
          "base_uri": "https://localhost:8080/"
        },
        "id": "7RsDvNcN9xzm",
        "outputId": "12c8f55d-695e-4bbe-a1f8-a171c3b49af0"
      },
      "id": "7RsDvNcN9xzm",
      "execution_count": null,
      "outputs": [
        {
          "output_type": "stream",
          "name": "stdout",
          "text": [
            "490 -170 250 1020 80 620 210 "
          ]
        }
      ]
    },
    {
      "cell_type": "markdown",
      "source": [
        "# Unit16-심사문제"
      ],
      "metadata": {
        "id": "Gk5h9XTL9ySK"
      },
      "id": "Gk5h9XTL9ySK"
    },
    {
      "cell_type": "code",
      "source": [
        "num = int(input())\n",
        "for i in range(1,10):\n",
        "  print(num,\"*\",i,\"=\",num*i)"
      ],
      "metadata": {
        "colab": {
          "base_uri": "https://localhost:8080/"
        },
        "id": "oJjGgdqF91fT",
        "outputId": "e424676e-63a1-4578-e908-cc5c3bbb5284"
      },
      "id": "oJjGgdqF91fT",
      "execution_count": null,
      "outputs": [
        {
          "output_type": "stream",
          "name": "stdout",
          "text": [
            "2\n",
            "2 * 1 = 2\n",
            "2 * 2 = 4\n",
            "2 * 3 = 6\n",
            "2 * 4 = 8\n",
            "2 * 5 = 10\n",
            "2 * 6 = 12\n",
            "2 * 7 = 14\n",
            "2 * 8 = 16\n",
            "2 * 9 = 18\n"
          ]
        }
      ]
    },
    {
      "cell_type": "markdown",
      "id": "d2ddfd6e-f70e-46f8-9205-2a894bfbd57e",
      "metadata": {
        "id": "d2ddfd6e-f70e-46f8-9205-2a894bfbd57e"
      },
      "source": [
        "# Unit 17\n",
        "## while\n",
        "#### while(조건식):\n",
        "##### 코드1\n",
        "##### 코드2"
      ]
    },
    {
      "cell_type": "code",
      "execution_count": null,
      "id": "7d39691a-35ad-4b8f-80df-c9c5369b101e",
      "metadata": {
        "id": "7d39691a-35ad-4b8f-80df-c9c5369b101e"
      },
      "outputs": [],
      "source": [
        "i = 7\n",
        "while(i == 0):\n",
        "    print('Ok')\n",
        "    print('Good')"
      ]
    },
    {
      "cell_type": "code",
      "execution_count": null,
      "id": "b9bf85ba-645a-49a3-b006-48efbe3d6d43",
      "metadata": {
        "id": "b9bf85ba-645a-49a3-b006-48efbe3d6d43",
        "outputId": "f6e28c52-ed09-4708-bc6f-523e1bc39868"
      },
      "outputs": [
        {
          "name": "stdout",
          "output_type": "stream",
          "text": [
            "0\n",
            "1\n",
            "2\n",
            "3\n",
            "4\n",
            "5\n",
            "6\n",
            "7\n",
            "8\n",
            "9\n"
          ]
        }
      ],
      "source": [
        "i = 0\n",
        "while(i < 10):\n",
        "    print(i)\n",
        "    i += 1"
      ]
    },
    {
      "cell_type": "code",
      "execution_count": null,
      "id": "e0f4c6fb-ad1f-4296-b550-a2775cb2b3d9",
      "metadata": {
        "id": "e0f4c6fb-ad1f-4296-b550-a2775cb2b3d9",
        "outputId": "5f3d7586-a7af-4c83-e8b3-f7dde99239ef"
      },
      "outputs": [
        {
          "name": "stdout",
          "output_type": "stream",
          "text": [
            "9\n",
            "8\n",
            "7\n",
            "6\n",
            "5\n",
            "4\n",
            "3\n",
            "2\n",
            "1\n",
            "0\n"
          ]
        }
      ],
      "source": [
        "i = 10\n",
        "while(i >= 1):\n",
        "    i -= 1\n",
        "    print(i)"
      ]
    },
    {
      "cell_type": "code",
      "execution_count": null,
      "id": "cf64ee89-c065-454d-a1cf-adfcc2dce611",
      "metadata": {
        "id": "cf64ee89-c065-454d-a1cf-adfcc2dce611",
        "outputId": "9b655834-47f3-4fe5-bc0a-4ec779c2c50c"
      },
      "outputs": [
        {
          "name": "stdin",
          "output_type": "stream",
          "text": [
            "숫자를 입력하세요. 5\n"
          ]
        },
        {
          "name": "stdout",
          "output_type": "stream",
          "text": [
            "Hello, World!!\n",
            "Hello, World!!\n",
            "Hello, World!!\n",
            "Hello, World!!\n",
            "Hello, World!!\n"
          ]
        }
      ],
      "source": [
        "##숫자를 입력 받아서, 그 숫자 갯수로 헬로우월드 출력\n",
        "a = int(input('숫자를 입력하세요.'))\n",
        "while(a > 0):\n",
        "    print('Hello, World!!')\n",
        "    a -= 1\n"
      ]
    },
    {
      "cell_type": "code",
      "execution_count": null,
      "id": "82790a0f-0a99-4483-bca9-bf64b1c4cb5b",
      "metadata": {
        "id": "82790a0f-0a99-4483-bca9-bf64b1c4cb5b",
        "outputId": "ca7d4b63-74cf-434e-d998-49080fc32c15"
      },
      "outputs": [
        {
          "name": "stdout",
          "output_type": "stream",
          "text": [
            "0.36347915853134927\n",
            "4\n"
          ]
        }
      ],
      "source": [
        "import random\n",
        "\n",
        "print(random.random())\n",
        "print(random.randint(1, 6))"
      ]
    },
    {
      "cell_type": "code",
      "execution_count": null,
      "id": "744c8f64-b82e-487c-a214-528ff9fb03fb",
      "metadata": {
        "id": "744c8f64-b82e-487c-a214-528ff9fb03fb",
        "outputId": "bdac7152-99e0-42a3-8fe8-966a6a7a77d7"
      },
      "outputs": [
        {
          "name": "stdout",
          "output_type": "stream",
          "text": [
            "2 실패입니다 노력하십쇼 ㅋ\n"
          ]
        }
      ],
      "source": [
        "import random\n",
        "i = random.randint(1,6)\n",
        "if i == 4:\n",
        "    print('드디어 4가 나왔습니다. 게임이 끝났습니다')\n",
        "else:\n",
        "    print(i, '실패입니다 노력하십쇼 ㅋ')"
      ]
    },
    {
      "cell_type": "code",
      "execution_count": null,
      "id": "bcdcd6eb-7d7c-4234-9f44-7205a310062b",
      "metadata": {
        "id": "bcdcd6eb-7d7c-4234-9f44-7205a310062b",
        "outputId": "b7ee705c-5d73-40f6-c405-5f8b3562c87e"
      },
      "outputs": [
        {
          "name": "stdin",
          "output_type": "stream",
          "text": [
            "리버풀의 역대 최다골 득점자를 맞추시오 이언 러시\n"
          ]
        },
        {
          "name": "stdout",
          "output_type": "stream",
          "text": [
            "딩동댕동~~!! 당신은 진정한 리버풀 팬입니다.\n"
          ]
        }
      ],
      "source": [
        "a = input('리버풀의 역대 최다골 득점자를 맞추시오')\n",
        "if a == ('이언 러시'):\n",
        "    print('딩동댕동~~!! 당신은 진정한 리버풀 팬입니다.')\n",
        "else:\n",
        "    print('땡@@!!. 실망입니다. 조금 더 공부해오세요.')"
      ]
    },
    {
      "cell_type": "code",
      "execution_count": null,
      "id": "9cf794ec-f034-43dc-8639-402bc8aa5091",
      "metadata": {
        "id": "9cf794ec-f034-43dc-8639-402bc8aa5091",
        "outputId": "ac72388f-34f9-4008-f844-edc93b234e8a"
      },
      "outputs": [
        {
          "name": "stdin",
          "output_type": "stream",
          "text": [
            "주사위 놀이를 마칠 숫자를 입력하세요.:  5\n"
          ]
        },
        {
          "name": "stdout",
          "output_type": "stream",
          "text": [
            "지금은 3입니다. 게임은 계속됩니다.\n",
            "지금은 4입니다. 게임은 계속됩니다.\n",
            "지금은 6입니다. 게임은 계속됩니다.\n",
            "지금은 6입니다. 게임은 계속됩니다.\n",
            "지금은 4입니다. 게임은 계속됩니다.\n",
            "지금은 6입니다. 게임은 계속됩니다.\n",
            "지금은 4입니다. 게임은 계속됩니다.\n",
            "지금은 6입니다. 게임은 계속됩니다.\n",
            "지금은 4입니다. 게임은 계속됩니다.\n",
            "지금은 1입니다. 게임은 계속됩니다.\n",
            "지금은 6입니다. 게임은 계속됩니다.\n",
            "지금은 2입니다. 게임은 계속됩니다.\n",
            "지금은 5입니다. 정답입니다.\n"
          ]
        }
      ],
      "source": [
        "import random\n",
        "\n",
        "end_number = int(input('주사위 놀이를 마칠 숫자를 입력하세요.: '))\n",
        "\n",
        "rand_n = 0\n",
        "\n",
        "while rand_n != end_number:\n",
        "    rand_n = random.randint(1,6)\n",
        "    if rand_n == end_number:\n",
        "        print(f'지금은 {rand_n}입니다. 정답입니다.')\n",
        "    else:\n",
        "        print(f'지금은 {rand_n}입니다. 게임은 계속됩니다.')"
      ]
    },
    {
      "cell_type": "code",
      "execution_count": null,
      "id": "a6cb2b30-59ad-4306-bf1b-2ccb3f5b9eac",
      "metadata": {
        "id": "a6cb2b30-59ad-4306-bf1b-2ccb3f5b9eac",
        "outputId": "fb7a9afc-7050-426a-c151-242e434e3caf"
      },
      "outputs": [
        {
          "ename": "SyntaxError",
          "evalue": "expected ':' (4167600401.py, line 5)",
          "output_type": "error",
          "traceback": [
            "\u001b[1;36m  Cell \u001b[1;32mIn[164], line 5\u001b[1;36m\u001b[0m\n\u001b[1;33m    if i == 5\u001b[0m\n\u001b[1;37m             ^\u001b[0m\n\u001b[1;31mSyntaxError\u001b[0m\u001b[1;31m:\u001b[0m expected ':'\n"
          ]
        }
      ],
      "source": [
        "i = 0\n",
        "\n",
        "while i <= 10:\n",
        "    print('Go')\n",
        "    if i == 5\n",
        "    break\n",
        "    i += 1"
      ]
    },
    {
      "cell_type": "markdown",
      "source": [
        "# Unit17-연습문제"
      ],
      "metadata": {
        "id": "fOC8eZCs93fF"
      },
      "id": "fOC8eZCs93fF"
    },
    {
      "cell_type": "code",
      "source": [
        "i = 2\n",
        "j = 5\n",
        "while i <= 32 or j >= 1:\n",
        "  print(i, j)\n",
        "  i *= 2\n",
        "  j -= 1"
      ],
      "metadata": {
        "colab": {
          "base_uri": "https://localhost:8080/"
        },
        "id": "GnjrUjYU97c4",
        "outputId": "c8131621-39dc-491b-c6ff-82b3706b5c7d"
      },
      "id": "GnjrUjYU97c4",
      "execution_count": null,
      "outputs": [
        {
          "output_type": "stream",
          "name": "stdout",
          "text": [
            "2 5\n",
            "4 4\n",
            "8 3\n",
            "16 2\n",
            "32 1\n"
          ]
        }
      ]
    },
    {
      "cell_type": "markdown",
      "source": [
        "# Unit17-심사문제"
      ],
      "metadata": {
        "id": "KUKVFpzJ98Je"
      },
      "id": "KUKVFpzJ98Je"
    },
    {
      "cell_type": "code",
      "source": [
        "num = int(input())\n",
        "while num-1350 >= 0:\n",
        "  num -= 1350\n",
        "  print(num)"
      ],
      "metadata": {
        "colab": {
          "base_uri": "https://localhost:8080/"
        },
        "id": "ePpl18cD98gL",
        "outputId": "ef18dcf9-49ff-460c-cdb0-ba988b0fcd65"
      },
      "id": "ePpl18cD98gL",
      "execution_count": null,
      "outputs": [
        {
          "output_type": "stream",
          "name": "stdout",
          "text": [
            "10000\n",
            "8650\n",
            "7300\n",
            "5950\n",
            "4600\n",
            "3250\n",
            "1900\n",
            "550\n"
          ]
        }
      ]
    },
    {
      "cell_type": "markdown",
      "id": "65768e7a-7def-42f4-8518-dfa1a8f0e5f0",
      "metadata": {
        "id": "65768e7a-7def-42f4-8518-dfa1a8f0e5f0"
      },
      "source": [
        "## Unit18\n",
        "### 제어문\n",
        "- break, continue\n",
        "- break: 제어 흐름 중단\n",
        "- continue: 제어 흐름 유지, 코드 실행만 건너뜀"
      ]
    },
    {
      "cell_type": "code",
      "execution_count": null,
      "id": "fddb75fe-adc1-4ebc-a6c2-d52b55a889bc",
      "metadata": {
        "id": "fddb75fe-adc1-4ebc-a6c2-d52b55a889bc",
        "outputId": "d4c0f2fa-1ce2-4aad-fb0b-d12145059d9f"
      },
      "outputs": [
        {
          "name": "stdout",
          "output_type": "stream",
          "text": [
            "OKOKOKOK    OKOKOK\n",
            "0\n",
            "OKOKOKOK    OKOKOK\n",
            "1\n",
            "OKOKOKOK    OKOKOK\n",
            "2\n",
            "OKOKOKOK    OKOKOK\n",
            "3\n",
            "OKOKOKOK    OKOKOK\n",
            "5\n",
            "OKOKOKOK    OKOKOK\n",
            "6\n",
            "OKOKOKOK    OKOKOK\n",
            "7\n",
            "OKOKOKOK    OKOKOK\n",
            "8\n",
            "OKOKOKOK    OKOKOK\n",
            "9\n"
          ]
        }
      ],
      "source": [
        "for i in range(10):\n",
        "    if i ==4:\n",
        "        continue\n",
        "    print(\"OKOKOKOK    OKOKOK\")\n",
        "    print(i)"
      ]
    },
    {
      "cell_type": "code",
      "execution_count": null,
      "id": "c1e16d5d-6cec-4f4f-84e9-de8a35c86223",
      "metadata": {
        "id": "c1e16d5d-6cec-4f4f-84e9-de8a35c86223",
        "outputId": "dbe30d20-361c-4971-d430-d38a32c346ed"
      },
      "outputs": [
        {
          "name": "stdin",
          "output_type": "stream",
          "text": [
            "끝나는 숫자는?  18\n"
          ]
        },
        {
          "name": "stdout",
          "output_type": "stream",
          "text": [
            "1 OK\n",
            "2 OK\n",
            "4 OK\n",
            "5 OK\n",
            "7 OK\n",
            "8 OK\n",
            "10 OK\n",
            "11 OK\n",
            "13 OK\n",
            "14 OK\n",
            "16 OK\n",
            "17 OK\n"
          ]
        }
      ],
      "source": [
        "i = 0\n",
        "end_num = int(input('끝나는 숫자는? '))\n",
        "\n",
        "while (True):\n",
        "    i += 1\n",
        "\n",
        "    if i % 3 == 0 and i != end_num:\n",
        "        continue\n",
        "\n",
        "    print(i, 'OK')\n",
        "\n",
        "    if i == end_num - 1:\n",
        "        break\n",
        "\n",
        "#3의 배수는 출력하지 말고, end_num에서 마무리하세요."
      ]
    },
    {
      "cell_type": "code",
      "execution_count": null,
      "id": "97a571f4-1bef-44fa-8bd5-31693225d4dd",
      "metadata": {
        "colab": {
          "base_uri": "https://localhost:8080/"
        },
        "id": "97a571f4-1bef-44fa-8bd5-31693225d4dd",
        "outputId": "8ff5ea7b-4f64-4075-d124-be35ceafe7b9"
      },
      "outputs": [
        {
          "output_type": "stream",
          "name": "stdout",
          "text": [
            "'Python' is a \"programing language\"\n",
            "that lets you work quickly\n",
            "and\n",
            "intergrate systems more effectively.\n"
          ]
        }
      ],
      "source": [
        "x = \"\"\"'Python' is a \"programing language\"\n",
        "that lets you work quickly\n",
        "and\n",
        "intergrate systems more effectively.\"\"\"\n",
        "print(x)"
      ]
    },
    {
      "cell_type": "code",
      "execution_count": null,
      "id": "64fc08fa-d8c6-4ef7-ba5d-d26594382bff",
      "metadata": {
        "colab": {
          "base_uri": "https://localhost:8080/"
        },
        "id": "64fc08fa-d8c6-4ef7-ba5d-d26594382bff",
        "outputId": "a4adf05e-c060-4b2d-890c-553b860f9f70"
      },
      "outputs": [
        {
          "output_type": "stream",
          "name": "stdout",
          "text": [
            "2\n",
            "(-10, -8, -6, -4, -2, 0, 2, 4, 6, 8)\n"
          ]
        }
      ],
      "source": [
        "x = int(input())\n",
        "print(tuple(range(-10,10,x)))"
      ]
    },
    {
      "cell_type": "code",
      "execution_count": null,
      "id": "38ea4b57-5241-41ad-afc3-7f4b03149dc0",
      "metadata": {
        "colab": {
          "base_uri": "https://localhost:8080/"
        },
        "id": "38ea4b57-5241-41ad-afc3-7f4b03149dc0",
        "outputId": "bb605e2c-df03-48f3-839d-29cd727f0c0b"
      },
      "outputs": [
        {
          "output_type": "execute_result",
          "data": {
            "text/plain": [
              "5"
            ]
          },
          "metadata": {},
          "execution_count": 16
        }
      ],
      "source": [
        "a = [1,2,3,4,5]\n",
        "a[len(a)-1]"
      ]
    },
    {
      "cell_type": "code",
      "execution_count": null,
      "id": "4fb2c6eb-16bf-4102-ab33-089bd1d813c7",
      "metadata": {
        "colab": {
          "base_uri": "https://localhost:8080/",
          "height": 35
        },
        "id": "4fb2c6eb-16bf-4102-ab33-089bd1d813c7",
        "outputId": "3d4b668a-6fb5-4c2f-a355-a7cfbd0501d1"
      },
      "outputs": [
        {
          "output_type": "execute_result",
          "data": {
            "text/plain": [
              "'dlrow ,olleh'"
            ],
            "application/vnd.google.colaboratory.intrinsic+json": {
              "type": "string"
            }
          },
          "metadata": {},
          "execution_count": 22
        }
      ],
      "source": [
        "a = 'hello, world'\n",
        "a[14::-1]"
      ]
    },
    {
      "cell_type": "code",
      "execution_count": null,
      "id": "4966d2d8-c017-4519-8f66-b8cfb4df6865",
      "metadata": {
        "colab": {
          "base_uri": "https://localhost:8080/"
        },
        "id": "4966d2d8-c017-4519-8f66-b8cfb4df6865",
        "outputId": "20d67ae5-990d-4abf-8d9c-659c50b90f3f"
      },
      "outputs": [
        {
          "output_type": "stream",
          "name": "stdout",
          "text": [
            "dlrow ,olleh"
          ]
        }
      ],
      "source": [
        "i = 'hello, world'\n",
        "for letter in reversed(i):\n",
        "  print(letter, end='')"
      ]
    },
    {
      "cell_type": "code",
      "execution_count": null,
      "id": "d5d20e15-a282-4894-8561-b6e82a3dfb6c",
      "metadata": {
        "colab": {
          "base_uri": "https://localhost:8080/"
        },
        "id": "d5d20e15-a282-4894-8561-b6e82a3dfb6c",
        "outputId": "bc9c8028-f580-477c-83ee-11b6e4e94a06"
      },
      "outputs": [
        {
          "output_type": "stream",
          "name": "stdout",
          "text": [
            "1 2 3 4 5 7 8\n",
            "('1', '2')\n"
          ]
        }
      ],
      "source": [
        "x = input().split()\n",
        "del x[-5:]\n",
        "print(tuple(x))"
      ]
    },
    {
      "cell_type": "code",
      "execution_count": null,
      "id": "3032a92c-4762-4e50-83ad-646e9e81aee0",
      "metadata": {
        "colab": {
          "base_uri": "https://localhost:8080/"
        },
        "id": "3032a92c-4762-4e50-83ad-646e9e81aee0",
        "outputId": "960aed53-17a7-4531-defb-7ed6389da513"
      },
      "outputs": [
        {
          "output_type": "stream",
          "name": "stdout",
          "text": [
            "7\n",
            "7 * 1 = 7\n",
            "7 * 2 = 14\n",
            "7 * 3 = 21\n",
            "7 * 4 = 28\n",
            "7 * 5 = 35\n",
            "7 * 6 = 42\n",
            "7 * 7 = 49\n",
            "7 * 8 = 56\n",
            "7 * 9 = 63\n"
          ]
        }
      ],
      "source": [
        "num = int(input())\n",
        "for i in range(1,10):\n",
        "  print(num,'*',i,'=',i*num)"
      ]
    },
    {
      "cell_type": "markdown",
      "source": [
        "# Unit18-연습문제\n"
      ],
      "metadata": {
        "id": "AL1k8x_H8hgp"
      },
      "id": "AL1k8x_H8hgp"
    },
    {
      "cell_type": "code",
      "source": [
        "i = 0\n",
        "while True:\n",
        "  if i % 10 != 3:\n",
        "    i += 1\n",
        "    continue\n",
        "  if i > 73:\n",
        "    break\n",
        "  print(i, end=' ')\n",
        "  i += 1"
      ],
      "metadata": {
        "colab": {
          "base_uri": "https://localhost:8080/"
        },
        "id": "xJdancio8lHm",
        "outputId": "c5d4615e-6d7e-413a-8cba-a278cae5d8e7"
      },
      "id": "xJdancio8lHm",
      "execution_count": null,
      "outputs": [
        {
          "output_type": "stream",
          "name": "stdout",
          "text": [
            "3 13 23 33 43 53 63 73 "
          ]
        }
      ]
    },
    {
      "cell_type": "markdown",
      "source": [
        "# Unit18 - 심사문제"
      ],
      "metadata": {
        "id": "hwzd39vi9LPi"
      },
      "id": "hwzd39vi9LPi"
    },
    {
      "cell_type": "code",
      "source": [
        "start, stop = map(int,input().split())\n",
        "i = start\n",
        "while True:\n",
        "  if i % 10 == 3:\n",
        "    i += 1\n",
        "    continue\n",
        "  if i > stop:\n",
        "    break\n",
        "  print(i, end=' ')\n",
        "  i += 1\n"
      ],
      "metadata": {
        "id": "I-yhaYis5Hs0",
        "colab": {
          "base_uri": "https://localhost:8080/"
        },
        "outputId": "a657e60a-d5ac-4e05-cd28-94c0829b5c0d"
      },
      "id": "I-yhaYis5Hs0",
      "execution_count": null,
      "outputs": [
        {
          "output_type": "stream",
          "name": "stdout",
          "text": [
            "21 33\n",
            "21 22 24 25 26 27 28 29 30 31 32 "
          ]
        }
      ]
    }
  ],
  "metadata": {
    "kernelspec": {
      "display_name": "Python 3 (ipykernel)",
      "language": "python",
      "name": "python3"
    },
    "language_info": {
      "codemirror_mode": {
        "name": "ipython",
        "version": 3
      },
      "file_extension": ".py",
      "mimetype": "text/x-python",
      "name": "python",
      "nbconvert_exporter": "python",
      "pygments_lexer": "ipython3",
      "version": "3.10.10"
    },
    "colab": {
      "provenance": [],
      "include_colab_link": true
    }
  },
  "nbformat": 4,
  "nbformat_minor": 5
}
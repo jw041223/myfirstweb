{
  "cells": [
    {
      "cell_type": "markdown",
      "metadata": {
        "id": "view-in-github",
        "colab_type": "text"
      },
      "source": [
        "<a href=\"https://colab.research.google.com/github/jw041223/myfirstweb/blob/main/N2023100950_U22_U24.ipynb\" target=\"_parent\"><img src=\"https://colab.research.google.com/assets/colab-badge.svg\" alt=\"Open In Colab\"/></a>"
      ]
    },
    {
      "cell_type": "code",
      "execution_count": null,
      "id": "a93974d1",
      "metadata": {
        "id": "a93974d1"
      },
      "outputs": [],
      "source": [
        "a = [10,20,30,40,50]\n",
        "print(a)\n",
        "print(len(a))"
      ]
    },
    {
      "cell_type": "code",
      "execution_count": null,
      "id": "6b7f275c",
      "metadata": {
        "id": "6b7f275c"
      },
      "outputs": [],
      "source": [
        "a.append(100)\n",
        "a\n",
        "a.append(200)\n",
        "a"
      ]
    },
    {
      "cell_type": "code",
      "execution_count": null,
      "id": "1e70e11b",
      "metadata": {
        "id": "1e70e11b"
      },
      "outputs": [],
      "source": [
        "a = [10,20,30,40,50]\n",
        "a.append([100,200,300])\n",
        "a"
      ]
    },
    {
      "cell_type": "code",
      "execution_count": null,
      "id": "73e7199f",
      "metadata": {
        "id": "73e7199f"
      },
      "outputs": [],
      "source": [
        "a = [10,20,30,40,50]\n",
        "a.extend([100,200,300])\n",
        "a"
      ]
    },
    {
      "cell_type": "code",
      "execution_count": null,
      "id": "75de1e9e",
      "metadata": {
        "id": "75de1e9e"
      },
      "outputs": [],
      "source": [
        "a =[10,20,30,40,50]\n",
        "a[3] = 100\n",
        "a"
      ]
    },
    {
      "cell_type": "code",
      "execution_count": null,
      "id": "980ebc4d",
      "metadata": {
        "id": "980ebc4d"
      },
      "outputs": [],
      "source": [
        "a =[10,20,30,40,50]\n",
        "a.insert(3,100)\n",
        "a"
      ]
    },
    {
      "cell_type": "code",
      "execution_count": null,
      "id": "16b1d1ae",
      "metadata": {
        "id": "16b1d1ae"
      },
      "outputs": [],
      "source": [
        "a =[10,20,30,40,50]\n",
        "a[3] = [100,300]\n",
        "a"
      ]
    },
    {
      "cell_type": "code",
      "execution_count": null,
      "id": "26381ea0",
      "metadata": {
        "id": "26381ea0"
      },
      "outputs": [],
      "source": [
        "a =[10,20,30,40,50]\n",
        "a[3:3] = [100,300]\n",
        "a"
      ]
    },
    {
      "cell_type": "code",
      "execution_count": null,
      "id": "fdb763d4",
      "metadata": {
        "id": "fdb763d4"
      },
      "outputs": [],
      "source": [
        "a = [10,20,30,40,50]\n",
        "b = a.pop()\n",
        "print(a)\n",
        "print(b)"
      ]
    },
    {
      "cell_type": "code",
      "execution_count": null,
      "id": "fd9da691",
      "metadata": {
        "id": "fd9da691"
      },
      "outputs": [],
      "source": [
        "a = [10,20,30,40,50]\n",
        "a.pop(3)\n",
        "print(a)"
      ]
    },
    {
      "cell_type": "code",
      "execution_count": null,
      "id": "a28002f8",
      "metadata": {
        "id": "a28002f8"
      },
      "outputs": [],
      "source": [
        "a = [10,20,30,40,50]\n",
        "del a[3]\n",
        "a"
      ]
    },
    {
      "cell_type": "code",
      "execution_count": null,
      "id": "4d14878c",
      "metadata": {
        "id": "4d14878c"
      },
      "outputs": [],
      "source": [
        "a = [10,20,30,40,50]\n",
        "b = a.remove(30)\n",
        "print(a)\n",
        "print(b)"
      ]
    },
    {
      "cell_type": "code",
      "execution_count": null,
      "id": "2de71290",
      "metadata": {
        "id": "2de71290"
      },
      "outputs": [],
      "source": [
        "a = [80,10,30,5,3,12,44]\n",
        "b = a.reverse()\n",
        "print(a)\n",
        "print(b)"
      ]
    },
    {
      "cell_type": "code",
      "execution_count": null,
      "id": "d2b79fcd",
      "metadata": {
        "id": "d2b79fcd"
      },
      "outputs": [],
      "source": [
        "a = [80,10,30,5,3,12,44]\n",
        "b = a.sort()\n",
        "print(a)\n",
        "print(b)"
      ]
    },
    {
      "cell_type": "code",
      "execution_count": null,
      "id": "d9991a72",
      "metadata": {
        "id": "d9991a72"
      },
      "outputs": [],
      "source": [
        "a = [80,10,30,5,3,12,44]\n",
        "b = sorted(a)\n",
        "print(a)\n",
        "print(b)"
      ]
    },
    {
      "cell_type": "code",
      "execution_count": null,
      "id": "29678578",
      "metadata": {
        "id": "29678578"
      },
      "outputs": [],
      "source": [
        "a = [10,20,30]\n",
        "a.clear()\n",
        "a"
      ]
    },
    {
      "cell_type": "code",
      "execution_count": null,
      "id": "2c72c60a",
      "metadata": {
        "id": "2c72c60a"
      },
      "outputs": [],
      "source": [
        "a = [10,20,30]\n",
        "del a[:]\n",
        "a"
      ]
    },
    {
      "cell_type": "code",
      "execution_count": null,
      "id": "57d5f036",
      "metadata": {
        "id": "57d5f036",
        "outputId": "c0d8c4c2-ff69-4725-812b-4a66c3c5f5ec"
      },
      "outputs": [
        {
          "name": "stdout",
          "output_type": "stream",
          "text": [
            "[10, 20, 30, 100, 200, 300]\n"
          ]
        }
      ],
      "source": [
        "a = [10,20,30]\n",
        "a[len(a):] = [100,200,300]\n",
        "print(a)"
      ]
    },
    {
      "cell_type": "markdown",
      "id": "e4b3f46d",
      "metadata": {
        "id": "e4b3f46d"
      },
      "source": [
        "# Unit 22 연습문제"
      ]
    },
    {
      "cell_type": "code",
      "execution_count": null,
      "id": "540c19f6",
      "metadata": {
        "id": "540c19f6",
        "outputId": "845a891d-690d-4563-cb1a-8e9e3bff4b7d"
      },
      "outputs": [
        {
          "name": "stdout",
          "output_type": "stream",
          "text": [
            "['alpha', 'bravo', 'delta', 'hotel', 'india']\n"
          ]
        }
      ],
      "source": [
        "a = ['alpha', 'bravo', 'charlie', 'delta', 'echo', 'foxtort', 'golf', 'hotel', 'india']\n",
        "b = [i for i in a if len(i) == 5]\n",
        "\n",
        "print(b)"
      ]
    },
    {
      "cell_type": "markdown",
      "id": "e2fd9660",
      "metadata": {
        "id": "e2fd9660"
      },
      "source": [
        "# Unit22 심사문제\n"
      ]
    },
    {
      "cell_type": "code",
      "execution_count": 1,
      "id": "e2b3d9ca",
      "metadata": {
        "colab": {
          "base_uri": "https://localhost:8080/"
        },
        "id": "e2b3d9ca",
        "outputId": "cbe6a28e-1754-4633-c67b-30a16bc4281e"
      },
      "outputs": [
        {
          "output_type": "stream",
          "name": "stdout",
          "text": [
            "10 20\n",
            "[1024, 4096, 8192, 16384, 32768, 65536, 131072, 262144, 1048576]\n"
          ]
        }
      ],
      "source": [
        "a,b = map(int,input().split())\n",
        "x = [2**i for i in range(a,b+1)]\n",
        "del x[1]\n",
        "del x[-2]\n",
        "print(x)"
      ]
    },
    {
      "cell_type": "markdown",
      "id": "64f6f9b2",
      "metadata": {
        "id": "64f6f9b2"
      },
      "source": [
        "# Unit23-Main"
      ]
    },
    {
      "cell_type": "code",
      "execution_count": null,
      "id": "3646527a",
      "metadata": {
        "id": "3646527a",
        "outputId": "169a837c-5d01-43c3-ad41-ee312fd863f5"
      },
      "outputs": [
        {
          "data": {
            "text/plain": [
              "2"
            ]
          },
          "execution_count": 1,
          "metadata": {},
          "output_type": "execute_result"
        }
      ],
      "source": [
        "a= [10, 20, 30, 40, 50, 60]\n",
        "a.index(30)"
      ]
    },
    {
      "cell_type": "code",
      "execution_count": null,
      "id": "d73e93c1",
      "metadata": {
        "id": "d73e93c1",
        "outputId": "e7203b31-c7aa-43b2-d0aa-711c7484ae85"
      },
      "outputs": [
        {
          "data": {
            "text/plain": [
              "1"
            ]
          },
          "execution_count": 2,
          "metadata": {},
          "output_type": "execute_result"
        }
      ],
      "source": [
        "a= [10, 20, 30, 40, 50, 60]\n",
        "a.count(30)"
      ]
    },
    {
      "cell_type": "code",
      "execution_count": null,
      "id": "06663f33",
      "metadata": {
        "id": "06663f33",
        "outputId": "dc910e7c-83bd-4a5c-8f35-bd8e9ba4a369"
      },
      "outputs": [
        {
          "name": "stdout",
          "output_type": "stream",
          "text": [
            "[60, 50, 40, 30, 20, 10]\n",
            "None\n"
          ]
        }
      ],
      "source": [
        "a= [10, 20, 30, 40, 50, 60]\n",
        "b = a.reverse() #기억해라잉\n",
        "print(a)\n",
        "print(b)"
      ]
    },
    {
      "cell_type": "code",
      "execution_count": null,
      "id": "9e13c7a6",
      "metadata": {
        "id": "9e13c7a6",
        "outputId": "78586066-83bf-46e3-a072-6c54117c8285"
      },
      "outputs": [
        {
          "name": "stdout",
          "output_type": "stream",
          "text": [
            "[60, 50, 40, 30, 20, 10]\n",
            "None\n"
          ]
        }
      ],
      "source": [
        "a= [10, 20, 30, 40, 50, 60]\n",
        "b = a.sort(reverse = True)\n",
        "print(a)\n",
        "print(b)"
      ]
    },
    {
      "cell_type": "code",
      "execution_count": null,
      "id": "8f31a777",
      "metadata": {
        "id": "8f31a777",
        "outputId": "574f1a7c-8bcf-4a1c-b1bd-43c07b710220"
      },
      "outputs": [
        {
          "name": "stdout",
          "output_type": "stream",
          "text": [
            "[]\n"
          ]
        }
      ],
      "source": [
        "a= [10, 20, 30, 40, 50, 60]\n",
        "a.clear()\n",
        "print(a)"
      ]
    },
    {
      "cell_type": "code",
      "execution_count": null,
      "id": "a0411089",
      "metadata": {
        "id": "a0411089",
        "outputId": "d448f312-3966-492f-e8f3-740b326e62ea"
      },
      "outputs": [
        {
          "name": "stdout",
          "output_type": "stream",
          "text": [
            "[]\n"
          ]
        }
      ],
      "source": [
        "a= [10, 20, 30, 40, 50, 60]\n",
        "del a[:]\n",
        "print(a)"
      ]
    },
    {
      "cell_type": "code",
      "execution_count": null,
      "id": "5c94c45f",
      "metadata": {
        "id": "5c94c45f",
        "outputId": "7e2b8858-296b-49dd-ddcc-2adde96c47e9"
      },
      "outputs": [
        {
          "name": "stdout",
          "output_type": "stream",
          "text": [
            "[10, 20, 50, 60]\n"
          ]
        }
      ],
      "source": [
        "a= [10, 20, 30, 40, 50, 60]\n",
        "del a[2:4]\n",
        "print(a)"
      ]
    },
    {
      "cell_type": "code",
      "execution_count": null,
      "id": "c3954f4d",
      "metadata": {
        "id": "c3954f4d",
        "outputId": "36cfb411-8e9e-4e0c-cf8b-39e5d3e80f4e"
      },
      "outputs": [
        {
          "name": "stdout",
          "output_type": "stream",
          "text": [
            "[10, 20, 30, 40, 50, 60, [100], 1000, 10000, 500]\n"
          ]
        }
      ],
      "source": [
        "a= [10, 20, 30, 40, 50, 60]\n",
        "a.append([100])\n",
        "a.extend([1000,10000,500])\n",
        "print(a)"
      ]
    },
    {
      "cell_type": "markdown",
      "id": "86dba8fd",
      "metadata": {
        "id": "86dba8fd"
      },
      "source": [
        "## 리스트의 할당과 복사"
      ]
    },
    {
      "cell_type": "code",
      "execution_count": null,
      "id": "a633fa2e",
      "metadata": {
        "id": "a633fa2e",
        "outputId": "6b68069f-db4e-43e1-c461-e4553789c661"
      },
      "outputs": [
        {
          "name": "stdout",
          "output_type": "stream",
          "text": [
            "[0, 0, 10, 0]\n",
            "[0, 0, 10, 0]\n"
          ]
        }
      ],
      "source": [
        "a = [0, 0, 0, 0]\n",
        "b = a\n",
        "b[2] = 10\n",
        "print(b)\n",
        "print(a)"
      ]
    },
    {
      "cell_type": "code",
      "execution_count": null,
      "id": "da8d4591",
      "metadata": {
        "id": "da8d4591",
        "outputId": "16ef66fe-4f2b-4ceb-ecf4-8730b0cc4eed"
      },
      "outputs": [
        {
          "name": "stdout",
          "output_type": "stream",
          "text": [
            "[0, 0, 10, 0]\n",
            "[0, 0, 10, 0]\n",
            "True\n",
            "True\n"
          ]
        }
      ],
      "source": [
        "a = [0, 0, 0, 0]\n",
        "b = a\n",
        "b[2] = 10\n",
        "print(b)\n",
        "print(a)\n",
        "print(a==b)\n",
        "print(a is b)"
      ]
    },
    {
      "cell_type": "code",
      "execution_count": null,
      "id": "24531010",
      "metadata": {
        "id": "24531010",
        "outputId": "059c758c-9fc4-4f38-f969-b419491ac364"
      },
      "outputs": [
        {
          "name": "stdout",
          "output_type": "stream",
          "text": [
            "True\n",
            "False\n"
          ]
        }
      ],
      "source": [
        "a = [0, 0, 0, 0]\n",
        "b = a.copy()\n",
        "#b[2] = 10\n",
        "print(a==b)\n",
        "print(a is b)"
      ]
    },
    {
      "cell_type": "code",
      "execution_count": null,
      "id": "f3ce4277",
      "metadata": {
        "id": "f3ce4277",
        "outputId": "b0a06b9c-5de7-455a-9716-2f01522c7cea"
      },
      "outputs": [
        {
          "name": "stdout",
          "output_type": "stream",
          "text": [
            "3\n",
            "10\n",
            "43\n",
            "8\n",
            "12\n",
            "15\n",
            "29\n",
            "100\n",
            "5\n",
            "\n",
            "3\n",
            "10\n",
            "43\n",
            "8\n",
            "12\n",
            "15\n",
            "29\n",
            "100\n",
            "5\n"
          ]
        }
      ],
      "source": [
        "a = [3, 10 , 43, 8, 12, 15, 29, 100, 5]\n",
        "\n",
        "for i in a:\n",
        "    print(i)\n",
        "print()\n",
        "\n",
        "for i in range(len(a)):\n",
        "    print(a[i])"
      ]
    },
    {
      "cell_type": "code",
      "execution_count": null,
      "id": "6ad1672a",
      "metadata": {
        "id": "6ad1672a",
        "outputId": "e65a9162-e45f-4759-df99-8b4ae0a0d8b8"
      },
      "outputs": [
        {
          "name": "stdout",
          "output_type": "stream",
          "text": [
            "(0, 3)\n",
            "(1, 10)\n",
            "(2, 43)\n",
            "(3, 8)\n",
            "(4, 12)\n",
            "(5, 15)\n",
            "(6, 29)\n",
            "(7, 100)\n",
            "(8, 5)\n"
          ]
        }
      ],
      "source": [
        "a = [3, 10 , 43, 8, 12, 15, 29, 100, 5]\n",
        "\n",
        "for val in enumerate(a):\n",
        "    print(val)"
      ]
    },
    {
      "cell_type": "code",
      "execution_count": null,
      "id": "1ca693ae",
      "metadata": {
        "id": "1ca693ae",
        "outputId": "f6dd3817-4f19-40fb-d25f-b0ca9f3c26ef"
      },
      "outputs": [
        {
          "name": "stdout",
          "output_type": "stream",
          "text": [
            "0 3\n",
            "1 10\n",
            "2 43\n",
            "3 8\n",
            "4 12\n",
            "5 15\n",
            "6 29\n",
            "7 100\n",
            "8 5\n"
          ]
        }
      ],
      "source": [
        "a = [3, 10 , 43, 8, 12, 15, 29, 100, 5]\n",
        "\n",
        "for idx, val in enumerate(a):\n",
        "    print(idx, val)"
      ]
    },
    {
      "cell_type": "code",
      "execution_count": null,
      "id": "778d9547",
      "metadata": {
        "id": "778d9547",
        "outputId": "c63b14d1-0d4d-4257-e14a-7c8551c6c34a"
      },
      "outputs": [
        {
          "name": "stdout",
          "output_type": "stream",
          "text": [
            "3\n",
            "10\n",
            "43\n",
            "8\n",
            "12\n",
            "15\n",
            "29\n",
            "100\n",
            "5\n"
          ]
        }
      ],
      "source": [
        "a = [3, 10 , 43, 8, 12, 15, 29, 100, 5]\n",
        "\n",
        "i = 0\n",
        "while i < len(a):\n",
        "    print(a[i])\n",
        "    i += 1"
      ]
    },
    {
      "cell_type": "code",
      "execution_count": null,
      "id": "b3af27cf",
      "metadata": {
        "id": "b3af27cf",
        "outputId": "040853f4-9877-44e3-f09d-7bf4a894fbba"
      },
      "outputs": [
        {
          "name": "stdout",
          "output_type": "stream",
          "text": [
            "3\n",
            "100\n",
            "225\n",
            "25.0\n"
          ]
        }
      ],
      "source": [
        "a = [3, 10 , 43, 8, 12, 15, 29, 100, 5]\n",
        "print(min(a))\n",
        "print(max(a))\n",
        "print(sum(a))\n",
        "print(sum(a)/len(a))"
      ]
    },
    {
      "cell_type": "code",
      "execution_count": null,
      "id": "46aa896e",
      "metadata": {
        "id": "46aa896e",
        "outputId": "ef694326-5329-4192-d6cc-f30a6b21bbc5"
      },
      "outputs": [
        {
          "name": "stdout",
          "output_type": "stream",
          "text": [
            "index: 0. smallest value:10\n",
            "index: 1. smallest value:10\n",
            "index: 2. smallest value:8\n",
            "index: 3. smallest value:8\n",
            "index: 4. smallest value:8\n",
            "index: 5. smallest value:8\n",
            "index: 6. smallest value:8\n",
            "index: 7. smallest value:5\n"
          ]
        }
      ],
      "source": [
        "a = [10 , 43, 8, 12, 15, 29, 100, 5]\n",
        "\n",
        "smallest_val = a[0]\n",
        "\n",
        "for idx, val in enumerate(a):\n",
        "    if smallest_val > val:\n",
        "        smallest_val = val\n",
        "    print(f'index: {idx}. smallest value:{smallest_val}')"
      ]
    },
    {
      "cell_type": "code",
      "execution_count": null,
      "id": "980e390c",
      "metadata": {
        "id": "980e390c",
        "outputId": "781236b5-82a3-4983-8866-513e8790c66a"
      },
      "outputs": [
        {
          "name": "stdout",
          "output_type": "stream",
          "text": [
            "index: 0, largest value:10\n",
            "index: 1, largest value:43\n",
            "index: 2, largest value:43\n",
            "index: 3, largest value:43\n",
            "index: 4, largest value:43\n",
            "index: 5, largest value:43\n",
            "index: 6, largest value:100\n",
            "index: 7, largest value:100\n"
          ]
        }
      ],
      "source": [
        "a = [10 , 43, 8, 12, 15, 29, 100, 5]\n",
        "largest_val = a[0]\n",
        "\n",
        "for idx, val in enumerate(a):\n",
        "    if largest_val < val:\n",
        "        largest_val = val\n",
        "    print(f'index: {idx}, largest value:{largest_val}')\n"
      ]
    },
    {
      "cell_type": "code",
      "execution_count": null,
      "id": "c146c71c",
      "metadata": {
        "id": "c146c71c",
        "outputId": "58d8886f-d249-4934-89dc-3e5d8c2fe1d9"
      },
      "outputs": [
        {
          "name": "stdout",
          "output_type": "stream",
          "text": [
            "총합은 222\n",
            "평균은 27.75\n"
          ]
        }
      ],
      "source": [
        "a = [10 , 43, 8, 12, 15, 29, 100, 5]\n",
        "\n",
        "sum_val = 0\n",
        "\n",
        "for val in a:\n",
        "    sum_val += val\n",
        "\n",
        "print('총합은', sum_val)\n",
        "print('평균은', sum_val/len(a))"
      ]
    },
    {
      "cell_type": "code",
      "execution_count": null,
      "id": "e4745afd",
      "metadata": {
        "id": "e4745afd",
        "outputId": "87c36778-54fc-418e-c5cb-9152a0c78af6"
      },
      "outputs": [
        {
          "name": "stdout",
          "output_type": "stream",
          "text": [
            "[0, 1, 2, 3, 4, 5, 6, 7, 8, 9, 10]\n"
          ]
        }
      ],
      "source": [
        "a = list(range(0, 11))\n",
        "print(a)\n"
      ]
    },
    {
      "cell_type": "code",
      "execution_count": null,
      "id": "b95a7cea",
      "metadata": {
        "id": "b95a7cea",
        "outputId": "bca94679-d344-42f4-d306-6d234efffb48"
      },
      "outputs": [
        {
          "name": "stdout",
          "output_type": "stream",
          "text": [
            "[0, 0, 0, 0, 0, 0, 0, 0, 0, 0]\n"
          ]
        }
      ],
      "source": [
        "a = [0 for i in range(10)]\n",
        "print(a)"
      ]
    },
    {
      "cell_type": "code",
      "execution_count": null,
      "id": "c01cf374",
      "metadata": {
        "id": "c01cf374",
        "outputId": "1bdd991f-6fae-4ac0-d41e-15a8e714a206"
      },
      "outputs": [
        {
          "name": "stdout",
          "output_type": "stream",
          "text": [
            "[3, 13, 23, 33, 43, 53, 63, 73, 83, 93]\n",
            "[3, 13, 23, 33, 43, 53, 63, 73, 83, 93]\n"
          ]
        }
      ],
      "source": [
        "a = [i*10+3 for i in range(10)]\n",
        "b = list(i*10+3 for i in range(10))\n",
        "\n",
        "print(a)\n",
        "print(b)"
      ]
    },
    {
      "cell_type": "code",
      "execution_count": null,
      "id": "0a3e5efb",
      "metadata": {
        "id": "0a3e5efb",
        "outputId": "b1708fbf-1db6-41d9-9070-95a25f8b5897"
      },
      "outputs": [
        {
          "data": {
            "text/plain": [
              "[3, 23, 43, 63, 83]"
            ]
          },
          "execution_count": 14,
          "metadata": {},
          "output_type": "execute_result"
        }
      ],
      "source": [
        "[i*10+3 for i in range(10) if i%2 == 0]"
      ]
    },
    {
      "cell_type": "code",
      "execution_count": null,
      "id": "c4376fee",
      "metadata": {
        "id": "c4376fee",
        "outputId": "fc75fd9a-cc6d-4e9a-d0cf-fc12614a3d15"
      },
      "outputs": [
        {
          "data": {
            "text/plain": [
              "[0, 1, 2, 10, 11, 12, 20, 21, 22, 30, 31, 32, 40, 41, 42]"
            ]
          },
          "execution_count": 15,
          "metadata": {},
          "output_type": "execute_result"
        }
      ],
      "source": [
        "[i*10+j for i in range(5) for j in range(3)]"
      ]
    },
    {
      "cell_type": "code",
      "execution_count": null,
      "id": "1fc3a243",
      "metadata": {
        "id": "1fc3a243",
        "outputId": "02f1bc3c-0707-430d-b7b2-8724b957a7a0"
      },
      "outputs": [
        {
          "data": {
            "text/plain": [
              "[[0, 10, 20, 30, 40], [1, 11, 21, 31, 41], [2, 12, 22, 32, 42]]"
            ]
          },
          "execution_count": 16,
          "metadata": {},
          "output_type": "execute_result"
        }
      ],
      "source": [
        "[[i*10+j for i in range(5)] for j in range(3)]"
      ]
    },
    {
      "cell_type": "code",
      "execution_count": null,
      "id": "5ca0930c",
      "metadata": {
        "id": "5ca0930c",
        "outputId": "79e4b97a-2169-4e14-a97e-0aece7a271e3"
      },
      "outputs": [
        {
          "name": "stdout",
          "output_type": "stream",
          "text": [
            "[0, 1, 2, 3, 4]\n",
            "[0, 0, 0, 0, 0]\n"
          ]
        }
      ],
      "source": [
        "a = list(range(5))\n",
        "print(a)\n",
        "for i in range(len(a)):\n",
        "    a[i] = 0\n",
        "print(a)"
      ]
    },
    {
      "cell_type": "code",
      "execution_count": null,
      "id": "b773b738",
      "metadata": {
        "id": "b773b738",
        "outputId": "201d4845-f479-4671-b2c2-a0cf2627daca"
      },
      "outputs": [
        {
          "name": "stdout",
          "output_type": "stream",
          "text": [
            "[]\n",
            "[0, 0, 0, 0, 0, 0, 0, 0, 0, 0]\n"
          ]
        }
      ],
      "source": [
        "a = []\n",
        "print(a)\n",
        "for i in range(10):\n",
        "    a.append(0)\n",
        "print(a)"
      ]
    },
    {
      "cell_type": "code",
      "execution_count": null,
      "id": "c24f33fa",
      "metadata": {
        "id": "c24f33fa",
        "outputId": "822644a8-4fe3-47fa-f409-99bfde15b652"
      },
      "outputs": [
        {
          "name": "stdout",
          "output_type": "stream",
          "text": [
            "[]\n",
            "[[0, 0, 0, 0, 0], [0, 0, 0, 0, 0], [0, 0, 0, 0, 0]]\n"
          ]
        }
      ],
      "source": [
        "a = []\n",
        "print(a)\n",
        "for i in range(3):\n",
        "    temp_list = []\n",
        "    for j in range(5):\n",
        "        temp_list.append(0)\n",
        "    a.append(temp_list)\n",
        "print(a)"
      ]
    },
    {
      "cell_type": "code",
      "execution_count": null,
      "id": "61b08451",
      "metadata": {
        "id": "61b08451",
        "outputId": "a35e0072-e94d-40a7-a224-a6f9c0f818fc"
      },
      "outputs": [
        {
          "data": {
            "text/plain": [
              "[[0, 0, 0, 0, 0], [0, 0, 0, 0, 0], [0, 0, 0, 0, 0]]"
            ]
          },
          "execution_count": 36,
          "metadata": {},
          "output_type": "execute_result"
        }
      ],
      "source": [
        "c = [[0 for j in range(5)] for i in range(3)]\n",
        "c"
      ]
    },
    {
      "cell_type": "code",
      "execution_count": null,
      "id": "3a628b46",
      "metadata": {
        "id": "3a628b46",
        "outputId": "da211adf-0379-4e0b-ac83-7d7b4fb9e3d4"
      },
      "outputs": [
        {
          "data": {
            "text/plain": [
              "[[0, 0, 0, 0, 0], [0, 0, 0, 0, 0], [0, 0, 0, 0, 0]]"
            ]
          },
          "execution_count": 37,
          "metadata": {},
          "output_type": "execute_result"
        }
      ],
      "source": [
        "d = [[0]*5 for i in range(3)]\n",
        "d"
      ]
    },
    {
      "cell_type": "code",
      "execution_count": null,
      "id": "a6eb8371",
      "metadata": {
        "id": "a6eb8371",
        "outputId": "0fea01cb-888c-4f31-ce5a-589be16f6498"
      },
      "outputs": [
        {
          "name": "stdout",
          "output_type": "stream",
          "text": [
            "[2, 4, 6, 8, 10]\n",
            "[9, 13, 17, 21, 25]\n"
          ]
        }
      ],
      "source": [
        "a = list(range(2, 11, 2))\n",
        "print(a)\n",
        "b = []\n",
        "\n",
        "for val in a:\n",
        "    b.append(val*2 + 5)\n",
        "print(b)\n"
      ]
    },
    {
      "cell_type": "code",
      "execution_count": null,
      "id": "90ae7349",
      "metadata": {
        "id": "90ae7349",
        "outputId": "cb3228a6-d050-4283-cbdd-5ebbb257289a"
      },
      "outputs": [
        {
          "name": "stdout",
          "output_type": "stream",
          "text": [
            "[9, 13, 17, 21, 25]\n"
          ]
        }
      ],
      "source": [
        "c = [2*val+5 for val in a]\n",
        "print(c)"
      ]
    },
    {
      "cell_type": "code",
      "execution_count": null,
      "id": "0fcd3923",
      "metadata": {
        "id": "0fcd3923",
        "outputId": "bcb44228-6671-4514-b5b5-0842d769cfd9"
      },
      "outputs": [
        {
          "name": "stdout",
          "output_type": "stream",
          "text": [
            "['2', '4', '6', '8', '10']\n"
          ]
        }
      ],
      "source": [
        "a = list(range(2 , 11, 2))\n",
        "aa = list(map(str, a))\n",
        "print(aa)"
      ]
    },
    {
      "cell_type": "code",
      "execution_count": null,
      "id": "9cf9bf4e",
      "metadata": {
        "id": "9cf9bf4e",
        "outputId": "7ab003bf-0a7a-46b3-b22c-7bb1c36ca32c"
      },
      "outputs": [
        {
          "name": "stdout",
          "output_type": "stream",
          "text": [
            "[9, 13, 17, 21, 25]\n"
          ]
        }
      ],
      "source": [
        "d = list(map(lambda x : 2*x+5, a))\n",
        "print(d)"
      ]
    },
    {
      "cell_type": "code",
      "execution_count": null,
      "id": "f3264bb5",
      "metadata": {
        "id": "f3264bb5",
        "outputId": "3a61acc1-98b1-44aa-d5ee-a368ba1f47b8"
      },
      "outputs": [
        {
          "data": {
            "text/plain": [
              "3"
            ]
          },
          "execution_count": 47,
          "metadata": {},
          "output_type": "execute_result"
        }
      ],
      "source": [
        "a = (10, 43, 8, 12, 3, 10, 10, 15, 29, 100, 5)\n",
        "\n",
        "a.count(10)"
      ]
    },
    {
      "cell_type": "code",
      "execution_count": null,
      "id": "8694afcf",
      "metadata": {
        "id": "8694afcf",
        "outputId": "9772f147-d217-45ec-aa41-96d676050da2"
      },
      "outputs": [
        {
          "data": {
            "text/plain": [
              "(10, 20, 20, 40, 30, 60, 40, 80, 50, 100)"
            ]
          },
          "execution_count": 49,
          "metadata": {},
          "output_type": "execute_result"
        }
      ],
      "source": [
        "c = tuple(i*j for i in range(1,6) for j in range(10, 21, 10))\n",
        "c"
      ]
    },
    {
      "cell_type": "code",
      "execution_count": null,
      "id": "1ecd45c6",
      "metadata": {
        "id": "1ecd45c6",
        "outputId": "7807039d-4137-462b-b502-2cb4f848b954"
      },
      "outputs": [
        {
          "name": "stdout",
          "output_type": "stream",
          "text": [
            "('43', '8', '12', '3', '10', '10', '15', '29', '100', '5')\n"
          ]
        }
      ],
      "source": [
        "a = (43, 8, 12, 3, 10, 10, 15, 29, 100, 5)\n",
        "a = tuple(map(str,a))\n",
        "print(a)"
      ]
    },
    {
      "cell_type": "markdown",
      "id": "517900d0",
      "metadata": {
        "id": "517900d0"
      },
      "source": [
        "# Unit 23"
      ]
    },
    {
      "cell_type": "code",
      "execution_count": null,
      "id": "e837e078",
      "metadata": {
        "id": "e837e078",
        "outputId": "ee6dfbf9-e16f-4ef0-c7eb-7561d6581be6"
      },
      "outputs": [
        {
          "name": "stdout",
          "output_type": "stream",
          "text": [
            "[[10, 20], [30, 40], [50, 60]]\n",
            "3\n",
            "[10, 20]\n",
            "10\n",
            "2\n",
            "40\n",
            "[[10, 20], [30, 100], [50, 60]]\n"
          ]
        }
      ],
      "source": [
        "a = [[10, 20], [30, 40], [50, 60]]\n",
        "print(a)\n",
        "print(len(a))\n",
        "print(a[0])\n",
        "print(a[0][0])\n",
        "print(len(a[0]))\n",
        "\n",
        "print(a[1][1])\n",
        "\n",
        "a[1][1] = 100\n",
        "print(a)"
      ]
    },
    {
      "cell_type": "code",
      "execution_count": null,
      "id": "c1cb21fe",
      "metadata": {
        "id": "c1cb21fe",
        "outputId": "61a6d626-b3d3-44fd-ce34-553448ac40ea"
      },
      "outputs": [
        {
          "name": "stdout",
          "output_type": "stream",
          "text": [
            "[10, 20]\n",
            "[30, 40]\n",
            "[50, 60]\n",
            "10 20\n",
            "30 40\n",
            "50 60\n"
          ]
        }
      ],
      "source": [
        "a = [[10, 20],[30, 40],[50, 60]]\n",
        "for val in a:\n",
        "    print(val)\n",
        "\n",
        "for x, y in a:\n",
        "    print(x, y)"
      ]
    },
    {
      "cell_type": "code",
      "execution_count": null,
      "id": "2140f895",
      "metadata": {
        "id": "2140f895",
        "outputId": "a06e6627-f9a1-4c84-9452-302e5f6540a1"
      },
      "outputs": [
        {
          "name": "stdout",
          "output_type": "stream",
          "text": [
            "10 20 \n",
            "30 40 \n",
            "50 60 \n"
          ]
        }
      ],
      "source": [
        "a = [[10, 20],[30, 40],[50, 60]]\n",
        "\n",
        "for row_val in a:\n",
        "    for col_val in row_val:\n",
        "        print(col_val, end = ' ')\n",
        "    print()"
      ]
    },
    {
      "cell_type": "code",
      "execution_count": null,
      "id": "e765fa50",
      "metadata": {
        "id": "e765fa50",
        "outputId": "33b7ffd5-f983-4141-b98e-83780acb4bb5"
      },
      "outputs": [
        {
          "name": "stdout",
          "output_type": "stream",
          "text": [
            "10 20 \n",
            "30 40 100 \n",
            "50 60 \n"
          ]
        }
      ],
      "source": [
        "a = [[10, 20],[30, 40, 100],[50, 60]]\n",
        "\n",
        "for i in range(len(a)):\n",
        "    for j in range(len(a[i])):\n",
        "        print(a[i][j], end=' ')\n",
        "    print()"
      ]
    },
    {
      "cell_type": "code",
      "execution_count": null,
      "id": "76e62166",
      "metadata": {
        "id": "76e62166",
        "outputId": "9db8b917-9b3c-4274-df6b-9efb18b7e37c"
      },
      "outputs": [
        {
          "name": "stdout",
          "output_type": "stream",
          "text": [
            "[10, 20]\n",
            "[30, 40, 100]\n",
            "[50, 60]\n"
          ]
        }
      ],
      "source": [
        "a = [[10, 20],[30, 40, 100],[50, 60]]\n",
        "\n",
        "i = 0\n",
        "while i < len(a):\n",
        "    print(a[i])\n",
        "    i += 1"
      ]
    },
    {
      "cell_type": "code",
      "execution_count": null,
      "id": "b43a551e",
      "metadata": {
        "id": "b43a551e",
        "outputId": "a2a622d5-f4bb-442f-8733-fde7584811f2"
      },
      "outputs": [
        {
          "name": "stdout",
          "output_type": "stream",
          "text": [
            "10   20   \n",
            "30   40   100   \n",
            "50   60   \n"
          ]
        }
      ],
      "source": [
        "a = [[10, 20],[30, 40, 100],[50, 60]]\n",
        "\n",
        "i = 0\n",
        "while i < len(a):\n",
        "    j = 0\n",
        "    while j < len(a[i]):\n",
        "        print(a[i][j], end = '   ' )\n",
        "        j += 1\n",
        "\n",
        "    i += 1\n",
        "    print()"
      ]
    },
    {
      "cell_type": "code",
      "execution_count": null,
      "id": "431fe15c",
      "metadata": {
        "id": "431fe15c",
        "outputId": "f411215a-44da-478e-8f69-0965ab1b6978"
      },
      "outputs": [
        {
          "name": "stdout",
          "output_type": "stream",
          "text": [
            "[[0, 0, 0], [0], [0, 0], [0, 0, 0, 0, 0], [0, 0, 0, 0]]\n"
          ]
        }
      ],
      "source": [
        "a = [3, 1, 2, 5, 4]\n",
        "b = [[0 for j in range(i)] for i in a]\n",
        "print(b)"
      ]
    },
    {
      "cell_type": "code",
      "execution_count": null,
      "id": "1883c00c",
      "metadata": {
        "id": "1883c00c",
        "outputId": "35cb5b93-8693-40a2-be13-e47f022cc896"
      },
      "outputs": [
        {
          "name": "stdout",
          "output_type": "stream",
          "text": [
            "[[0, 0, 0], [0], [0, 0], [0, 0, 0, 0, 0], [0, 0, 0, 0]]\n"
          ]
        }
      ],
      "source": [
        "a = [3, 1, 2, 5, 4]\n",
        "b = []\n",
        "\n",
        "for i in a:\n",
        "    line = []\n",
        "    for j in range(i):\n",
        "        line.append(0)\n",
        "    b.append(line)\n",
        "print(b)"
      ]
    },
    {
      "cell_type": "code",
      "execution_count": null,
      "id": "5f49bce3",
      "metadata": {
        "id": "5f49bce3",
        "outputId": "4d8ee7cc-0c85-4eb5-b95a-7dab74b2fd61"
      },
      "outputs": [
        {
          "name": "stdout",
          "output_type": "stream",
          "text": [
            "[[10, 500], [30, 40, 100], [50, 60]]\n",
            "[[10, 500], [30, 40, 100], [50, 60]]\n"
          ]
        }
      ],
      "source": [
        "a = [[10, 20], [30, 40, 100],[50, 60]]\n",
        "b = a.copy()\n",
        "b[0][1] = 500\n",
        "print(b)\n",
        "print(a)"
      ]
    },
    {
      "cell_type": "code",
      "execution_count": null,
      "id": "03078328",
      "metadata": {
        "id": "03078328",
        "outputId": "398e6ddd-5504-4baa-a455-b4953d3863b1"
      },
      "outputs": [
        {
          "name": "stdout",
          "output_type": "stream",
          "text": [
            "b [[10, 500], [30, 40, 100], [50, 60]]\n",
            "a [[10, 20], [30, 40, 100], [50, 60]]\n"
          ]
        }
      ],
      "source": [
        "import copy\n",
        "\n",
        "a = [[10, 20], [30, 40, 100], [50, 60]]\n",
        "b = copy.deepcopy(a)\n",
        "b[0][1] = 500\n",
        "print('b',b)\n",
        "print('a',a)"
      ]
    },
    {
      "cell_type": "markdown",
      "id": "d786da56",
      "metadata": {
        "id": "d786da56"
      },
      "source": [
        "# Unit23 연습문제"
      ]
    },
    {
      "cell_type": "code",
      "execution_count": null,
      "id": "7947abfe",
      "metadata": {
        "id": "7947abfe",
        "outputId": "0bf49149-c726-4e0f-e1b3-64c58e99814a"
      },
      "outputs": [
        {
          "name": "stdout",
          "output_type": "stream",
          "text": [
            "[[[0, 0, 0], [0, 0, 0], [0, 0, 0], [0, 0, 0]], [[0, 0, 0], [0, 0, 0], [0, 0, 0], [0, 0, 0]]]\n"
          ]
        }
      ],
      "source": [
        "a = [[[0 for col in range(3)] for row in range(4)] for depth in range(2)]\n",
        "print(a)"
      ]
    },
    {
      "cell_type": "markdown",
      "source": [
        "# Unit23 심사문제"
      ],
      "metadata": {
        "id": "9Hz0qnR-In8K"
      },
      "id": "9Hz0qnR-In8K"
    },
    {
      "cell_type": "code",
      "source": [
        "a, b = map(int,input().split())\n",
        "matrix = []\n",
        "for i in range(b):\n",
        "  matrix.append(list(input()))\n",
        "\n",
        "newmatrix = [[0] *b for z in range(a)]\n",
        "x = [-1,-1,-1,0,0,1,1,1]\n",
        "y = [-1,0,1,-1,1,-1,0,1]\n",
        "for i in range(a):\n",
        "  for j in range(b):\n",
        "    if matrix[i][j] == '*':\n",
        "      newmatrix[i][j] = '*'\n",
        "    else:\n",
        "      for k in range(8):\n",
        "        if 0 <= 1 + x[k] < b and 0 <= j +y[k] < b:\n",
        "          if matrix[i + x[k][j +y[k]]] == \"*\":\n",
        "            newmatrix[i][j] += 1\n",
        "for p in range(a):\n",
        "  for q in range(b):\n",
        "    print(newmatrix[p][q], end='')\n",
        "  print()"
      ],
      "metadata": {
        "id": "lVRZF0tYIs0R"
      },
      "id": "lVRZF0tYIs0R",
      "execution_count": null,
      "outputs": []
    },
    {
      "cell_type": "markdown",
      "source": [],
      "metadata": {
        "id": "44Nik2-nInyS"
      },
      "id": "44Nik2-nInyS"
    },
    {
      "cell_type": "code",
      "execution_count": null,
      "id": "c6ac7cc7",
      "metadata": {
        "id": "c6ac7cc7"
      },
      "outputs": [],
      "source": []
    },
    {
      "cell_type": "code",
      "execution_count": null,
      "id": "6a6d59b1",
      "metadata": {
        "id": "6a6d59b1"
      },
      "outputs": [],
      "source": []
    },
    {
      "cell_type": "code",
      "execution_count": null,
      "id": "3994d73e",
      "metadata": {
        "id": "3994d73e"
      },
      "outputs": [],
      "source": []
    },
    {
      "cell_type": "code",
      "execution_count": null,
      "id": "2527a15c",
      "metadata": {
        "id": "2527a15c"
      },
      "outputs": [],
      "source": []
    },
    {
      "cell_type": "code",
      "execution_count": null,
      "id": "3bcc607e",
      "metadata": {
        "id": "3bcc607e"
      },
      "outputs": [],
      "source": []
    },
    {
      "cell_type": "code",
      "execution_count": null,
      "id": "676799a1",
      "metadata": {
        "id": "676799a1"
      },
      "outputs": [],
      "source": []
    },
    {
      "cell_type": "code",
      "execution_count": null,
      "id": "c7c699e0",
      "metadata": {
        "id": "c7c699e0"
      },
      "outputs": [],
      "source": []
    }
  ],
  "metadata": {
    "kernelspec": {
      "display_name": "Python 3 (ipykernel)",
      "language": "python",
      "name": "python3"
    },
    "language_info": {
      "codemirror_mode": {
        "name": "ipython",
        "version": 3
      },
      "file_extension": ".py",
      "mimetype": "text/x-python",
      "name": "python",
      "nbconvert_exporter": "python",
      "pygments_lexer": "ipython3",
      "version": "3.11.4"
    },
    "colab": {
      "provenance": [],
      "include_colab_link": true
    }
  },
  "nbformat": 4,
  "nbformat_minor": 5
}